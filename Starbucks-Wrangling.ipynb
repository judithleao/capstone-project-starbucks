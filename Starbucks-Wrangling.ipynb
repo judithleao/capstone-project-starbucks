{
 "cells": [
  {
   "cell_type": "markdown",
   "id": "2707b931",
   "metadata": {},
   "source": [
    "# Data Wrangling\n",
    "\n",
    "There are standard data exploring and cleaning (section \"Inspecting data\") and basic data wrangling procedures (Step 1 of \"Transforming Data\") contained in this script. However, some heavier data transformations also happen in the \"Transforming Data\" section, with the most complex parts being 3 and 5. In step 3, view and complete events are allocated to offer received events. Block ids for these sets of events that identify which receive, view and complete belong together are created. In step 5, the transactions are allocated to these blocks."
   ]
  },
  {
   "cell_type": "markdown",
   "id": "4e2efda2",
   "metadata": {
    "heading_collapsed": true
   },
   "source": [
    "## References"
   ]
  },
  {
   "cell_type": "markdown",
   "id": "76a35dc8",
   "metadata": {
    "hidden": true
   },
   "source": [
    "[1] August 14, 2021, Data to Fish, 'How to convert Integers to datetime in Pandas DataFrame'. URL: https://datatofish.com/integers-datetime-pandas-dataframe/\n",
    "\n",
    "[2] Stackoverflow: https://stackoverflow.com/questions/6871201/plot-two-histograms-on-single-chart-with-matplotlib; Question by Open the way: https://stackoverflow.com/users/171546/open-the-way; Answer by Gustavo Bezerra: https://stackoverflow.com/users/2132753/gustavo-bezerra\n",
    "\n",
    "[3] Stackoverflow: https://stackoverflow.com/questions/53986451/calculate-date-difference-between-todays-date-and-pandas-date-series/53986547; Question by Shivam: https://stackoverflow.com/users/10851563/shivam; Answer by k88: https://stackoverflow.com/users/5682512/k88\n",
    "\n",
    "[4] Satckoverflow: https://stackoverflow.com/questions/2119472/convert-a-timedelta-to-days-hours-and-minutes; Question by Oli: https://stackoverflow.com/users/12870/oli; Answer by Alex Martelli: https://stackoverflow.com/users/95810/alex-martelli\n",
    "\n",
    "[5] Stackoverflow: https://stackoverflow.com/questions/45312377/how-to-one-hot-encode-from-a-pandas-column-containing-a-list; Question by Melsauce: https://stackoverflow.com/users/5858873/melsauce; Answer by piRsquared: https://stackoverflow.com/users/2336654/pirsquared\n",
    "\n",
    "[6] Stackoverflow: https://stackoverflow.com/questions/38231591/split-explode-a-column-of-dictionaries-into-separate-columns-with-pandas; Question by Ilaffin: https://stackoverflow.com/users/6157698/llaffin; Answer by joris: https://stackoverflow.com/users/653364/joris\n",
    "\n",
    "[7] Stackoverflow: https://stackoverflow.com/questions/34989341/how-to-remove-nan-value-while-combining-two-column-in-panda-data-frame; Question by imSonuGupta: https://stackoverflow.com/users/3101669/imsonugupta; Answer by jpp: https://stackoverflow.com/users/9209546/jpp\n",
    "\n",
    "[8] Stackoverflow: https://stackoverflow.com/questions/952914/how-to-make-a-flat-list-out-of-a-list-of-lists; Question by Emma: https://stackoverflow.com/users/110527/emma; Answer by Alex Martelli: https://stackoverflow.com/users/95810/alex-martelli\n",
    "\n",
    "[9] Stackoverflow: https://stackoverflow.com/questions/952914/how-to-make-a-flat-list-out-of-a-list-of-lists; Question by Emma: https://stackoverflow.com/users/110527/emma; Answer by Alex Martelli: https://stackoverflow.com/users/95810/alex-martelli\n",
    "\n",
    "[10] dfriends.com by Dan Friedman, April 15, 2019: https://dfrieds.com/data-analysis/rank-method-python-pandas.html\n",
    "\n",
    "[11] Stackoverflow: https://stackoverflow.com/questions/18837262/convert-python-dict-into-a-dataframe; Question by anonuser0428:https://stackoverflow.com/users/1009091/anonuser0428; Answer by ntg: https://stackoverflow.com/users/508907/ntg\n",
    "\n",
    "[12] Stackoverflow: https://stackoverflow.com/questions/38203352/expand-pandas-dataframe-column-into-multiple-rows; Question by gozzilli: https://stackoverflow.com/users/277113/gozzilli; Answer by philshem: https://stackoverflow.com/users/2327328/philshem\n",
    "\n",
    "[13] Stackoverflow: https://stackoverflow.com/questions/41415017/count-unique-values-using-pandas-groupby/41415028; Question by user1684046: https://stackoverflow.com/users/1684046/user1684046; Answer by jezrael: https://stackoverflow.com/users/2901002/jezrael"
   ]
  },
  {
   "cell_type": "markdown",
   "id": "2a732640",
   "metadata": {},
   "source": [
    "# Setup"
   ]
  },
  {
   "cell_type": "code",
   "execution_count": 1,
   "id": "2d20b8af",
   "metadata": {},
   "outputs": [],
   "source": [
    "import pandas as pd\n",
    "import numpy as np\n",
    "import seaborn as sns\n",
    "import math\n",
    "import json\n",
    "import os\n",
    "from matplotlib import pyplot as plt"
   ]
  },
  {
   "cell_type": "code",
   "execution_count": 2,
   "id": "466cc1ef",
   "metadata": {},
   "outputs": [],
   "source": [
    "os.chdir(r'C:\\Users\\j\\Documents\\udacity-ds-nanodegree\\starbucks-project')"
   ]
  },
  {
   "cell_type": "code",
   "execution_count": 3,
   "id": "5984fa96",
   "metadata": {},
   "outputs": [],
   "source": [
    "# Read in the json files\n",
    "portfolio = pd.read_json('data/portfolio.json', orient='records', lines=True)\n",
    "profile = pd.read_json('data/profile.json', orient='records', lines=True)\n",
    "transcript = pd.read_json('data/transcript.json', orient='records', lines=True)"
   ]
  },
  {
   "cell_type": "markdown",
   "id": "939bd903",
   "metadata": {},
   "source": [
    "# Inspect data\n",
    "\n",
    "In this section, I inspect all three dataframes to assert data quality, define steps for data cleaning, and get a first impression of the data.\n",
    "Further exploration can only be carried out after complex data transformations, which are also required to carry out the actual analysis."
   ]
  },
  {
   "cell_type": "code",
   "execution_count": 4,
   "id": "9d84e8e4",
   "metadata": {
    "scrolled": false
   },
   "outputs": [
    {
     "data": {
      "text/html": [
       "<div>\n",
       "<style scoped>\n",
       "    .dataframe tbody tr th:only-of-type {\n",
       "        vertical-align: middle;\n",
       "    }\n",
       "\n",
       "    .dataframe tbody tr th {\n",
       "        vertical-align: top;\n",
       "    }\n",
       "\n",
       "    .dataframe thead th {\n",
       "        text-align: right;\n",
       "    }\n",
       "</style>\n",
       "<table border=\"1\" class=\"dataframe\">\n",
       "  <thead>\n",
       "    <tr style=\"text-align: right;\">\n",
       "      <th></th>\n",
       "      <th>gender</th>\n",
       "      <th>age</th>\n",
       "      <th>id</th>\n",
       "      <th>became_member_on</th>\n",
       "      <th>income</th>\n",
       "    </tr>\n",
       "  </thead>\n",
       "  <tbody>\n",
       "    <tr>\n",
       "      <th>0</th>\n",
       "      <td>None</td>\n",
       "      <td>118</td>\n",
       "      <td>68be06ca386d4c31939f3a4f0e3dd783</td>\n",
       "      <td>20170212</td>\n",
       "      <td>NaN</td>\n",
       "    </tr>\n",
       "    <tr>\n",
       "      <th>1</th>\n",
       "      <td>F</td>\n",
       "      <td>55</td>\n",
       "      <td>0610b486422d4921ae7d2bf64640c50b</td>\n",
       "      <td>20170715</td>\n",
       "      <td>112000.0</td>\n",
       "    </tr>\n",
       "    <tr>\n",
       "      <th>2</th>\n",
       "      <td>None</td>\n",
       "      <td>118</td>\n",
       "      <td>38fe809add3b4fcf9315a9694bb96ff5</td>\n",
       "      <td>20180712</td>\n",
       "      <td>NaN</td>\n",
       "    </tr>\n",
       "    <tr>\n",
       "      <th>3</th>\n",
       "      <td>F</td>\n",
       "      <td>75</td>\n",
       "      <td>78afa995795e4d85b5d9ceeca43f5fef</td>\n",
       "      <td>20170509</td>\n",
       "      <td>100000.0</td>\n",
       "    </tr>\n",
       "    <tr>\n",
       "      <th>4</th>\n",
       "      <td>None</td>\n",
       "      <td>118</td>\n",
       "      <td>a03223e636434f42ac4c3df47e8bac43</td>\n",
       "      <td>20170804</td>\n",
       "      <td>NaN</td>\n",
       "    </tr>\n",
       "  </tbody>\n",
       "</table>\n",
       "</div>"
      ],
      "text/plain": [
       "  gender  age                                id  became_member_on    income\n",
       "0   None  118  68be06ca386d4c31939f3a4f0e3dd783          20170212       NaN\n",
       "1      F   55  0610b486422d4921ae7d2bf64640c50b          20170715  112000.0\n",
       "2   None  118  38fe809add3b4fcf9315a9694bb96ff5          20180712       NaN\n",
       "3      F   75  78afa995795e4d85b5d9ceeca43f5fef          20170509  100000.0\n",
       "4   None  118  a03223e636434f42ac4c3df47e8bac43          20170804       NaN"
      ]
     },
     "execution_count": 4,
     "metadata": {},
     "output_type": "execute_result"
    }
   ],
   "source": [
    "profile.head(5)"
   ]
  },
  {
   "cell_type": "code",
   "execution_count": 5,
   "id": "7dd93260",
   "metadata": {
    "scrolled": false
   },
   "outputs": [
    {
     "data": {
      "text/html": [
       "<div>\n",
       "<style scoped>\n",
       "    .dataframe tbody tr th:only-of-type {\n",
       "        vertical-align: middle;\n",
       "    }\n",
       "\n",
       "    .dataframe tbody tr th {\n",
       "        vertical-align: top;\n",
       "    }\n",
       "\n",
       "    .dataframe thead th {\n",
       "        text-align: right;\n",
       "    }\n",
       "</style>\n",
       "<table border=\"1\" class=\"dataframe\">\n",
       "  <thead>\n",
       "    <tr style=\"text-align: right;\">\n",
       "      <th></th>\n",
       "      <th>reward</th>\n",
       "      <th>channels</th>\n",
       "      <th>difficulty</th>\n",
       "      <th>duration</th>\n",
       "      <th>offer_type</th>\n",
       "      <th>id</th>\n",
       "    </tr>\n",
       "  </thead>\n",
       "  <tbody>\n",
       "    <tr>\n",
       "      <th>0</th>\n",
       "      <td>10</td>\n",
       "      <td>[email, mobile, social]</td>\n",
       "      <td>10</td>\n",
       "      <td>7</td>\n",
       "      <td>bogo</td>\n",
       "      <td>ae264e3637204a6fb9bb56bc8210ddfd</td>\n",
       "    </tr>\n",
       "    <tr>\n",
       "      <th>1</th>\n",
       "      <td>10</td>\n",
       "      <td>[web, email, mobile, social]</td>\n",
       "      <td>10</td>\n",
       "      <td>5</td>\n",
       "      <td>bogo</td>\n",
       "      <td>4d5c57ea9a6940dd891ad53e9dbe8da0</td>\n",
       "    </tr>\n",
       "    <tr>\n",
       "      <th>2</th>\n",
       "      <td>0</td>\n",
       "      <td>[web, email, mobile]</td>\n",
       "      <td>0</td>\n",
       "      <td>4</td>\n",
       "      <td>informational</td>\n",
       "      <td>3f207df678b143eea3cee63160fa8bed</td>\n",
       "    </tr>\n",
       "    <tr>\n",
       "      <th>3</th>\n",
       "      <td>5</td>\n",
       "      <td>[web, email, mobile]</td>\n",
       "      <td>5</td>\n",
       "      <td>7</td>\n",
       "      <td>bogo</td>\n",
       "      <td>9b98b8c7a33c4b65b9aebfe6a799e6d9</td>\n",
       "    </tr>\n",
       "    <tr>\n",
       "      <th>4</th>\n",
       "      <td>5</td>\n",
       "      <td>[web, email]</td>\n",
       "      <td>20</td>\n",
       "      <td>10</td>\n",
       "      <td>discount</td>\n",
       "      <td>0b1e1539f2cc45b7b9fa7c272da2e1d7</td>\n",
       "    </tr>\n",
       "    <tr>\n",
       "      <th>5</th>\n",
       "      <td>3</td>\n",
       "      <td>[web, email, mobile, social]</td>\n",
       "      <td>7</td>\n",
       "      <td>7</td>\n",
       "      <td>discount</td>\n",
       "      <td>2298d6c36e964ae4a3e7e9706d1fb8c2</td>\n",
       "    </tr>\n",
       "    <tr>\n",
       "      <th>6</th>\n",
       "      <td>2</td>\n",
       "      <td>[web, email, mobile, social]</td>\n",
       "      <td>10</td>\n",
       "      <td>10</td>\n",
       "      <td>discount</td>\n",
       "      <td>fafdcd668e3743c1bb461111dcafc2a4</td>\n",
       "    </tr>\n",
       "    <tr>\n",
       "      <th>7</th>\n",
       "      <td>0</td>\n",
       "      <td>[email, mobile, social]</td>\n",
       "      <td>0</td>\n",
       "      <td>3</td>\n",
       "      <td>informational</td>\n",
       "      <td>5a8bc65990b245e5a138643cd4eb9837</td>\n",
       "    </tr>\n",
       "    <tr>\n",
       "      <th>8</th>\n",
       "      <td>5</td>\n",
       "      <td>[web, email, mobile, social]</td>\n",
       "      <td>5</td>\n",
       "      <td>5</td>\n",
       "      <td>bogo</td>\n",
       "      <td>f19421c1d4aa40978ebb69ca19b0e20d</td>\n",
       "    </tr>\n",
       "    <tr>\n",
       "      <th>9</th>\n",
       "      <td>2</td>\n",
       "      <td>[web, email, mobile]</td>\n",
       "      <td>10</td>\n",
       "      <td>7</td>\n",
       "      <td>discount</td>\n",
       "      <td>2906b810c7d4411798c6938adc9daaa5</td>\n",
       "    </tr>\n",
       "  </tbody>\n",
       "</table>\n",
       "</div>"
      ],
      "text/plain": [
       "   reward                      channels  difficulty  duration     offer_type  \\\n",
       "0      10       [email, mobile, social]          10         7           bogo   \n",
       "1      10  [web, email, mobile, social]          10         5           bogo   \n",
       "2       0          [web, email, mobile]           0         4  informational   \n",
       "3       5          [web, email, mobile]           5         7           bogo   \n",
       "4       5                  [web, email]          20        10       discount   \n",
       "5       3  [web, email, mobile, social]           7         7       discount   \n",
       "6       2  [web, email, mobile, social]          10        10       discount   \n",
       "7       0       [email, mobile, social]           0         3  informational   \n",
       "8       5  [web, email, mobile, social]           5         5           bogo   \n",
       "9       2          [web, email, mobile]          10         7       discount   \n",
       "\n",
       "                                 id  \n",
       "0  ae264e3637204a6fb9bb56bc8210ddfd  \n",
       "1  4d5c57ea9a6940dd891ad53e9dbe8da0  \n",
       "2  3f207df678b143eea3cee63160fa8bed  \n",
       "3  9b98b8c7a33c4b65b9aebfe6a799e6d9  \n",
       "4  0b1e1539f2cc45b7b9fa7c272da2e1d7  \n",
       "5  2298d6c36e964ae4a3e7e9706d1fb8c2  \n",
       "6  fafdcd668e3743c1bb461111dcafc2a4  \n",
       "7  5a8bc65990b245e5a138643cd4eb9837  \n",
       "8  f19421c1d4aa40978ebb69ca19b0e20d  \n",
       "9  2906b810c7d4411798c6938adc9daaa5  "
      ]
     },
     "execution_count": 5,
     "metadata": {},
     "output_type": "execute_result"
    }
   ],
   "source": [
    "portfolio.head(10)"
   ]
  },
  {
   "cell_type": "code",
   "execution_count": 6,
   "id": "9610f505",
   "metadata": {
    "scrolled": false
   },
   "outputs": [
    {
     "data": {
      "text/html": [
       "<div>\n",
       "<style scoped>\n",
       "    .dataframe tbody tr th:only-of-type {\n",
       "        vertical-align: middle;\n",
       "    }\n",
       "\n",
       "    .dataframe tbody tr th {\n",
       "        vertical-align: top;\n",
       "    }\n",
       "\n",
       "    .dataframe thead th {\n",
       "        text-align: right;\n",
       "    }\n",
       "</style>\n",
       "<table border=\"1\" class=\"dataframe\">\n",
       "  <thead>\n",
       "    <tr style=\"text-align: right;\">\n",
       "      <th></th>\n",
       "      <th>person</th>\n",
       "      <th>event</th>\n",
       "      <th>value</th>\n",
       "      <th>time</th>\n",
       "    </tr>\n",
       "  </thead>\n",
       "  <tbody>\n",
       "    <tr>\n",
       "      <th>0</th>\n",
       "      <td>78afa995795e4d85b5d9ceeca43f5fef</td>\n",
       "      <td>offer received</td>\n",
       "      <td>{'offer id': '9b98b8c7a33c4b65b9aebfe6a799e6d9'}</td>\n",
       "      <td>0</td>\n",
       "    </tr>\n",
       "    <tr>\n",
       "      <th>1</th>\n",
       "      <td>a03223e636434f42ac4c3df47e8bac43</td>\n",
       "      <td>offer received</td>\n",
       "      <td>{'offer id': '0b1e1539f2cc45b7b9fa7c272da2e1d7'}</td>\n",
       "      <td>0</td>\n",
       "    </tr>\n",
       "    <tr>\n",
       "      <th>2</th>\n",
       "      <td>e2127556f4f64592b11af22de27a7932</td>\n",
       "      <td>offer received</td>\n",
       "      <td>{'offer id': '2906b810c7d4411798c6938adc9daaa5'}</td>\n",
       "      <td>0</td>\n",
       "    </tr>\n",
       "    <tr>\n",
       "      <th>3</th>\n",
       "      <td>8ec6ce2a7e7949b1bf142def7d0e0586</td>\n",
       "      <td>offer received</td>\n",
       "      <td>{'offer id': 'fafdcd668e3743c1bb461111dcafc2a4'}</td>\n",
       "      <td>0</td>\n",
       "    </tr>\n",
       "    <tr>\n",
       "      <th>4</th>\n",
       "      <td>68617ca6246f4fbc85e91a2a49552598</td>\n",
       "      <td>offer received</td>\n",
       "      <td>{'offer id': '4d5c57ea9a6940dd891ad53e9dbe8da0'}</td>\n",
       "      <td>0</td>\n",
       "    </tr>\n",
       "    <tr>\n",
       "      <th>5</th>\n",
       "      <td>389bc3fa690240e798340f5a15918d5c</td>\n",
       "      <td>offer received</td>\n",
       "      <td>{'offer id': 'f19421c1d4aa40978ebb69ca19b0e20d'}</td>\n",
       "      <td>0</td>\n",
       "    </tr>\n",
       "    <tr>\n",
       "      <th>6</th>\n",
       "      <td>c4863c7985cf408faee930f111475da3</td>\n",
       "      <td>offer received</td>\n",
       "      <td>{'offer id': '2298d6c36e964ae4a3e7e9706d1fb8c2'}</td>\n",
       "      <td>0</td>\n",
       "    </tr>\n",
       "    <tr>\n",
       "      <th>7</th>\n",
       "      <td>2eeac8d8feae4a8cad5a6af0499a211d</td>\n",
       "      <td>offer received</td>\n",
       "      <td>{'offer id': '3f207df678b143eea3cee63160fa8bed'}</td>\n",
       "      <td>0</td>\n",
       "    </tr>\n",
       "    <tr>\n",
       "      <th>8</th>\n",
       "      <td>aa4862eba776480b8bb9c68455b8c2e1</td>\n",
       "      <td>offer received</td>\n",
       "      <td>{'offer id': '0b1e1539f2cc45b7b9fa7c272da2e1d7'}</td>\n",
       "      <td>0</td>\n",
       "    </tr>\n",
       "    <tr>\n",
       "      <th>9</th>\n",
       "      <td>31dda685af34476cad5bc968bdb01c53</td>\n",
       "      <td>offer received</td>\n",
       "      <td>{'offer id': '0b1e1539f2cc45b7b9fa7c272da2e1d7'}</td>\n",
       "      <td>0</td>\n",
       "    </tr>\n",
       "  </tbody>\n",
       "</table>\n",
       "</div>"
      ],
      "text/plain": [
       "                             person           event  \\\n",
       "0  78afa995795e4d85b5d9ceeca43f5fef  offer received   \n",
       "1  a03223e636434f42ac4c3df47e8bac43  offer received   \n",
       "2  e2127556f4f64592b11af22de27a7932  offer received   \n",
       "3  8ec6ce2a7e7949b1bf142def7d0e0586  offer received   \n",
       "4  68617ca6246f4fbc85e91a2a49552598  offer received   \n",
       "5  389bc3fa690240e798340f5a15918d5c  offer received   \n",
       "6  c4863c7985cf408faee930f111475da3  offer received   \n",
       "7  2eeac8d8feae4a8cad5a6af0499a211d  offer received   \n",
       "8  aa4862eba776480b8bb9c68455b8c2e1  offer received   \n",
       "9  31dda685af34476cad5bc968bdb01c53  offer received   \n",
       "\n",
       "                                              value  time  \n",
       "0  {'offer id': '9b98b8c7a33c4b65b9aebfe6a799e6d9'}     0  \n",
       "1  {'offer id': '0b1e1539f2cc45b7b9fa7c272da2e1d7'}     0  \n",
       "2  {'offer id': '2906b810c7d4411798c6938adc9daaa5'}     0  \n",
       "3  {'offer id': 'fafdcd668e3743c1bb461111dcafc2a4'}     0  \n",
       "4  {'offer id': '4d5c57ea9a6940dd891ad53e9dbe8da0'}     0  \n",
       "5  {'offer id': 'f19421c1d4aa40978ebb69ca19b0e20d'}     0  \n",
       "6  {'offer id': '2298d6c36e964ae4a3e7e9706d1fb8c2'}     0  \n",
       "7  {'offer id': '3f207df678b143eea3cee63160fa8bed'}     0  \n",
       "8  {'offer id': '0b1e1539f2cc45b7b9fa7c272da2e1d7'}     0  \n",
       "9  {'offer id': '0b1e1539f2cc45b7b9fa7c272da2e1d7'}     0  "
      ]
     },
     "execution_count": 6,
     "metadata": {},
     "output_type": "execute_result"
    }
   ],
   "source": [
    "transcript.head(10)"
   ]
  },
  {
   "cell_type": "markdown",
   "id": "ac95246c",
   "metadata": {},
   "source": [
    "## profile data\n",
    "\n",
    "#### Summary of inspection of data in profile table:\n",
    "* As I cannot judge if this is a representative sample of the Starbucks App user population, I will assume it is.\n",
    "* The table only contains **unique records** of app-users. No deduplication is needed.\n",
    "* Around 12.8% of these users have **missing information** for all three demographic variables. I believe that this data should not be imputed. It cannot be *derived/predicted* from any other variables, as all other variables will be part of the prediction model. In addition, these demographic values will be important predictors for the model themselves, therefore imputation like using the mean/median or mode seems too \"rough\" an approach. I will instead check if the people without information are systematically different from those with information, and if not, I will drop the records. In order to make this assessment, the data needs to be transformed.\n",
    "* The **gender** is not 50-50, as would be expected from the general population. It is, however, possible that the split is representative of the wider Starbucks App subscriber population.\n",
    "* The **age** distribution suggests that the sample is rather old, which I find surprising for Stabrucks users. Other than that the age range seems plausible.\n",
    "* The  **income** appears to have been capped both at the lower and higher end. Other than that the distribution seems plausible, showing the typical right skew that income data often displays.\n",
    "* The **membership** column has no missings and the data range is plausible. Most memberships are more recent, which makes sense considering that consumers probably drop out after a certain amount of time."
   ]
  },
  {
   "cell_type": "code",
   "execution_count": 7,
   "id": "9c17670d",
   "metadata": {},
   "outputs": [
    {
     "name": "stdout",
     "output_type": "stream",
     "text": [
      "Number of unique user:  17000\n",
      "Number of users in df:  17000\n"
     ]
    }
   ],
   "source": [
    "# Number of unique users, check for duplicates\n",
    "print(\"Number of unique user: \", profile['id'].nunique())\n",
    "print(\"Number of users in df: \", profile.shape[0])"
   ]
  },
  {
   "cell_type": "code",
   "execution_count": 8,
   "id": "9ba94a9a",
   "metadata": {},
   "outputs": [
    {
     "name": "stdout",
     "output_type": "stream",
     "text": [
      "Categorical codes for gender column:  M    8484\n",
      "F    6129\n",
      "O     212\n",
      "Name: gender, dtype: int64\n",
      "Number of missing values in gender column:  2175\n"
     ]
    }
   ],
   "source": [
    "# Assess \"gender\" column\n",
    "print(\"Categorical codes for gender column: \",\n",
    "      profile['gender'].value_counts())\n",
    "print(\"Number of missing values in gender column: \",\n",
    "      profile['gender'].isna().sum())"
   ]
  },
  {
   "cell_type": "code",
   "execution_count": 9,
   "id": "3cfb89a6",
   "metadata": {},
   "outputs": [
    {
     "name": "stdout",
     "output_type": "stream",
     "text": [
      "Lowest age in dataset:  18.0\n",
      "Highest age in dataset:  101.0\n",
      "Number of missing values in age column:  2175\n"
     ]
    },
    {
     "data": {
      "image/png": "[encoded data removed]",
      "text/plain": [
       "<Figure size 432x288 with 1 Axes>"
      ]
     },
     "metadata": {
      "needs_background": "light"
     },
     "output_type": "display_data"
    }
   ],
   "source": [
    "# Assess \"age\" column distribution, code 118 is missing information\n",
    "# >> surprisingly old population considering company is Starbucks\n",
    "profile['age'].hist()\n",
    "\n",
    "# Recode 118 inta np.nan\n",
    "profile.loc[profile['age'] == 118, 'age'] = np.nan\n",
    "\n",
    "# Get min and max values, and missing values\n",
    "print(\"Lowest age in dataset: \", profile['age'].min())\n",
    "print(\"Highest age in dataset: \", profile['age'].max())\n",
    "print(\"Number of missing values in age column: \", profile['age'].isna().sum())"
   ]
  },
  {
   "cell_type": "code",
   "execution_count": 10,
   "id": "a918bb9b",
   "metadata": {
    "scrolled": true
   },
   "outputs": [
    {
     "name": "stdout",
     "output_type": "stream",
     "text": [
      "Lowest age in dataset:  30000.0\n",
      "Highest age in dataset:  120000.0\n",
      "Number of missing values in income column:  2175\n"
     ]
    },
    {
     "data": {
      "image/png": "[encoded data removed]",
      "text/plain": [
       "<Figure size 432x288 with 1 Axes>"
      ]
     },
     "metadata": {
      "needs_background": "light"
     },
     "output_type": "display_data"
    }
   ],
   "source": [
    "# Assess \"income\" column distribution\n",
    "# >> I assume income was cropped at a min and max value\n",
    "profile['income'].hist()\n",
    "\n",
    "# get min and max values, and missing values\n",
    "print(\"Lowest age in dataset: \", profile['income'].min())\n",
    "print(\"Highest age in dataset: \", profile['income'].max())\n",
    "print(\"Number of missing values in income column: \",\n",
    "      profile['income'].isna().sum())"
   ]
  },
  {
   "cell_type": "code",
   "execution_count": 11,
   "id": "a86edc83",
   "metadata": {},
   "outputs": [
    {
     "name": "stdout",
     "output_type": "stream",
     "text": [
      "Records that have all three demographic attributes missing:  2175\n"
     ]
    }
   ],
   "source": [
    "# Check if the missings are the same for all three columns\n",
    "all_missing = profile.loc[(profile['income'].isna()) & (\n",
    "    profile['age'].isna()) & (profile['gender'].isna())].shape[0]\n",
    "print(\"Records that have all three demographic attributes missing: \", all_missing)"
   ]
  },
  {
   "cell_type": "code",
   "execution_count": 12,
   "id": "d953c7f8",
   "metadata": {},
   "outputs": [
    {
     "data": {
      "text/plain": [
       "0.12794117647058822"
      ]
     },
     "execution_count": 12,
     "metadata": {},
     "output_type": "execute_result"
    }
   ],
   "source": [
    "# Assess share of records without demographic information out of all records\n",
    "all_missing/profile.shape[0]"
   ]
  },
  {
   "cell_type": "markdown",
   "id": "c7d7851f",
   "metadata": {},
   "source": [
    "Need to assess if those who did not provide demographic data are systematically different from those who did to decide if I can remove them from the sample. I will compare:\n",
    "* Incremental spend and offers completed: Those are variables that I will **predict**, so there should not be any bias in them\n",
    "In order to assess this, the data needs to be transformed. The assessment happens in the Analysis notebook."
   ]
  },
  {
   "cell_type": "code",
   "execution_count": 13,
   "id": "b4da1092",
   "metadata": {},
   "outputs": [],
   "source": [
    "# Assess \"membership\" column; Change to datetime format [1]\n",
    "profile['became_member_on'] = pd.to_datetime(\n",
    "    profile['became_member_on'], format='%Y%m%d')"
   ]
  },
  {
   "cell_type": "code",
   "execution_count": 14,
   "id": "f6ffa5c0",
   "metadata": {
    "scrolled": true
   },
   "outputs": [
    {
     "name": "stdout",
     "output_type": "stream",
     "text": [
      "Earliest membership date:  2013-07-29 00:00:00\n",
      "Latest membership date:  2018-07-26 00:00:00\n"
     ]
    },
    {
     "data": {
      "image/png": "[encoded data removed]",
      "text/plain": [
       "<Figure size 432x288 with 1 Axes>"
      ]
     },
     "metadata": {
      "needs_background": "light"
     },
     "output_type": "display_data"
    }
   ],
   "source": [
    "print(\"Earliest membership date: \", profile['became_member_on'].min())\n",
    "print(\"Latest membership date: \", profile['became_member_on'].max())\n",
    "profile['became_member_on'].hist()\n",
    "plt.show()"
   ]
  },
  {
   "cell_type": "markdown",
   "id": "24450be7",
   "metadata": {},
   "source": [
    "## portfolio data\n",
    "\n",
    "#### Summary of inspection of data in portfolio table\n",
    "* There is total of 10 offers\n",
    "* Intuitively, the expectation would be that a reward rises with difficulty, and that duration rises with difficulty. \n",
    "* When examining the data through scatterplots, this relationship is not actually that clear. There are some offers that appear  less attractive than others.\n",
    "* However, these offers vary on further attributes, like type and channels"
   ]
  },
  {
   "cell_type": "code",
   "execution_count": 15,
   "id": "2d4eafba",
   "metadata": {
    "scrolled": false
   },
   "outputs": [
    {
     "data": {
      "text/html": [
       "<div>\n",
       "<style scoped>\n",
       "    .dataframe tbody tr th:only-of-type {\n",
       "        vertical-align: middle;\n",
       "    }\n",
       "\n",
       "    .dataframe tbody tr th {\n",
       "        vertical-align: top;\n",
       "    }\n",
       "\n",
       "    .dataframe thead th {\n",
       "        text-align: right;\n",
       "    }\n",
       "</style>\n",
       "<table border=\"1\" class=\"dataframe\">\n",
       "  <thead>\n",
       "    <tr style=\"text-align: right;\">\n",
       "      <th></th>\n",
       "      <th>reward</th>\n",
       "      <th>channels</th>\n",
       "      <th>difficulty</th>\n",
       "      <th>duration</th>\n",
       "      <th>offer_type</th>\n",
       "      <th>id</th>\n",
       "    </tr>\n",
       "  </thead>\n",
       "  <tbody>\n",
       "    <tr>\n",
       "      <th>0</th>\n",
       "      <td>10</td>\n",
       "      <td>[email, mobile, social]</td>\n",
       "      <td>10</td>\n",
       "      <td>7</td>\n",
       "      <td>bogo</td>\n",
       "      <td>ae264e3637204a6fb9bb56bc8210ddfd</td>\n",
       "    </tr>\n",
       "    <tr>\n",
       "      <th>1</th>\n",
       "      <td>10</td>\n",
       "      <td>[web, email, mobile, social]</td>\n",
       "      <td>10</td>\n",
       "      <td>5</td>\n",
       "      <td>bogo</td>\n",
       "      <td>4d5c57ea9a6940dd891ad53e9dbe8da0</td>\n",
       "    </tr>\n",
       "    <tr>\n",
       "      <th>3</th>\n",
       "      <td>5</td>\n",
       "      <td>[web, email, mobile]</td>\n",
       "      <td>5</td>\n",
       "      <td>7</td>\n",
       "      <td>bogo</td>\n",
       "      <td>9b98b8c7a33c4b65b9aebfe6a799e6d9</td>\n",
       "    </tr>\n",
       "    <tr>\n",
       "      <th>8</th>\n",
       "      <td>5</td>\n",
       "      <td>[web, email, mobile, social]</td>\n",
       "      <td>5</td>\n",
       "      <td>5</td>\n",
       "      <td>bogo</td>\n",
       "      <td>f19421c1d4aa40978ebb69ca19b0e20d</td>\n",
       "    </tr>\n",
       "    <tr>\n",
       "      <th>4</th>\n",
       "      <td>5</td>\n",
       "      <td>[web, email]</td>\n",
       "      <td>20</td>\n",
       "      <td>10</td>\n",
       "      <td>discount</td>\n",
       "      <td>0b1e1539f2cc45b7b9fa7c272da2e1d7</td>\n",
       "    </tr>\n",
       "    <tr>\n",
       "      <th>5</th>\n",
       "      <td>3</td>\n",
       "      <td>[web, email, mobile, social]</td>\n",
       "      <td>7</td>\n",
       "      <td>7</td>\n",
       "      <td>discount</td>\n",
       "      <td>2298d6c36e964ae4a3e7e9706d1fb8c2</td>\n",
       "    </tr>\n",
       "    <tr>\n",
       "      <th>6</th>\n",
       "      <td>2</td>\n",
       "      <td>[web, email, mobile, social]</td>\n",
       "      <td>10</td>\n",
       "      <td>10</td>\n",
       "      <td>discount</td>\n",
       "      <td>fafdcd668e3743c1bb461111dcafc2a4</td>\n",
       "    </tr>\n",
       "    <tr>\n",
       "      <th>9</th>\n",
       "      <td>2</td>\n",
       "      <td>[web, email, mobile]</td>\n",
       "      <td>10</td>\n",
       "      <td>7</td>\n",
       "      <td>discount</td>\n",
       "      <td>2906b810c7d4411798c6938adc9daaa5</td>\n",
       "    </tr>\n",
       "    <tr>\n",
       "      <th>2</th>\n",
       "      <td>0</td>\n",
       "      <td>[web, email, mobile]</td>\n",
       "      <td>0</td>\n",
       "      <td>4</td>\n",
       "      <td>informational</td>\n",
       "      <td>3f207df678b143eea3cee63160fa8bed</td>\n",
       "    </tr>\n",
       "    <tr>\n",
       "      <th>7</th>\n",
       "      <td>0</td>\n",
       "      <td>[email, mobile, social]</td>\n",
       "      <td>0</td>\n",
       "      <td>3</td>\n",
       "      <td>informational</td>\n",
       "      <td>5a8bc65990b245e5a138643cd4eb9837</td>\n",
       "    </tr>\n",
       "  </tbody>\n",
       "</table>\n",
       "</div>"
      ],
      "text/plain": [
       "   reward                      channels  difficulty  duration     offer_type  \\\n",
       "0      10       [email, mobile, social]          10         7           bogo   \n",
       "1      10  [web, email, mobile, social]          10         5           bogo   \n",
       "3       5          [web, email, mobile]           5         7           bogo   \n",
       "8       5  [web, email, mobile, social]           5         5           bogo   \n",
       "4       5                  [web, email]          20        10       discount   \n",
       "5       3  [web, email, mobile, social]           7         7       discount   \n",
       "6       2  [web, email, mobile, social]          10        10       discount   \n",
       "9       2          [web, email, mobile]          10         7       discount   \n",
       "2       0          [web, email, mobile]           0         4  informational   \n",
       "7       0       [email, mobile, social]           0         3  informational   \n",
       "\n",
       "                                 id  \n",
       "0  ae264e3637204a6fb9bb56bc8210ddfd  \n",
       "1  4d5c57ea9a6940dd891ad53e9dbe8da0  \n",
       "3  9b98b8c7a33c4b65b9aebfe6a799e6d9  \n",
       "8  f19421c1d4aa40978ebb69ca19b0e20d  \n",
       "4  0b1e1539f2cc45b7b9fa7c272da2e1d7  \n",
       "5  2298d6c36e964ae4a3e7e9706d1fb8c2  \n",
       "6  fafdcd668e3743c1bb461111dcafc2a4  \n",
       "9  2906b810c7d4411798c6938adc9daaa5  \n",
       "2  3f207df678b143eea3cee63160fa8bed  \n",
       "7  5a8bc65990b245e5a138643cd4eb9837  "
      ]
     },
     "execution_count": 15,
     "metadata": {},
     "output_type": "execute_result"
    }
   ],
   "source": [
    "portfolio.head(10).sort_values(by=['offer_type'])"
   ]
  },
  {
   "cell_type": "code",
   "execution_count": 16,
   "id": "b5b2dd9a",
   "metadata": {},
   "outputs": [
    {
     "data": {
      "text/plain": [
       "10"
      ]
     },
     "execution_count": 16,
     "metadata": {},
     "output_type": "execute_result"
    }
   ],
   "source": [
    "# Check uniqueness of offer ids\n",
    "portfolio['id'].nunique()"
   ]
  },
  {
   "cell_type": "code",
   "execution_count": 17,
   "id": "b9c7c492",
   "metadata": {},
   "outputs": [
    {
     "data": {
      "image/png": "[encoded data removed]",
      "text/plain": [
       "<Figure size 432x288 with 1 Axes>"
      ]
     },
     "metadata": {
      "needs_background": "light"
     },
     "output_type": "display_data"
    }
   ],
   "source": [
    "# Number of offers per type\n",
    "portfolio['offer_type'].hist()\n",
    "plt.show()"
   ]
  },
  {
   "cell_type": "code",
   "execution_count": 18,
   "id": "d81cefd2",
   "metadata": {},
   "outputs": [
    {
     "data": {
      "image/png": "[encoded data removed]",
      "text/plain": [
       "<Figure size 432x288 with 1 Axes>"
      ]
     },
     "metadata": {
      "needs_background": "light"
     },
     "output_type": "display_data"
    }
   ],
   "source": [
    "# Examine relationship between attributes\n",
    "plt.scatter(portfolio['reward'], portfolio['difficulty'])\n",
    "plt.xlabel('reward')\n",
    "plt.ylabel('difficulty')\n",
    "plt.show()"
   ]
  },
  {
   "cell_type": "code",
   "execution_count": 19,
   "id": "d159c96a",
   "metadata": {},
   "outputs": [
    {
     "data": {
      "image/png": "[encoded data removed]",
      "text/plain": [
       "<Figure size 432x288 with 1 Axes>"
      ]
     },
     "metadata": {
      "needs_background": "light"
     },
     "output_type": "display_data"
    }
   ],
   "source": [
    "# Examine relationship between attributes\n",
    "plt.scatter(portfolio['duration'], portfolio['difficulty'])\n",
    "plt.xlabel('duration')\n",
    "plt.ylabel('difficulty')\n",
    "plt.show()"
   ]
  },
  {
   "cell_type": "markdown",
   "id": "15b005fb",
   "metadata": {},
   "source": [
    "## transaction data\n",
    "\n",
    "#### Summary of inspection of data in transaction table\n",
    "* The logical funnel for an offer is *receive >> view >> complete*\n",
    "* However, this funnel can be shortened to *receive >> view* and also to *receive >> complete*, or switched to *receive >> complete >> view*\n",
    "* The maximum number of offers someone can receive is 6\n",
    "* Most people receive 5 offers\n",
    "* Most people view 3 offers\n",
    "* Most people complete 2 offers"
   ]
  },
  {
   "cell_type": "code",
   "execution_count": 21,
   "id": "a2adcdb3",
   "metadata": {
    "scrolled": true
   },
   "outputs": [],
   "source": [
    "# How many offers does a person receive?\n",
    "offers_h = transcript.loc[transcript['event'] ==\n",
    "                          'offer received'].groupby(['person']).size()\n",
    "views_h = transcript.loc[transcript['event'] ==\n",
    "                         'offer viewed'].groupby(['person']).size()\n",
    "completes_h = transcript.loc[transcript['event']\n",
    "                             == 'offer completed'].groupby(['person']).size()"
   ]
  },
  {
   "cell_type": "code",
   "execution_count": 23,
   "id": "26675d96",
   "metadata": {},
   "outputs": [
    {
     "data": {
      "text/plain": [
       "6"
      ]
     },
     "execution_count": 23,
     "metadata": {},
     "output_type": "execute_result"
    }
   ],
   "source": [
    "# max number of offers, needed to define bins in histogram\n",
    "offers_h.max()"
   ]
  },
  {
   "cell_type": "code",
   "execution_count": 24,
   "id": "44dac770",
   "metadata": {},
   "outputs": [
    {
     "data": {
      "image/png": "[encoded data removed]",
      "text/plain": [
       "<Figure size 432x288 with 1 Axes>"
      ]
     },
     "metadata": {
      "needs_background": "light"
     },
     "output_type": "display_data"
    }
   ],
   "source": [
    "# [2]\n",
    "plt.hist([offers_h, views_h, completes_h], bins=[1, 2, 3, 4, 5, 6, 7],\n",
    "         align='left', label=['received', 'viewed', 'completed'])\n",
    "plt.legend()\n",
    "plt.show()"
   ]
  },
  {
   "cell_type": "markdown",
   "id": "65081184",
   "metadata": {},
   "source": [
    "# Transform data\n",
    "* **Step 1:** Wrangle all three dataframes and create master df which is based on transaction frame but without transactions. This df will be transformed to be fit for analysis.\n",
    "* **Step 2:** Answer some relevant questions about the general experimental setup\n",
    "* **Step 3:** Transform master df to create a table which has one record per person and offer, and which contains additional information on this particular offer (e.g. if it was viewed or completed)\n",
    "* **Step 4:** Create derived variables\n",
    "* **Step 5:** Add transaction value; Create dataframe which only contains offers that consumer was aware of.\n",
    "* **Step 6:** Create final dataframe for analysis with variable \"incremental spend\""
   ]
  },
  {
   "cell_type": "markdown",
   "id": "35a5f9a2",
   "metadata": {},
   "source": [
    "## Step 1: Wrangle all three dataframes"
   ]
  },
  {
   "cell_type": "markdown",
   "id": "cbcc3fc8",
   "metadata": {},
   "source": [
    "### profile data"
   ]
  },
  {
   "cell_type": "code",
   "execution_count": 25,
   "id": "2309de7c",
   "metadata": {
    "scrolled": false
   },
   "outputs": [],
   "source": [
    "# Calculate duration of membership [1][3][4]\n",
    "profile['became_member_on'] = pd.to_datetime(\n",
    "    profile['became_member_on'], format='%Y%m%d')\n",
    "profile['membership_duration'] = profile['became_member_on'] - \\\n",
    "    pd.to_datetime(\"now\")\n",
    "profile['membership_duration'] = profile['membership_duration'].dt.days"
   ]
  },
  {
   "cell_type": "markdown",
   "id": "b7028945",
   "metadata": {},
   "source": [
    "### portfolio data"
   ]
  },
  {
   "cell_type": "code",
   "execution_count": 26,
   "id": "09801371",
   "metadata": {
    "scrolled": true
   },
   "outputs": [],
   "source": [
    "# Calculate until when offer is valid\n",
    "portfolio = portfolio.rename(columns={'reward': 'offer_reward', 'channels': 'offer_channels',\n",
    "                             'difficulty': 'offer_difficulty', 'duration': 'offer_duration'})\n",
    "portfolio['offer_duration'] = portfolio['offer_duration']*24\n",
    "portfolio['offer_valid_until'] = np.nan\n",
    "\n",
    "\n",
    "# One-hot-encoding channels [5]\n",
    "portfolio = portfolio.drop('offer_channels', 1).join(\n",
    "    portfolio['offer_channels'].str.join('|').str.get_dummies())"
   ]
  },
  {
   "cell_type": "markdown",
   "id": "da855cf0",
   "metadata": {},
   "source": [
    "### transaction data"
   ]
  },
  {
   "cell_type": "code",
   "execution_count": 27,
   "id": "016d943f",
   "metadata": {},
   "outputs": [],
   "source": [
    "# Create master frame [6]\n",
    "# Turn the value column which lists different events into separate columns\n",
    "master = pd.concat([transcript, pd.DataFrame(\n",
    "    transcript['value'].tolist())], axis=1)\n",
    "\n",
    "# There are cases where the offer id is offer_id in the 'value' dictionary. Need to combine both columns. [7]\n",
    "master['offer id'].update(master.pop('offer_id'))\n",
    "master = master.rename(columns={\n",
    "                       'offer id': 'event_offer_id', 'amount': 'event_amount', 'reward': 'event_reward'})\n",
    "\n",
    "# Remove all transaction records\n",
    "master = master.loc[master['event'] != 'transaction']\n",
    "# Remove event_amount column as not needed\n",
    "master = master.drop('event_amount', axis=1)"
   ]
  },
  {
   "cell_type": "code",
   "execution_count": 28,
   "id": "746bf5fc",
   "metadata": {},
   "outputs": [],
   "source": [
    "# Merge portfolio table\n",
    "master = pd.merge(master, portfolio[['offer_type', 'offer_reward', 'offer_difficulty', 'offer_duration', 'email',\n",
    "                  'web', 'social', 'mobile']], how='left', left_on=master['event_offer_id'], right_on=portfolio['id'])\n",
    "master = master.drop('key_0', axis=1)\n",
    "\n",
    "# Create derived variable offer_valid_until\n",
    "master.loc[master['event'] == 'offer received',\n",
    "           'offer_valid_until'] = master['time'] + master['offer_duration']\n",
    "# Offer cannot be valid for longer than the duration of the experiment for purposes of this analysis\n",
    "# Total hours of experiment\n",
    "max_hour = transcript['time'].max()\n",
    "master.loc[master['offer_valid_until'] >\n",
    "           max_hour, 'offer_valid_until'] = max_hour"
   ]
  },
  {
   "cell_type": "markdown",
   "id": "2fb89cc7",
   "metadata": {},
   "source": [
    "## Step 2: Understand experiment setup in more detail"
   ]
  },
  {
   "cell_type": "markdown",
   "id": "ee04132f",
   "metadata": {},
   "source": [
    "### When do offers get sent out?\n",
    "At 6 distinct points in time. They are not spaced out evenly, and a slightly different amount of offers is sent out each time"
   ]
  },
  {
   "cell_type": "code",
   "execution_count": 29,
   "id": "a83f56ce",
   "metadata": {},
   "outputs": [],
   "source": [
    "master_receive = master.loc[master['event'] == 'offer received']\n",
    "master_receive_gr = pd.DataFrame(\n",
    "    master_receive.groupby(['time']).size().reset_index())"
   ]
  },
  {
   "cell_type": "code",
   "execution_count": 30,
   "id": "1ef60e85",
   "metadata": {},
   "outputs": [
    {
     "data": {
      "text/html": [
       "<div>\n",
       "<style scoped>\n",
       "    .dataframe tbody tr th:only-of-type {\n",
       "        vertical-align: middle;\n",
       "    }\n",
       "\n",
       "    .dataframe tbody tr th {\n",
       "        vertical-align: top;\n",
       "    }\n",
       "\n",
       "    .dataframe thead th {\n",
       "        text-align: right;\n",
       "    }\n",
       "</style>\n",
       "<table border=\"1\" class=\"dataframe\">\n",
       "  <thead>\n",
       "    <tr style=\"text-align: right;\">\n",
       "      <th></th>\n",
       "      <th>time</th>\n",
       "      <th>0</th>\n",
       "    </tr>\n",
       "  </thead>\n",
       "  <tbody>\n",
       "    <tr>\n",
       "      <th>0</th>\n",
       "      <td>0</td>\n",
       "      <td>12650</td>\n",
       "    </tr>\n",
       "    <tr>\n",
       "      <th>1</th>\n",
       "      <td>168</td>\n",
       "      <td>12669</td>\n",
       "    </tr>\n",
       "    <tr>\n",
       "      <th>2</th>\n",
       "      <td>336</td>\n",
       "      <td>12711</td>\n",
       "    </tr>\n",
       "    <tr>\n",
       "      <th>3</th>\n",
       "      <td>408</td>\n",
       "      <td>12778</td>\n",
       "    </tr>\n",
       "    <tr>\n",
       "      <th>4</th>\n",
       "      <td>504</td>\n",
       "      <td>12704</td>\n",
       "    </tr>\n",
       "    <tr>\n",
       "      <th>5</th>\n",
       "      <td>576</td>\n",
       "      <td>12765</td>\n",
       "    </tr>\n",
       "  </tbody>\n",
       "</table>\n",
       "</div>"
      ],
      "text/plain": [
       "   time      0\n",
       "0     0  12650\n",
       "1   168  12669\n",
       "2   336  12711\n",
       "3   408  12778\n",
       "4   504  12704\n",
       "5   576  12765"
      ]
     },
     "execution_count": 30,
     "metadata": {},
     "output_type": "execute_result"
    }
   ],
   "source": [
    "master_receive_gr"
   ]
  },
  {
   "cell_type": "code",
   "execution_count": 31,
   "id": "2defb5e7",
   "metadata": {
    "scrolled": false
   },
   "outputs": [
    {
     "data": {
      "image/png": "[encoded data removed]",
      "text/plain": [
       "<Figure size 432x288 with 1 Axes>"
      ]
     },
     "metadata": {
      "needs_background": "light"
     },
     "output_type": "display_data"
    }
   ],
   "source": [
    "minor_ticks = np.arange(0, 600, 24)\n",
    "plt.scatter(master_receive_gr['time'], master_receive_gr[0])\n",
    "plt.grid(axis='x')\n",
    "plt.show()"
   ]
  },
  {
   "cell_type": "markdown",
   "id": "5e7b9dd3",
   "metadata": {},
   "source": [
    "### Does a specific offer only get sent out at one point in time? \n",
    "No\n",
    "### Do different offers get sent out at the same time?\n",
    "Yes"
   ]
  },
  {
   "cell_type": "code",
   "execution_count": 32,
   "id": "fd8300a5",
   "metadata": {
    "scrolled": true
   },
   "outputs": [
    {
     "data": {
      "text/html": [
       "<div>\n",
       "<style scoped>\n",
       "    .dataframe tbody tr th:only-of-type {\n",
       "        vertical-align: middle;\n",
       "    }\n",
       "\n",
       "    .dataframe tbody tr th {\n",
       "        vertical-align: top;\n",
       "    }\n",
       "\n",
       "    .dataframe thead th {\n",
       "        text-align: right;\n",
       "    }\n",
       "</style>\n",
       "<table border=\"1\" class=\"dataframe\">\n",
       "  <thead>\n",
       "    <tr style=\"text-align: right;\">\n",
       "      <th>time</th>\n",
       "      <th>0</th>\n",
       "      <th>168</th>\n",
       "      <th>336</th>\n",
       "      <th>408</th>\n",
       "      <th>504</th>\n",
       "      <th>576</th>\n",
       "    </tr>\n",
       "    <tr>\n",
       "      <th>event_offer_id</th>\n",
       "      <th></th>\n",
       "      <th></th>\n",
       "      <th></th>\n",
       "      <th></th>\n",
       "      <th></th>\n",
       "      <th></th>\n",
       "    </tr>\n",
       "  </thead>\n",
       "  <tbody>\n",
       "    <tr>\n",
       "      <th>0b1e1539f2cc45b7b9fa7c272da2e1d7</th>\n",
       "      <td>1297</td>\n",
       "      <td>1245</td>\n",
       "      <td>1322</td>\n",
       "      <td>1269</td>\n",
       "      <td>1258</td>\n",
       "      <td>1277</td>\n",
       "    </tr>\n",
       "    <tr>\n",
       "      <th>2298d6c36e964ae4a3e7e9706d1fb8c2</th>\n",
       "      <td>1221</td>\n",
       "      <td>1250</td>\n",
       "      <td>1301</td>\n",
       "      <td>1274</td>\n",
       "      <td>1286</td>\n",
       "      <td>1314</td>\n",
       "    </tr>\n",
       "    <tr>\n",
       "      <th>2906b810c7d4411798c6938adc9daaa5</th>\n",
       "      <td>1257</td>\n",
       "      <td>1270</td>\n",
       "      <td>1263</td>\n",
       "      <td>1335</td>\n",
       "      <td>1286</td>\n",
       "      <td>1221</td>\n",
       "    </tr>\n",
       "    <tr>\n",
       "      <th>3f207df678b143eea3cee63160fa8bed</th>\n",
       "      <td>1273</td>\n",
       "      <td>1266</td>\n",
       "      <td>1279</td>\n",
       "      <td>1275</td>\n",
       "      <td>1229</td>\n",
       "      <td>1295</td>\n",
       "    </tr>\n",
       "    <tr>\n",
       "      <th>4d5c57ea9a6940dd891ad53e9dbe8da0</th>\n",
       "      <td>1218</td>\n",
       "      <td>1240</td>\n",
       "      <td>1280</td>\n",
       "      <td>1308</td>\n",
       "      <td>1310</td>\n",
       "      <td>1237</td>\n",
       "    </tr>\n",
       "    <tr>\n",
       "      <th>5a8bc65990b245e5a138643cd4eb9837</th>\n",
       "      <td>1266</td>\n",
       "      <td>1270</td>\n",
       "      <td>1256</td>\n",
       "      <td>1293</td>\n",
       "      <td>1238</td>\n",
       "      <td>1295</td>\n",
       "    </tr>\n",
       "    <tr>\n",
       "      <th>9b98b8c7a33c4b65b9aebfe6a799e6d9</th>\n",
       "      <td>1245</td>\n",
       "      <td>1296</td>\n",
       "      <td>1275</td>\n",
       "      <td>1274</td>\n",
       "      <td>1261</td>\n",
       "      <td>1326</td>\n",
       "    </tr>\n",
       "    <tr>\n",
       "      <th>ae264e3637204a6fb9bb56bc8210ddfd</th>\n",
       "      <td>1292</td>\n",
       "      <td>1319</td>\n",
       "      <td>1245</td>\n",
       "      <td>1278</td>\n",
       "      <td>1248</td>\n",
       "      <td>1276</td>\n",
       "    </tr>\n",
       "    <tr>\n",
       "      <th>f19421c1d4aa40978ebb69ca19b0e20d</th>\n",
       "      <td>1263</td>\n",
       "      <td>1263</td>\n",
       "      <td>1247</td>\n",
       "      <td>1250</td>\n",
       "      <td>1305</td>\n",
       "      <td>1243</td>\n",
       "    </tr>\n",
       "    <tr>\n",
       "      <th>fafdcd668e3743c1bb461111dcafc2a4</th>\n",
       "      <td>1318</td>\n",
       "      <td>1250</td>\n",
       "      <td>1243</td>\n",
       "      <td>1222</td>\n",
       "      <td>1283</td>\n",
       "      <td>1281</td>\n",
       "    </tr>\n",
       "  </tbody>\n",
       "</table>\n",
       "</div>"
      ],
      "text/plain": [
       "time                               0     168   336   408   504   576\n",
       "event_offer_id                                                      \n",
       "0b1e1539f2cc45b7b9fa7c272da2e1d7  1297  1245  1322  1269  1258  1277\n",
       "2298d6c36e964ae4a3e7e9706d1fb8c2  1221  1250  1301  1274  1286  1314\n",
       "2906b810c7d4411798c6938adc9daaa5  1257  1270  1263  1335  1286  1221\n",
       "3f207df678b143eea3cee63160fa8bed  1273  1266  1279  1275  1229  1295\n",
       "4d5c57ea9a6940dd891ad53e9dbe8da0  1218  1240  1280  1308  1310  1237\n",
       "5a8bc65990b245e5a138643cd4eb9837  1266  1270  1256  1293  1238  1295\n",
       "9b98b8c7a33c4b65b9aebfe6a799e6d9  1245  1296  1275  1274  1261  1326\n",
       "ae264e3637204a6fb9bb56bc8210ddfd  1292  1319  1245  1278  1248  1276\n",
       "f19421c1d4aa40978ebb69ca19b0e20d  1263  1263  1247  1250  1305  1243\n",
       "fafdcd668e3743c1bb461111dcafc2a4  1318  1250  1243  1222  1283  1281"
      ]
     },
     "execution_count": 32,
     "metadata": {},
     "output_type": "execute_result"
    }
   ],
   "source": [
    "pd.crosstab(master_receive['event_offer_id'], master_receive['time'])"
   ]
  },
  {
   "cell_type": "markdown",
   "id": "5bd1b88e",
   "metadata": {},
   "source": [
    "### Can a person receive the same offer multiple times?\n",
    "Yes, the maximum a person has received the same offer is 5 times"
   ]
  },
  {
   "cell_type": "code",
   "execution_count": 33,
   "id": "52d59c3b",
   "metadata": {},
   "outputs": [
    {
     "data": {
      "text/plain": [
       "5"
      ]
     },
     "execution_count": 33,
     "metadata": {},
     "output_type": "execute_result"
    }
   ],
   "source": [
    "pd.crosstab(master_receive['person'],\n",
    "            master_receive['event_offer_id']).max().max()"
   ]
  },
  {
   "cell_type": "markdown",
   "id": "5c87aa6b",
   "metadata": {},
   "source": [
    "### Can a person receive a new offer whilst another one is still active?\n",
    "Yes, this happens frequently"
   ]
  },
  {
   "cell_type": "code",
   "execution_count": 34,
   "id": "176d1792",
   "metadata": {},
   "outputs": [],
   "source": [
    "# Create subset\n",
    "offer_logic_check = master_receive[['person', 'event_offer_id',\n",
    "                                    'time', 'offer_valid_until']].sort_values(by=['person', 'time'])"
   ]
  },
  {
   "cell_type": "code",
   "execution_count": 35,
   "id": "22383631",
   "metadata": {},
   "outputs": [
    {
     "data": {
      "text/plain": [
       "no overlap    46730\n",
       "overlap       29547\n",
       "Name: previous_offer_still_valid, dtype: int64"
      ]
     },
     "execution_count": 35,
     "metadata": {},
     "output_type": "execute_result"
    }
   ],
   "source": [
    "# Shift row values one row down\n",
    "offer_logic_check['shift_time'] = offer_logic_check['offer_valid_until'].shift(\n",
    "    periods=1)\n",
    "offer_logic_check['shift_person'] = offer_logic_check['person'].shift(\n",
    "    periods=1)\n",
    "# Create checking column, populate only with 0\n",
    "offer_logic_check['previous_offer_still_valid'] = 'no overlap'\n",
    "# Populate checking column with 1 if new offer overlaps with previous offer\n",
    "offer_logic_check.loc[(offer_logic_check['shift_person'] == offer_logic_check['person']) & (\n",
    "    offer_logic_check['shift_time'] > offer_logic_check['time']), 'previous_offer_still_valid'] = 'overlap'\n",
    "# Count occurences where new offer overlaps with previous offer\n",
    "offer_logic_check['previous_offer_still_valid'].value_counts()"
   ]
  },
  {
   "cell_type": "markdown",
   "id": "a2838ad0",
   "metadata": {},
   "source": [
    "### Can a person receive a new offer whilst still being aware of an active, not completed offer?\n",
    "Yes, seen upon visual inspection of the data\n",
    "### If yes, can this be the *same* offer?\n",
    "Yes, seen upon visual inspection of the data"
   ]
  },
  {
   "cell_type": "markdown",
   "id": "5f5a9274",
   "metadata": {},
   "source": [
    "## Step 3: Wrangle master table"
   ]
  },
  {
   "cell_type": "markdown",
   "id": "d1cbec43",
   "metadata": {},
   "source": [
    "### Step 3.1 Identify unique blocks of offer receive events with views and completes"
   ]
  },
  {
   "cell_type": "markdown",
   "id": "4b237b5c",
   "metadata": {},
   "source": [
    "I need to be able to uniquely identify an \"offer block\". An offer block defines a person-x-offer combination, where an offer block starts with a receive and contains *exactly* one receive, and a maximum of one view and one complete. This will be achieved in two stages\n",
    "* In a first step, an ID will be assigned to each offer block that uniquely identifies a person x offer combination\n",
    "* Following this, offer blocks that still contain multiple receives because a person received a specific offer multiple times will be split up.\n",
    "\n",
    "Data checks will be done after these transformations."
   ]
  },
  {
   "cell_type": "markdown",
   "id": "e69e3dd2",
   "metadata": {},
   "source": [
    "#### Step 3.1.1"
   ]
  },
  {
   "cell_type": "code",
   "execution_count": 36,
   "id": "38c4b1a8",
   "metadata": {},
   "outputs": [],
   "source": [
    "# Sort the master dataframe. This is essential for the further steps.\n",
    "master = master.sort_values(by=['person', 'event_offer_id', 'time'])"
   ]
  },
  {
   "cell_type": "code",
   "execution_count": 37,
   "id": "39636905",
   "metadata": {},
   "outputs": [],
   "source": [
    "# Create a dataframe that creates a unique identifier for each person and offer combination\n",
    "person_offer_id_df = master.loc[master['event'] == 'offer received', [\n",
    "    'person', 'event_offer_id']].drop_duplicates().reset_index().rename(columns={'index': 'person_offer_id'})\n",
    "# Merge the id back into the master dataframe\n",
    "master = pd.merge(master, person_offer_id_df, how='left', left_on=[\n",
    "                  'person', 'event_offer_id'], right_on=['person', 'event_offer_id'])"
   ]
  },
  {
   "cell_type": "code",
   "execution_count": 38,
   "id": "447e3393",
   "metadata": {},
   "outputs": [
    {
     "name": "stdout",
     "output_type": "stream",
     "text": [
      "The most times one person has received the same offer is: 5\n"
     ]
    }
   ],
   "source": [
    "# Because one person can receive the same offer multiple times, some offer blocks will have multiple offer received.\n",
    "max_same_offer = master.loc[master['event'] == 'offer received'].groupby(\n",
    "    by=['person_offer_id']).size().max()\n",
    "print(\"The most times one person has received the same offer is:\", max_same_offer)"
   ]
  },
  {
   "cell_type": "markdown",
   "id": "05d12532",
   "metadata": {},
   "source": [
    "#### Step 3.1.2"
   ]
  },
  {
   "cell_type": "markdown",
   "id": "d18c088e",
   "metadata": {},
   "source": [
    "Because one person can receive the same offer multiple times, these offer blocks need to be broken down further into offer blocks, where each \"receive\" starts its own offer block. First, the person_offer_ids where the block has multiple receives need to be identified."
   ]
  },
  {
   "cell_type": "code",
   "execution_count": 39,
   "id": "d54014e9",
   "metadata": {},
   "outputs": [],
   "source": [
    "receives_per_block = master.loc[master['event'] == 'offer received'].groupby(\n",
    "    by=['person_offer_id']).size()"
   ]
  },
  {
   "cell_type": "code",
   "execution_count": 40,
   "id": "e8928d44",
   "metadata": {},
   "outputs": [],
   "source": [
    "receives_per_block_df = pd.DataFrame(receives_per_block)"
   ]
  },
  {
   "cell_type": "code",
   "execution_count": 41,
   "id": "676e2c1b",
   "metadata": {
    "scrolled": false
   },
   "outputs": [],
   "source": [
    "blocks_need_subsplit = receives_per_block_df.loc[receives_per_block_df[0] > 1].index.tolist(\n",
    ")"
   ]
  },
  {
   "cell_type": "markdown",
   "id": "7135ec51",
   "metadata": {},
   "source": [
    "Now I will loop through these blocks and split them up into separate blocks.\n",
    "Approach:\n",
    "* Create a subset of the master dataframe that only contains records that belong to the specific person_offer_id\n",
    "* Identify indices of \"offer receive\" records.\n",
    "* Loop through each \"offer receive\" record. Allocate views and completes to the receive record. Mark receive, view and complete records that belong together with the same number in the 'sub_block' column.\n",
    "* The allocation logic is:\n",
    "> * Begin the loop at the earliest \"receive\".\n",
    "> * In each loop, allocate a maximum of one view and one complete to the receive.\n",
    "> * The views and completes get allocated to the earliest receive in whose validity time-frame they fall, unless that receive already has a view and complete allocated.\n",
    "> * If a view or complete is \"taken\" by a receive, it cannot be re-allocated to another receive.\n",
    "> * A view and a complete can only ever be allocated to one receive.\n",
    "\n",
    "Caveat: In this approach, I allocate a view to the first receive, even if that receive is already completed. That could mean that a second offer does not receive the view, even though for the second offer the view would have created awareness. This means that I could \"miss\" periods of awareness. That would mean that I attribute too much spend to the unaware state. However, it is unclear and not clarified anywhere if someone can view an offer after having completed it, which is why the current approach is valid. We do know from the data that people can see expired offers."
   ]
  },
  {
   "cell_type": "code",
   "execution_count": 42,
   "id": "ec376878",
   "metadata": {},
   "outputs": [],
   "source": [
    "# Establish list to store block allocations\n",
    "sub_block_list = []"
   ]
  },
  {
   "cell_type": "code",
   "execution_count": 43,
   "id": "fe761069",
   "metadata": {},
   "outputs": [],
   "source": [
    "for person_offer_id in blocks_need_subsplit:\n",
    "    # Create the dataframe-subset of interest\n",
    "    df = master.loc[master['person_offer_id'] ==\n",
    "                    person_offer_id][['event', 'offer_valid_until', 'time']]\n",
    "    df['sub_block'] = np.nan\n",
    "    # Create a dictionary to store the indices, valid_untils and timestamps (i.e. time of reception) of receive records\n",
    "    receive_dict = df.loc[df['event'] == 'offer received'][[\n",
    "        'offer_valid_until', 'time']].reset_index().to_dict(orient='records')\n",
    "\n",
    "    # Loop through the \"receive\" records and allocate views and completes\n",
    "    for i in range(len(receive_dict)):\n",
    "        # Set key variables for filtering\n",
    "        offer_start_time = receive_dict[i]['time']\n",
    "        validity = receive_dict[i]['offer_valid_until']\n",
    "        # Filter the block for views and receives within the right timeframe (from offer receive to offer validity end). Only keep such views and completes that do not yet belong to another receive\n",
    "        df_for_loop = df.loc[(df['time'] <= validity) & (df['time'] >= offer_start_time) & (\n",
    "            df['event'] != 'offer received') & (df['sub_block'].isna())]\n",
    "        # Reset the index so you can access it later\n",
    "        df_for_loop = df_for_loop.reset_index()\n",
    "        # Number the rows using sql and select only the first entries [10]\n",
    "        df_for_loop['counter_check_inner2'] = df_for_loop.groupby(\n",
    "            ['event'])['time'].rank(method='first')\n",
    "        df_from_loop = df_for_loop.loc[df_for_loop['counter_check_inner2'] == 1]\n",
    "\n",
    "        # Extract the indices of the rows that belong to the \"receive\" you are examining in this loop\n",
    "        rows_affected_list = df_from_loop['index'].to_list()\n",
    "\n",
    "        # Mark the \"receive\" you are assessing in the original data, so it is clear it belongs to a specific offer block\n",
    "        df.loc[df.index == receive_dict[i]['index'], 'sub_block'] = i\n",
    "        # Mark the \"view\" and \"complete\" rows in the original df, so it is clear they belong to this specific \"receive\"\n",
    "        df.loc[df.index.isin(rows_affected_list), 'sub_block'] = i\n",
    "\n",
    "    # Create a dictionary with index and block allocation\n",
    "    df = df.reset_index()\n",
    "    allocation = df[['index', 'sub_block']].to_dict(orient='records')\n",
    "    # Append this dictionary to the sub_block_list\n",
    "    sub_block_list.append(allocation)"
   ]
  },
  {
   "cell_type": "code",
   "execution_count": 44,
   "id": "7bd3f906",
   "metadata": {},
   "outputs": [],
   "source": [
    "# Flatten the resulting list into a list of dicts [8]\n",
    "flat_list = [i for i in sub_block_list for i in i]"
   ]
  },
  {
   "cell_type": "code",
   "execution_count": 45,
   "id": "5cbcdb6c",
   "metadata": {},
   "outputs": [],
   "source": [
    "# Fill NaNs in flat list with 9999.\n",
    "# These NaN values are \"views\" of expired offers and are hence irrelevant for offer awareness. They can be deleted.\n",
    "df_flat_list = pd.DataFrame(flat_list)\n",
    "df_flat_list.loc[df_flat_list['sub_block'].isna(), 'sub_block'] = 9999"
   ]
  },
  {
   "cell_type": "code",
   "execution_count": 46,
   "id": "fd0c876e",
   "metadata": {},
   "outputs": [],
   "source": [
    "# Merge the sub-block labels into master_interim, which is a temporary copy of master\n",
    "master_interim = pd.merge(master, df_flat_list,\n",
    "                          how='left', left_index=True, right_on='index')\n",
    "# Re-add indices from master to master_interim\n",
    "master_interim.index = master.index\n",
    "# Reassign \"master\"\n",
    "master = master_interim"
   ]
  },
  {
   "cell_type": "code",
   "execution_count": 47,
   "id": "9923f218",
   "metadata": {
    "scrolled": false
   },
   "outputs": [],
   "source": [
    "# Clean out columns with obsolete views\n",
    "master = master.loc[master['sub_block'] != 9999]"
   ]
  },
  {
   "cell_type": "code",
   "execution_count": 48,
   "id": "970b0036",
   "metadata": {
    "scrolled": true
   },
   "outputs": [],
   "source": [
    "# Create a new block index from the original person_offer_id (i.e. the block id) and the sub_blocks that uniquely identifies all sub-blocks\n",
    "block_id_lookup = master[['person_offer_id', 'sub_block']\n",
    "                         ].drop_duplicates().reset_index(drop=True)\n",
    "block_id_lookup = block_id_lookup.reset_index().rename(\n",
    "    columns={'index': 'block_id'})\n",
    "\n",
    "# Merge the new index into the dataframe\n",
    "master = pd.merge(master, block_id_lookup, how='left', left_on=[\n",
    "                  'person_offer_id', 'sub_block'], right_on=['person_offer_id', 'sub_block'])\n",
    "\n",
    "# Remove obsolete index columns\n",
    "master = master.drop(['person_offer_id', 'sub_block', 'index'], axis=1)"
   ]
  },
  {
   "cell_type": "markdown",
   "id": "d16e0cac",
   "metadata": {},
   "source": [
    "##### Data checks:"
   ]
  },
  {
   "cell_type": "code",
   "execution_count": 49,
   "id": "07490168",
   "metadata": {
    "scrolled": true
   },
   "outputs": [
    {
     "data": {
      "text/plain": [
       "0\n",
       "1    13077\n",
       "2    35457\n",
       "3    27743\n",
       "dtype: int64"
      ]
     },
     "execution_count": 49,
     "metadata": {},
     "output_type": "execute_result"
    }
   ],
   "source": [
    "# Datacheck 1: No more than 3 rows per block_id (except transactions)\n",
    "check1 = master.groupby(by=['block_id']).size().sort_values()\n",
    "\n",
    "check1 = pd.DataFrame(check1)\n",
    "\n",
    "check1.groupby(by=[0]).size()"
   ]
  },
  {
   "cell_type": "code",
   "execution_count": 50,
   "id": "6394a065",
   "metadata": {
    "scrolled": false
   },
   "outputs": [
    {
     "data": {
      "text/plain": [
       "event\n",
       "offer completed    1\n",
       "offer received     1\n",
       "offer viewed       1\n",
       "dtype: int64"
      ]
     },
     "execution_count": 50,
     "metadata": {},
     "output_type": "execute_result"
    }
   ],
   "source": [
    "# Datacheck 2: Only 0 or 1 of each event type per block_id (except transactions)\n",
    "check2 = master[['block_id', 'event']]\n",
    "\n",
    "check2 = check2.pivot_table(\n",
    "    index='block_id', columns='event', aggfunc=len, fill_value=0)\n",
    "\n",
    "check2.max()"
   ]
  },
  {
   "cell_type": "code",
   "execution_count": 51,
   "id": "c4a91390",
   "metadata": {},
   "outputs": [],
   "source": [
    "# Datacheck 3: Every block has a receive"
   ]
  },
  {
   "cell_type": "code",
   "execution_count": 52,
   "id": "2a4a12c0",
   "metadata": {
    "scrolled": true
   },
   "outputs": [
    {
     "data": {
      "text/plain": [
       "event\n",
       "offer completed    33579\n",
       "offer received     76277\n",
       "offer viewed       57364\n",
       "dtype: int64"
      ]
     },
     "execution_count": 52,
     "metadata": {},
     "output_type": "execute_result"
    }
   ],
   "source": [
    "check2.sum()"
   ]
  },
  {
   "cell_type": "code",
   "execution_count": 53,
   "id": "8f22c554",
   "metadata": {},
   "outputs": [
    {
     "data": {
      "text/plain": [
       "76277"
      ]
     },
     "execution_count": 53,
     "metadata": {},
     "output_type": "execute_result"
    }
   ],
   "source": [
    "check2.shape[0]"
   ]
  },
  {
   "cell_type": "markdown",
   "id": "3ad4e261",
   "metadata": {},
   "source": [
    "##### Save a csv of the master file."
   ]
  },
  {
   "cell_type": "code",
   "execution_count": 54,
   "id": "c85e3a44",
   "metadata": {},
   "outputs": [],
   "source": [
    "# Save the file\n",
    "master.to_csv(r'2021_01_09_interim_file.csv')"
   ]
  },
  {
   "cell_type": "code",
   "execution_count": 55,
   "id": "9a8656bd",
   "metadata": {},
   "outputs": [],
   "source": [
    "# Read in the file\n",
    "master = pd.read_csv(r'2021_01_09_interim_file.csv')"
   ]
  },
  {
   "cell_type": "markdown",
   "id": "d423ec07",
   "metadata": {},
   "source": [
    "### Step 3.2 Transform the table so that each block has one row"
   ]
  },
  {
   "cell_type": "code",
   "execution_count": 56,
   "id": "6abc8f5d",
   "metadata": {
    "scrolled": true
   },
   "outputs": [],
   "source": [
    "# Create pivot with time of event\n",
    "master_pivot = master.pivot_table(\n",
    "    index='block_id', columns='event', values='time', fill_value=np.nan)"
   ]
  },
  {
   "cell_type": "code",
   "execution_count": 57,
   "id": "3fc1b52f",
   "metadata": {
    "scrolled": false
   },
   "outputs": [],
   "source": [
    "# Keep only one row with all relevant values per offer (the max statement does that)\n",
    "master_collapse = master[['block_id', 'person', 'event_offer_id', 'event_reward', 'offer_type', 'offer_reward',\n",
    "                          'offer_duration', 'offer_valid_until', 'offer_difficulty', 'email', 'web', 'social', 'mobile']]\n",
    "master_collapse = master_collapse.groupby(by=['block_id']).max()"
   ]
  },
  {
   "cell_type": "code",
   "execution_count": 58,
   "id": "c438e226",
   "metadata": {},
   "outputs": [],
   "source": [
    "# Merge the collapsed master frame with the event - time information from the master_pivot\n",
    "master = pd.merge(master_pivot, master_collapse, how='left',\n",
    "                  right_index=True, left_index=True)"
   ]
  },
  {
   "cell_type": "code",
   "execution_count": 59,
   "id": "0a73d904",
   "metadata": {},
   "outputs": [],
   "source": [
    "master = master[['event_offer_id', 'person', 'offer received', 'offer viewed', 'offer completed', 'event_reward',\n",
    "                 'offer_type', 'offer_reward', 'offer_duration', 'offer_valid_until', 'offer_difficulty', 'email', 'web', 'social', 'mobile']]"
   ]
  },
  {
   "cell_type": "markdown",
   "id": "02071fb0",
   "metadata": {},
   "source": [
    "## Step 4: Create derived variables\n",
    "Some of the derived variables will be used frequently; other will not be used but are available if one wanted to run more analyses on them.\n",
    "The awareness period for offers with offer awareness is 'offer viewed' to 'factual_validity_end'"
   ]
  },
  {
   "cell_type": "code",
   "execution_count": 60,
   "id": "bcee6fe5",
   "metadata": {},
   "outputs": [],
   "source": [
    "# Was valid until (either expiry date or completion date)\n",
    "master['factual_validity_end'] = master[[\n",
    "    'offer completed', 'offer_valid_until']].min(axis=1)\n",
    "# Cut validity when experiment ends, although offer might still be valid for longer\n",
    "# However, there are no further transaction observations\n",
    "master.loc[master['factual_validity_end'] > transcript['time'].max(\n",
    "), 'factual_validity_end'] = transcript['time'].max()\n",
    "\n",
    "# Was completed\n",
    "master['was_completed'] = 1\n",
    "master.loc[master['offer completed'].isna(), 'was_completed'] = 0\n",
    "\n",
    "# Was aware binary\n",
    "master['was_aware'] = 0\n",
    "master.loc[(master['offer viewed'] != np.nan) & (\n",
    "    master['offer viewed'] < master['factual_validity_end']), 'was_aware'] = 1\n",
    "\n",
    "# Time taken to become aware\n",
    "master['time_lag_awareness'] = np.nan\n",
    "master.loc[master['was_aware'] == 1,\n",
    "           'time_lag_awareness'] = master['offer viewed'] - master['offer received']\n",
    "\n",
    "# Time taken to complete when aware\n",
    "master['time_lag_completion'] = np.nan\n",
    "master.loc[(master['was_aware'] == 1) & (master['was_completed'] == 1),\n",
    "           'time_lag_completion'] = master['offer completed'] - master['offer viewed']\n",
    "\n",
    "# Time left between completion and natural expiry when aware\n",
    "master['time_lag_completion_to_expiry'] = np.nan\n",
    "master.loc[(master['was_aware'] == 1) & (master['was_completed'] == 1),\n",
    "           'time_lag_completion_to_expiry'] = master['offer_valid_until'] - master['offer completed']"
   ]
  },
  {
   "cell_type": "markdown",
   "id": "61e62173",
   "metadata": {},
   "source": [
    "## Step 5: Insert transaction values"
   ]
  },
  {
   "cell_type": "markdown",
   "id": "317ec8d8",
   "metadata": {},
   "source": [
    "### 5.1: Set up transaction df"
   ]
  },
  {
   "cell_type": "code",
   "execution_count": 61,
   "id": "3fb8ca79",
   "metadata": {},
   "outputs": [],
   "source": [
    "tx = transcript.loc[transcript['event'] == 'transaction'].reset_index().rename(\n",
    "    columns={'index': 'tx_id', 'time': 'time_of_transaction'})\n",
    "tx = pd.concat([tx, pd.DataFrame(tx['value'].tolist())],\n",
    "               axis=1)  # Extract the amount value\n",
    "tx = tx.drop(['event', 'value'], axis=1)"
   ]
  },
  {
   "cell_type": "code",
   "execution_count": 62,
   "id": "d1d70939",
   "metadata": {},
   "outputs": [
    {
     "data": {
      "text/html": [
       "<div>\n",
       "<style scoped>\n",
       "    .dataframe tbody tr th:only-of-type {\n",
       "        vertical-align: middle;\n",
       "    }\n",
       "\n",
       "    .dataframe tbody tr th {\n",
       "        vertical-align: top;\n",
       "    }\n",
       "\n",
       "    .dataframe thead th {\n",
       "        text-align: right;\n",
       "    }\n",
       "</style>\n",
       "<table border=\"1\" class=\"dataframe\">\n",
       "  <thead>\n",
       "    <tr style=\"text-align: right;\">\n",
       "      <th></th>\n",
       "      <th>tx_id</th>\n",
       "      <th>person</th>\n",
       "      <th>time_of_transaction</th>\n",
       "      <th>amount</th>\n",
       "    </tr>\n",
       "  </thead>\n",
       "  <tbody>\n",
       "    <tr>\n",
       "      <th>0</th>\n",
       "      <td>12654</td>\n",
       "      <td>02c083884c7d45b39cc68e1314fec56c</td>\n",
       "      <td>0</td>\n",
       "      <td>0.83</td>\n",
       "    </tr>\n",
       "    <tr>\n",
       "      <th>1</th>\n",
       "      <td>12657</td>\n",
       "      <td>9fa9ae8f57894cc9a3b8a9bbe0fc1b2f</td>\n",
       "      <td>0</td>\n",
       "      <td>34.56</td>\n",
       "    </tr>\n",
       "    <tr>\n",
       "      <th>2</th>\n",
       "      <td>12659</td>\n",
       "      <td>54890f68699049c2a04d415abc25e717</td>\n",
       "      <td>0</td>\n",
       "      <td>13.23</td>\n",
       "    </tr>\n",
       "    <tr>\n",
       "      <th>3</th>\n",
       "      <td>12670</td>\n",
       "      <td>b2f1cd155b864803ad8334cdf13c4bd2</td>\n",
       "      <td>0</td>\n",
       "      <td>19.51</td>\n",
       "    </tr>\n",
       "    <tr>\n",
       "      <th>4</th>\n",
       "      <td>12671</td>\n",
       "      <td>fe97aa22dd3e48c8b143116a8403dd52</td>\n",
       "      <td>0</td>\n",
       "      <td>18.97</td>\n",
       "    </tr>\n",
       "  </tbody>\n",
       "</table>\n",
       "</div>"
      ],
      "text/plain": [
       "   tx_id                            person  time_of_transaction  amount\n",
       "0  12654  02c083884c7d45b39cc68e1314fec56c                    0    0.83\n",
       "1  12657  9fa9ae8f57894cc9a3b8a9bbe0fc1b2f                    0   34.56\n",
       "2  12659  54890f68699049c2a04d415abc25e717                    0   13.23\n",
       "3  12670  b2f1cd155b864803ad8334cdf13c4bd2                    0   19.51\n",
       "4  12671  fe97aa22dd3e48c8b143116a8403dd52                    0   18.97"
      ]
     },
     "execution_count": 62,
     "metadata": {},
     "output_type": "execute_result"
    }
   ],
   "source": [
    "tx.head()"
   ]
  },
  {
   "cell_type": "markdown",
   "id": "3d576b6f",
   "metadata": {},
   "source": [
    "### 5.2 Set up awareness dataframe\n",
    "\n",
    "Each transaction needs to be allocated to one or more block ids. To achieve this, the awareness dataframe is created that contains one row for each point in time t that a person was aware of an offer. Then this is merged onto the transaction dataframe from step 5.1. From this df one can then see if a transaction happened during aware or anaware time, and *if* it was during unaware time if the person was only aware of one offer or of multiple offers.\n",
    "If a person was aware of multiple offers, the transaction gets allocated based on the following logic:\n",
    "* The transaction gets allocated to the first offer that was completed because then the spend clearly helped to complete that offer\n",
    "* If no offer was completed then the amount is split evenly\n",
    "* If a transaction serves to complete multiple offers at the same time, then the amount is split evenly among these offers.\n",
    "\n",
    "The following improvement is thinkable: When multiple offers get completed at once, but they have different difficulty, the amount is allocated based on the respective difficulty."
   ]
  },
  {
   "cell_type": "code",
   "execution_count": 63,
   "id": "22b65b1e",
   "metadata": {},
   "outputs": [],
   "source": [
    "# Set up the awareness frame - only keep offers that a person was aware of. All other time is unaware time.\n",
    "aw = master[['person', 'event_offer_id', 'offer viewed', 'factual_validity_end',\n",
    "             'was_aware']].loc[master['was_aware'] == 1].reset_index().drop('was_aware', axis=1)"
   ]
  },
  {
   "cell_type": "code",
   "execution_count": 64,
   "id": "1a1fa097",
   "metadata": {
    "scrolled": true
   },
   "outputs": [],
   "source": [
    "aw['rows_needed'] = aw['factual_validity_end'] - aw['offer viewed'] + 1"
   ]
  },
  {
   "cell_type": "code",
   "execution_count": 65,
   "id": "b91595da",
   "metadata": {
    "scrolled": false
   },
   "outputs": [],
   "source": [
    "# Create a dictionary with block ids and number of rows needed per block id\n",
    "block_ids, lines = aw['block_id'], aw['rows_needed']\n",
    "dict1 = pd.Series(lines.values, block_ids.values).to_dict()"
   ]
  },
  {
   "cell_type": "code",
   "execution_count": 66,
   "id": "f2cd7266",
   "metadata": {},
   "outputs": [],
   "source": [
    "# Create list of all block ids to use in list comprehension\n",
    "block_id_list = aw['block_id'].tolist()"
   ]
  },
  {
   "cell_type": "code",
   "execution_count": 67,
   "id": "d03b207f",
   "metadata": {},
   "outputs": [],
   "source": [
    "# Create list with number of each block id appearing as many times as rows are needed\n",
    "'''\n",
    "Example: \n",
    "block id 1 had awareness for 10 hours \n",
    ">> for block id 1, 10 rows are needed \n",
    ">> block id 1 appears 10 times in the list\n",
    "'''\n",
    "row_list = [[i for j in range(int(dict1[i]))] for i in block_id_list]\n",
    "\n",
    "# Flatten the list as is currently list of lists [9]\n",
    "row_list = [i for sublist in row_list for i in sublist]"
   ]
  },
  {
   "cell_type": "code",
   "execution_count": 68,
   "id": "9ea2ba47",
   "metadata": {},
   "outputs": [],
   "source": [
    "# Merge in the original information\n",
    "aw_expanded = pd.merge(pd.DataFrame(row_list).rename(\n",
    "    columns={0: 'block_id'}), aw, how='left', left_on='block_id', right_on='block_id')"
   ]
  },
  {
   "cell_type": "code",
   "execution_count": 69,
   "id": "baa5b94b",
   "metadata": {},
   "outputs": [],
   "source": [
    "# add row numbers that can then be transformed to hours [10]\n",
    "aw_expanded['counter'] = aw_expanded.groupby(\n",
    "    ['block_id'])['offer viewed'].rank(method='first')"
   ]
  },
  {
   "cell_type": "code",
   "execution_count": 70,
   "id": "9a3178a7",
   "metadata": {
    "scrolled": false
   },
   "outputs": [],
   "source": [
    "# Calculate columns with separate hours\n",
    "aw_hourly = aw_expanded\n",
    "aw_hourly['hour'] = aw_hourly['counter'] + aw_hourly['offer viewed'] - 1"
   ]
  },
  {
   "cell_type": "code",
   "execution_count": 71,
   "id": "968ca8a6",
   "metadata": {
    "scrolled": true
   },
   "outputs": [],
   "source": [
    "aw_hourly = aw_hourly[['block_id', 'person',\n",
    "                       'event_offer_id', 'hour', 'offer viewed']]"
   ]
  },
  {
   "cell_type": "markdown",
   "id": "1d80e7fe",
   "metadata": {},
   "source": [
    "### 5.3 Combine both dataframes, create control and treatment frame and allocate block ids to transactions where a customer was aware ( = treatment)"
   ]
  },
  {
   "cell_type": "code",
   "execution_count": 72,
   "id": "c0a86950",
   "metadata": {},
   "outputs": [],
   "source": [
    "tx_block_ids = pd.merge(tx, aw_hourly, how='left', left_on=[\n",
    "                        'person', 'time_of_transaction'], right_on=['person', 'hour'])"
   ]
  },
  {
   "cell_type": "code",
   "execution_count": 73,
   "id": "4b6c1433",
   "metadata": {},
   "outputs": [
    {
     "data": {
      "text/plain": [
       "3"
      ]
     },
     "execution_count": 73,
     "metadata": {},
     "output_type": "execute_result"
    }
   ],
   "source": [
    "# What is the maximum how many blocks a transaction could be allocated to\n",
    "count_tx_ids = tx_block_ids[['tx_id']].groupby(by=['tx_id']).size()\n",
    "count_tx_ids.max()"
   ]
  },
  {
   "cell_type": "code",
   "execution_count": 74,
   "id": "cbeb967d",
   "metadata": {
    "scrolled": true
   },
   "outputs": [
    {
     "data": {
      "text/plain": [
       "1    133710\n",
       "2      5117\n",
       "3       126\n",
       "dtype: int64"
      ]
     },
     "execution_count": 74,
     "metadata": {},
     "output_type": "execute_result"
    }
   ],
   "source": [
    "# How many overlap cases exist?\n",
    "pd.DataFrame(count_tx_ids).value_counts()"
   ]
  },
  {
   "cell_type": "markdown",
   "id": "9af5fb5e",
   "metadata": {},
   "source": [
    "#### Separate the transactions that happened during non-awareness (control) from those that happened during awareness"
   ]
  },
  {
   "cell_type": "code",
   "execution_count": 75,
   "id": "a6cfbcfe",
   "metadata": {
    "scrolled": true
   },
   "outputs": [],
   "source": [
    "# Split tx_block_ids into a control and treatment frame\n",
    "# Not aware or no active offer\n",
    "tx_control = tx_block_ids.loc[tx_block_ids['event_offer_id'].isna()]\n",
    "tx_treatment = tx_block_ids.loc[~tx_block_ids['event_offer_id'].isna()]"
   ]
  },
  {
   "cell_type": "markdown",
   "id": "2053beb9",
   "metadata": {},
   "source": [
    "#### Separate the non-overlap treatment cases from the overlap treatment cases"
   ]
  },
  {
   "cell_type": "code",
   "execution_count": 76,
   "id": "2a7d8dd3",
   "metadata": {},
   "outputs": [],
   "source": [
    "# Identify transaction ids with multiple block_ids, i.e. those with more than 1 row in the tx_treatment dataframe\n",
    "tx_treatment_gr = tx_treatment[['tx_id']].groupby(by=['tx_id']).size()\n",
    "tx_treatment_block_id_count = pd.merge(tx_treatment, pd.DataFrame(tx_treatment_gr).rename(\n",
    "    columns={0: 'count'}), how='left', left_on='tx_id', right_index=True)"
   ]
  },
  {
   "cell_type": "code",
   "execution_count": 77,
   "id": "917cd1ce",
   "metadata": {},
   "outputs": [],
   "source": [
    "# Remove cases without overlap and store in separate df as these need further treatment\n",
    "tx_treatment_no_overlap = tx_treatment_block_id_count.loc[\n",
    "    tx_treatment_block_id_count['count'] == 1]\n",
    "tx_treatment_overlap = tx_treatment_block_id_count.loc[tx_treatment_block_id_count['count'] > 1]"
   ]
  },
  {
   "cell_type": "code",
   "execution_count": 78,
   "id": "b55f8037",
   "metadata": {
    "scrolled": true
   },
   "outputs": [],
   "source": [
    "# Create a dictionary for the non-overlap treatment cases where transaction id is the key and block id is the value\n",
    "id_tx_fordict, block_id_fordict = tx_treatment_no_overlap[\n",
    "    'tx_id'], tx_treatment_no_overlap['block_id']\n",
    "dict_treatment_no_overlap = pd.Series(\n",
    "    block_id_fordict.values, id_tx_fordict.values).to_dict()"
   ]
  },
  {
   "cell_type": "markdown",
   "id": "913bd02c",
   "metadata": {},
   "source": [
    "#### Allocate transaction ids with offer overlap to the correct offer(s) (i.e. block_ids)"
   ]
  },
  {
   "cell_type": "code",
   "execution_count": 79,
   "id": "d742fee0",
   "metadata": {
    "scrolled": true
   },
   "outputs": [],
   "source": [
    "# Add information on whether an offer was completed\n",
    "tx_treatment_overlap = pd.merge(tx_treatment_overlap, master[[\n",
    "                                'was_completed', 'offer completed']], how='left', left_on='block_id', right_index=True)"
   ]
  },
  {
   "cell_type": "code",
   "execution_count": 80,
   "id": "51d1caf5",
   "metadata": {},
   "outputs": [],
   "source": [
    "# Add ranks to all completed block_ids and give those that are completed simultaneously the same rank [10]\n",
    "tx_treatment_overlap['rank'] = tx_treatment_overlap.groupby(\n",
    "    ['tx_id'])['offer completed'].rank(method='min')"
   ]
  },
  {
   "cell_type": "code",
   "execution_count": 81,
   "id": "921a3323",
   "metadata": {},
   "outputs": [],
   "source": [
    "# Sort dataframe within tx id by time the offer was viewed\n",
    "tx_treatment_overlap = tx_treatment_overlap.sort_values(by=['tx_id', 'rank'])"
   ]
  },
  {
   "cell_type": "code",
   "execution_count": 82,
   "id": "c97ab686",
   "metadata": {},
   "outputs": [],
   "source": [
    "# Create list of all transaction ids that need to be processed due to offer overlap\n",
    "tx_ids_with_overlap = tx_treatment_overlap['tx_id'].tolist()\n",
    "# Remove all duplicates\n",
    "tx_ids_with_overlap = list(set(tx_ids_with_overlap))"
   ]
  },
  {
   "cell_type": "code",
   "execution_count": 83,
   "id": "5dfcdbbf",
   "metadata": {},
   "outputs": [],
   "source": [
    "# Allocate block ids to transaction ids\n",
    "'''\n",
    "In the dict, the key will be the transaction id and the value the block id.\n",
    "If a transaction needs to be split between multiple offers, then there will be a list of offer ids.\n",
    "'''\n",
    "\n",
    "dict_treatment_overlap = {}\n",
    "tx_treatment_overlap_reduced = tx_treatment_overlap[[\n",
    "    'tx_id', 'block_id', 'was_completed', 'rank']]\n",
    "for tx_id in tx_ids_with_overlap:\n",
    "    # Reduce dataframe to dataframe of interest\n",
    "    df = tx_treatment_overlap_reduced.loc[tx_treatment_overlap_reduced['tx_id'] == tx_id]\n",
    "    sum_completed = df['was_completed'].sum()\n",
    "    if sum_completed == 0:\n",
    "        dict_treatment_overlap[tx_id] = df['block_id'].tolist()\n",
    "    elif sum_completed > 0:\n",
    "        dict_treatment_overlap[tx_id] = df['block_id'].loc[df['rank'] == 1].tolist(\n",
    "        )"
   ]
  },
  {
   "cell_type": "markdown",
   "id": "d247a200",
   "metadata": {},
   "source": [
    "### 5.4 Create a final awareness (=treatment) dataframe with one row per transaction id and block id as well as the correct amount to be allocated to the block id"
   ]
  },
  {
   "cell_type": "code",
   "execution_count": 84,
   "id": "f49e2340",
   "metadata": {},
   "outputs": [],
   "source": [
    "# Create a dataframe that allocates transactions to block ids for those with and without awareness and those with and without overlap [11]\n",
    "block_id_allocation = pd.DataFrame(dict_treatment_overlap.items()).set_index(0).rename(\n",
    "    columns={1: 0}).append(pd.DataFrame.from_dict(dict_treatment_no_overlap, orient='index'))\n",
    "block_id_allocation = block_id_allocation.reset_index().rename(columns={\n",
    "    'index': 'tx_id'})"
   ]
  },
  {
   "cell_type": "code",
   "execution_count": 85,
   "id": "1d9d8c20",
   "metadata": {},
   "outputs": [
    {
     "name": "stdout",
     "output_type": "stream",
     "text": [
      "1\n"
     ]
    }
   ],
   "source": [
    "# Data check for duplicates; needs to be 1\n",
    "print(block_id_allocation.groupby(by='tx_id').size().max())"
   ]
  },
  {
   "cell_type": "code",
   "execution_count": 86,
   "id": "fa274b0f",
   "metadata": {
    "scrolled": true
   },
   "outputs": [],
   "source": [
    "# Merge into tx dataframe\n",
    "block_id_allocation = pd.merge(tx, block_id_allocation, how='left',\n",
    "                               left_on='tx_id', right_on='tx_id').rename(columns={0: 'block_id'})"
   ]
  },
  {
   "cell_type": "code",
   "execution_count": 87,
   "id": "eff27a84",
   "metadata": {},
   "outputs": [],
   "source": [
    "# Get number of block_ids that a tx_id is allocated to to reduce the amount\n",
    "dict_treatment_overlap_len = {}\n",
    "for key, value in dict_treatment_overlap.items():\n",
    "    try:\n",
    "        a = len(value)\n",
    "    except:\n",
    "        a = 1\n",
    "    dict_treatment_overlap_len[key] = a\n",
    "\n",
    "block_id_allocation = pd.merge(block_id_allocation, pd.DataFrame.from_dict(\n",
    "    dict_treatment_overlap_len, orient='index'), how='left', left_on='tx_id', right_index=True).rename(columns={0: 'divider'})\n",
    "block_id_allocation.loc[block_id_allocation['divider'].isna(), 'divider'] = 1\n",
    "\n",
    "# Calculate amount to be allocated to each separate block_id\n",
    "block_id_allocation['corrected_amount'] = block_id_allocation['amount'] / \\\n",
    "    block_id_allocation['divider']"
   ]
  },
  {
   "cell_type": "code",
   "execution_count": 88,
   "id": "2c1a3486",
   "metadata": {
    "scrolled": false
   },
   "outputs": [],
   "source": [
    "# Expand the df to have multiple rows where there are lists with multiple block_ids for a tx_id [12]\n",
    "block_id_allocation = block_id_allocation.explode('block_id')"
   ]
  },
  {
   "cell_type": "markdown",
   "id": "6f9f71d2",
   "metadata": {},
   "source": [
    "### 5.5 Aggregate the transactions by block_id and join into the master table"
   ]
  },
  {
   "cell_type": "code",
   "execution_count": 89,
   "id": "0c1c599b",
   "metadata": {
    "scrolled": true
   },
   "outputs": [],
   "source": [
    "amount_per_block_id = block_id_allocation. groupby(\n",
    "    ['block_id'])['corrected_amount'].sum()"
   ]
  },
  {
   "cell_type": "code",
   "execution_count": 90,
   "id": "f4045132",
   "metadata": {},
   "outputs": [],
   "source": [
    "aw_final = pd.merge(master, amount_per_block_id, how='left',\n",
    "                    left_on='block_id', right_on='block_id')"
   ]
  },
  {
   "cell_type": "markdown",
   "id": "9e6764e5",
   "metadata": {},
   "source": [
    "##### Data checks:"
   ]
  },
  {
   "cell_type": "code",
   "execution_count": 91,
   "id": "6bdaed29",
   "metadata": {},
   "outputs": [
    {
     "data": {
      "text/plain": [
       "1"
      ]
     },
     "execution_count": 91,
     "metadata": {},
     "output_type": "execute_result"
    }
   ],
   "source": [
    "# Check 1: Amounts are only allocated to aware offers\n",
    "aw_final['was_aware'].loc[~aw_final['corrected_amount'].isna()\n",
    "                          ].min()  # >> Should be 1"
   ]
  },
  {
   "cell_type": "code",
   "execution_count": 92,
   "id": "cb80eda3",
   "metadata": {},
   "outputs": [
    {
     "data": {
      "text/html": [
       "<div>\n",
       "<style scoped>\n",
       "    .dataframe tbody tr th:only-of-type {\n",
       "        vertical-align: middle;\n",
       "    }\n",
       "\n",
       "    .dataframe tbody tr th {\n",
       "        vertical-align: top;\n",
       "    }\n",
       "\n",
       "    .dataframe thead th {\n",
       "        text-align: right;\n",
       "    }\n",
       "</style>\n",
       "<table border=\"1\" class=\"dataframe\">\n",
       "  <thead>\n",
       "    <tr style=\"text-align: right;\">\n",
       "      <th></th>\n",
       "      <th>event_offer_id</th>\n",
       "      <th>person</th>\n",
       "      <th>offer received</th>\n",
       "      <th>offer viewed</th>\n",
       "      <th>offer completed</th>\n",
       "      <th>event_reward</th>\n",
       "      <th>offer_type</th>\n",
       "      <th>offer_reward</th>\n",
       "      <th>offer_duration</th>\n",
       "      <th>offer_valid_until</th>\n",
       "      <th>...</th>\n",
       "      <th>web</th>\n",
       "      <th>social</th>\n",
       "      <th>mobile</th>\n",
       "      <th>factual_validity_end</th>\n",
       "      <th>was_completed</th>\n",
       "      <th>was_aware</th>\n",
       "      <th>time_lag_awareness</th>\n",
       "      <th>time_lag_completion</th>\n",
       "      <th>time_lag_completion_to_expiry</th>\n",
       "      <th>corrected_amount</th>\n",
       "    </tr>\n",
       "    <tr>\n",
       "      <th>block_id</th>\n",
       "      <th></th>\n",
       "      <th></th>\n",
       "      <th></th>\n",
       "      <th></th>\n",
       "      <th></th>\n",
       "      <th></th>\n",
       "      <th></th>\n",
       "      <th></th>\n",
       "      <th></th>\n",
       "      <th></th>\n",
       "      <th></th>\n",
       "      <th></th>\n",
       "      <th></th>\n",
       "      <th></th>\n",
       "      <th></th>\n",
       "      <th></th>\n",
       "      <th></th>\n",
       "      <th></th>\n",
       "      <th></th>\n",
       "      <th></th>\n",
       "      <th></th>\n",
       "    </tr>\n",
       "  </thead>\n",
       "  <tbody>\n",
       "  </tbody>\n",
       "</table>\n",
       "<p>0 rows × 22 columns</p>\n",
       "</div>"
      ],
      "text/plain": [
       "Empty DataFrame\n",
       "Columns: [event_offer_id, person, offer received, offer viewed, offer completed, event_reward, offer_type, offer_reward, offer_duration, offer_valid_until, offer_difficulty, email, web, social, mobile, factual_validity_end, was_completed, was_aware, time_lag_awareness, time_lag_completion, time_lag_completion_to_expiry, corrected_amount]\n",
       "Index: []\n",
       "\n",
       "[0 rows x 22 columns]"
      ]
     },
     "execution_count": 92,
     "metadata": {},
     "output_type": "execute_result"
    }
   ],
   "source": [
    "# Check 2: All completed offers where someone was aware have an amount\n",
    "aw_final.loc[(aw_final['was_completed'] == 1) & (aw_final['corrected_amount'].isna()) & (\n",
    "    aw_final['was_aware'] == 1)]  # >> Should return no results"
   ]
  },
  {
   "cell_type": "code",
   "execution_count": 93,
   "id": "8952d463",
   "metadata": {},
   "outputs": [],
   "source": [
    "# Remove all unaware block_ids from the final awareness dataframe again after wrangling has passed checks\n",
    "aw_final = aw_final.loc[aw_final['was_aware'] == 1]"
   ]
  },
  {
   "cell_type": "markdown",
   "id": "5b21edc7",
   "metadata": {},
   "source": [
    "## Step 6: Create final analysis dataframe\n",
    "Records for the treatment group are on person - block_id level.\n",
    "Arguably this data could also be inspected on person-offer level, i.e. where a person received the same offer multiple times the data is aggregated. However, this would (a) limit the variables that could be inspected (e.g. if an offer was completed) and (b) limit the variables that could be drivers for the predictive modeling (e.g. received another offer before).\n",
    "Daily averages for the control group are per person, counting all unaware time."
   ]
  },
  {
   "cell_type": "code",
   "execution_count": 94,
   "id": "400d493c",
   "metadata": {
    "scrolled": true
   },
   "outputs": [],
   "source": [
    "# Add duration of awareness by hour to aw_final\n",
    "aw_final = pd.merge(aw_final, aw[['block_id', 'rows_needed']],\n",
    "                    how='left', left_index=True, right_on='block_id')"
   ]
  },
  {
   "cell_type": "markdown",
   "id": "e8ee2642",
   "metadata": {},
   "source": [
    "### Step 6.1: Treatment group - hourly averages"
   ]
  },
  {
   "cell_type": "code",
   "execution_count": 95,
   "id": "220e8dd9",
   "metadata": {},
   "outputs": [],
   "source": [
    "treatment_final = aw_final.groupby(by=['person', 'block_id']).agg(\n",
    "    {'corrected_amount': sum, 'rows_needed': sum})"
   ]
  },
  {
   "cell_type": "code",
   "execution_count": 96,
   "id": "67e7e17d",
   "metadata": {},
   "outputs": [],
   "source": [
    "treatment_final['hourly_avg'] = treatment_final['corrected_amount'] / \\\n",
    "    treatment_final['rows_needed']"
   ]
  },
  {
   "cell_type": "markdown",
   "id": "6a0f52a4",
   "metadata": {},
   "source": [
    "### Step 6.2: Control Group - hourly averages"
   ]
  },
  {
   "cell_type": "code",
   "execution_count": 97,
   "id": "aff2c125",
   "metadata": {},
   "outputs": [],
   "source": [
    "# [13]\n",
    "person_aware_time = aw_hourly.groupby('person')['hour'].nunique()"
   ]
  },
  {
   "cell_type": "code",
   "execution_count": 98,
   "id": "82c0a55f",
   "metadata": {},
   "outputs": [],
   "source": [
    "person_unaware_time = (pd.DataFrame(person_aware_time)\n",
    "                       ['hour'] - max_hour) * (-1)"
   ]
  },
  {
   "cell_type": "code",
   "execution_count": 99,
   "id": "853a8a98",
   "metadata": {},
   "outputs": [],
   "source": [
    "# Create df with all people\n",
    "all_people = profile[['id']]"
   ]
  },
  {
   "cell_type": "code",
   "execution_count": 100,
   "id": "bda6df40",
   "metadata": {},
   "outputs": [],
   "source": [
    "# Merge in the amount of money spent when that person is unaware\n",
    "control_final = pd.merge(all_people, pd.DataFrame(tx_control.groupby(\n",
    "    'person')['amount'].sum()), how='left', left_on='id', right_on='person')"
   ]
  },
  {
   "cell_type": "code",
   "execution_count": 101,
   "id": "f33ceafa",
   "metadata": {},
   "outputs": [],
   "source": [
    "# For people who did not spend at all during unawareness, add a 0 (i.e. replace np.nan with 0)\n",
    "control_final.loc[control_final['amount'].isna(), 'amount'] = 0"
   ]
  },
  {
   "cell_type": "code",
   "execution_count": 102,
   "id": "ffab6e3b",
   "metadata": {},
   "outputs": [],
   "source": [
    "# Merge in the hours of unawareness\n",
    "control_final = pd.merge(control_final, pd.DataFrame(\n",
    "    person_unaware_time), how='left', left_on='id', right_index=True)"
   ]
  },
  {
   "cell_type": "code",
   "execution_count": 103,
   "id": "0d826b63",
   "metadata": {},
   "outputs": [],
   "source": [
    "# For people who were never aware, add the maximum hours (i.e. replace np.nan with 0)\n",
    "control_final.loc[control_final['hour'].isna(), 'hour'] = max_hour"
   ]
  },
  {
   "cell_type": "code",
   "execution_count": 104,
   "id": "d38960b4",
   "metadata": {},
   "outputs": [],
   "source": [
    "control_final = control_final.rename(columns={'id': 'person'})"
   ]
  },
  {
   "cell_type": "code",
   "execution_count": 105,
   "id": "c5f8a035",
   "metadata": {},
   "outputs": [],
   "source": [
    "control_final['hourly_avg'] = control_final['amount']/control_final['hour']"
   ]
  },
  {
   "cell_type": "code",
   "execution_count": 106,
   "id": "5a2f1f5d",
   "metadata": {
    "scrolled": true
   },
   "outputs": [
    {
     "data": {
      "text/plain": [
       "person        0\n",
       "amount        0\n",
       "hour          0\n",
       "hourly_avg    0\n",
       "dtype: int64"
      ]
     },
     "execution_count": 106,
     "metadata": {},
     "output_type": "execute_result"
    }
   ],
   "source": [
    "# Data check >> No missings\n",
    "control_final.isna().sum()"
   ]
  },
  {
   "cell_type": "markdown",
   "id": "0cb8ddf9",
   "metadata": {},
   "source": [
    "### Step 6.3: Data transformations"
   ]
  },
  {
   "cell_type": "code",
   "execution_count": 107,
   "id": "2e9b28c7",
   "metadata": {},
   "outputs": [],
   "source": [
    "# Ranema columns\n",
    "treatment_final = treatment_final.rename(\n",
    "    columns={'corrected_amount': 'amount', 'rows_needed': 'hour'}).reset_index()\n",
    "\n",
    "# Order the columns\n",
    "treatment_final = treatment_final[[\n",
    "    'person', 'block_id', 'hour', 'amount', 'hourly_avg']]"
   ]
  },
  {
   "cell_type": "markdown",
   "id": "403e4c99",
   "metadata": {},
   "source": [
    "### Step 6.4: Incremental spend"
   ]
  },
  {
   "cell_type": "code",
   "execution_count": 108,
   "id": "2c65bf9e",
   "metadata": {},
   "outputs": [],
   "source": [
    "# Merge in the control final for every person to be able to calculate the incremental spend\n",
    "treatment_final = pd.merge(treatment_final, control_final[[\n",
    "                           'person', 'hourly_avg']], how='left', left_on='person', right_on='person')\n",
    "treatment_final = treatment_final.rename(\n",
    "    columns={'hourly_avg_x': 'hourly_avg', 'hourly_avg_y': 'hourly_avg_during_nonawareness'})\n",
    "\n",
    "# Calculate the incremental spend:\n",
    "treatment_final['baseline_spend_during_awareness_time'] = treatment_final['hourly_avg_during_nonawareness']*treatment_final['hour']\n",
    "treatment_final['incremental_spend'] = treatment_final['amount'] - \\\n",
    "    treatment_final['baseline_spend_during_awareness_time']"
   ]
  },
  {
   "cell_type": "markdown",
   "id": "aeced5db",
   "metadata": {},
   "source": [
    "### Step 6.5: Adding further data from other dataframes"
   ]
  },
  {
   "cell_type": "code",
   "execution_count": 109,
   "id": "7f11b3d6",
   "metadata": {},
   "outputs": [],
   "source": [
    "# Create copy of tratment_final which is final analysis frame\n",
    "analysis_df = treatment_final\n",
    "\n",
    "# Merge in information on person and offer\n",
    "analysis_df = pd.merge(analysis_df, master,\n",
    "                       left_on='block_id', right_index=True, how='left')\n",
    "analysis_df = analysis_df.drop(['person_y'], axis=1)\n",
    "analysis_df = analysis_df.rename(columns={'person_x': 'person'})\n",
    "analysis_df = pd.merge(analysis_df, profile,\n",
    "                       left_on='person', right_on='id', how='left')"
   ]
  },
  {
   "cell_type": "markdown",
   "id": "b2e9b44d",
   "metadata": {},
   "source": [
    "### Step 6.6: Create net spend and net hourly spend"
   ]
  },
  {
   "cell_type": "code",
   "execution_count": 110,
   "id": "e22b74e6",
   "metadata": {},
   "outputs": [],
   "source": [
    "# Net spend and net hourly spend >> Not analyzed anymore\n",
    "analysis_df['net_spend'] = analysis_df['amount']\n",
    "analysis_df.loc[analysis_df['was_completed'] == 1,\n",
    "                'net_spend'] = analysis_df['amount'] - analysis_df['offer_reward']\n",
    "analysis_df['net_spend_hourly_avg'] = analysis_df['net_spend'] / \\\n",
    "    analysis_df['hour']"
   ]
  },
  {
   "cell_type": "markdown",
   "id": "366c82d4",
   "metadata": {},
   "source": [
    "# Save final file"
   ]
  },
  {
   "cell_type": "code",
   "execution_count": 111,
   "id": "85e74ca7",
   "metadata": {},
   "outputs": [],
   "source": [
    "# Save the file\n",
    "analysis_df.to_csv(r'2021_01_09_analysis_df.csv')"
   ]
  }
 ],
 "metadata": {
  "kernelspec": {
   "display_name": "Python 3",
   "language": "python",
   "name": "python3"
  },
  "language_info": {
   "codemirror_mode": {
    "name": "ipython",
    "version": 3
   },
   "file_extension": ".py",
   "mimetype": "text/x-python",
   "name": "python",
   "nbconvert_exporter": "python",
   "pygments_lexer": "ipython3",
   "version": "3.7.10"
  }
 },
 "nbformat": 4,
 "nbformat_minor": 5
}
