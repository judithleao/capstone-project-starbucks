{
 "cells": [
  {
   "cell_type": "markdown",
   "id": "c3b4bbec",
   "metadata": {},
   "source": [
    "# Analysis\n",
    "The key variable to judge success of offers and dependent variable for predictive modeling is incremental spend.\n",
    "Other variables were considered, such as:\n",
    "* Offer completion - will be looked at in the descriptives. Offer completion is a good proxy for how attractive consumers find an offer. However, from a business perspoective it is not as relevant as incremental spend, because it is possible that offers influence spend even when a consumer does not complete the offer. In addition, there is no offer completion for purely informational offers.\n",
    "* Average hourly spend - A metric that considers the behavioural change (likely increase/potentially decrease in spend by the hour) during awareness. This can be compared to times when a consumer is not aware of any offer. As this metric does not factor in for *how long* a consumer sustains a higher level of spend, it does not tell the business what revenue it can make from an offer, though.\n",
    "* Net total/incremental spend - A way to understand the net impact on the business better by deducting the reward amount from the total spend. However, this is a potentially poor proxy. For BOGO, it is unlikely that the consumer would have purchased two of the same product, and the cost to the company is hence not the revenue foregone, but the actual production cost of the product. In comparison, for the discount, the cost is the actual revenue foregone. There might also be other costs associated with the offers, like e.g. distribution cost. As costs are unknown, it was decided to work with incremental revenue.\n",
    "\n",
    "These variables are contained in the analysis_df in case one wants to explore these variables further."
   ]
  },
  {
   "cell_type": "code",
   "execution_count": 355,
   "id": "e8a3026e",
   "metadata": {},
   "outputs": [],
   "source": [
    "import pandas as pd\n",
    "import numpy as np\n",
    "import seaborn as sns\n",
    "import math\n",
    "import json\n",
    "import os\n",
    "import pylab\n",
    "import itertools\n",
    "#% matplotlib inline\n",
    "from pandasql import sqldf\n",
    "from matplotlib import pyplot as plt\n",
    "from scipy import stats\n",
    "from statsmodels.stats.multicomp import pairwise_tukeyhsd\n",
    "from itertools import combinations\n",
    "import statsmodels.api as sm"
   ]
  },
  {
   "cell_type": "markdown",
   "id": "f70f23ba",
   "metadata": {},
   "source": [
    "## Read in data and do basic data manipulation and cleaning"
   ]
  },
  {
   "cell_type": "markdown",
   "id": "b40e8bc9",
   "metadata": {},
   "source": [
    "#### Read in data"
   ]
  },
  {
   "cell_type": "code",
   "execution_count": 306,
   "id": "e65828da",
   "metadata": {
    "scrolled": true
   },
   "outputs": [],
   "source": [
    "# Read in the file\n",
    "analysis_df = pd.read_csv(r'2021_12_27_analysis_df.csv')"
   ]
  },
  {
   "cell_type": "code",
   "execution_count": 293,
   "id": "7584f690",
   "metadata": {},
   "outputs": [],
   "source": [
    "transcript = pd.read_json('data/transcript.json', orient='records', lines=True)"
   ]
  },
  {
   "cell_type": "code",
   "execution_count": 307,
   "id": "de8394b0",
   "metadata": {
    "scrolled": false
   },
   "outputs": [
    {
     "data": {
      "text/html": [
       "<div>\n",
       "<style scoped>\n",
       "    .dataframe tbody tr th:only-of-type {\n",
       "        vertical-align: middle;\n",
       "    }\n",
       "\n",
       "    .dataframe tbody tr th {\n",
       "        vertical-align: top;\n",
       "    }\n",
       "\n",
       "    .dataframe thead th {\n",
       "        text-align: right;\n",
       "    }\n",
       "</style>\n",
       "<table border=\"1\" class=\"dataframe\">\n",
       "  <thead>\n",
       "    <tr style=\"text-align: right;\">\n",
       "      <th></th>\n",
       "      <th>Unnamed: 0</th>\n",
       "      <th>person</th>\n",
       "      <th>block_id</th>\n",
       "      <th>hour</th>\n",
       "      <th>amount</th>\n",
       "      <th>hourly_avg</th>\n",
       "      <th>group</th>\n",
       "      <th>baseline_spend_during_awareness_time</th>\n",
       "      <th>incremental_spend</th>\n",
       "      <th>hourly_avg_during_nonawareness</th>\n",
       "      <th>...</th>\n",
       "      <th>time_lag_completion</th>\n",
       "      <th>time_lag_completion_to_expiry</th>\n",
       "      <th>gender</th>\n",
       "      <th>age</th>\n",
       "      <th>id</th>\n",
       "      <th>became_member_on</th>\n",
       "      <th>income</th>\n",
       "      <th>membership_duration</th>\n",
       "      <th>net_spend</th>\n",
       "      <th>net_spend_hourly_avg</th>\n",
       "    </tr>\n",
       "  </thead>\n",
       "  <tbody>\n",
       "    <tr>\n",
       "      <th>0</th>\n",
       "      <td>0</td>\n",
       "      <td>68be06ca386d4c31939f3a4f0e3dd783</td>\n",
       "      <td>no_offer</td>\n",
       "      <td>231.0</td>\n",
       "      <td>0.00</td>\n",
       "      <td>0.000000</td>\n",
       "      <td>c</td>\n",
       "      <td>NaN</td>\n",
       "      <td>NaN</td>\n",
       "      <td>NaN</td>\n",
       "      <td>...</td>\n",
       "      <td>NaN</td>\n",
       "      <td>NaN</td>\n",
       "      <td>NaN</td>\n",
       "      <td>NaN</td>\n",
       "      <td>68be06ca386d4c31939f3a4f0e3dd783</td>\n",
       "      <td>2017-02-12</td>\n",
       "      <td>NaN</td>\n",
       "      <td>-1785</td>\n",
       "      <td>0.00</td>\n",
       "      <td>0.000000</td>\n",
       "    </tr>\n",
       "    <tr>\n",
       "      <th>1</th>\n",
       "      <td>1</td>\n",
       "      <td>0610b486422d4921ae7d2bf64640c50b</td>\n",
       "      <td>no_offer</td>\n",
       "      <td>714.0</td>\n",
       "      <td>77.01</td>\n",
       "      <td>0.107857</td>\n",
       "      <td>c</td>\n",
       "      <td>NaN</td>\n",
       "      <td>NaN</td>\n",
       "      <td>NaN</td>\n",
       "      <td>...</td>\n",
       "      <td>NaN</td>\n",
       "      <td>NaN</td>\n",
       "      <td>F</td>\n",
       "      <td>55.0</td>\n",
       "      <td>0610b486422d4921ae7d2bf64640c50b</td>\n",
       "      <td>2017-07-15</td>\n",
       "      <td>112000.0</td>\n",
       "      <td>-1632</td>\n",
       "      <td>77.01</td>\n",
       "      <td>0.107857</td>\n",
       "    </tr>\n",
       "    <tr>\n",
       "      <th>2</th>\n",
       "      <td>2</td>\n",
       "      <td>38fe809add3b4fcf9315a9694bb96ff5</td>\n",
       "      <td>no_offer</td>\n",
       "      <td>545.0</td>\n",
       "      <td>14.30</td>\n",
       "      <td>0.026239</td>\n",
       "      <td>c</td>\n",
       "      <td>NaN</td>\n",
       "      <td>NaN</td>\n",
       "      <td>NaN</td>\n",
       "      <td>...</td>\n",
       "      <td>NaN</td>\n",
       "      <td>NaN</td>\n",
       "      <td>NaN</td>\n",
       "      <td>NaN</td>\n",
       "      <td>38fe809add3b4fcf9315a9694bb96ff5</td>\n",
       "      <td>2018-07-12</td>\n",
       "      <td>NaN</td>\n",
       "      <td>-1270</td>\n",
       "      <td>14.30</td>\n",
       "      <td>0.026239</td>\n",
       "    </tr>\n",
       "    <tr>\n",
       "      <th>3</th>\n",
       "      <td>3</td>\n",
       "      <td>78afa995795e4d85b5d9ceeca43f5fef</td>\n",
       "      <td>no_offer</td>\n",
       "      <td>459.0</td>\n",
       "      <td>68.27</td>\n",
       "      <td>0.148736</td>\n",
       "      <td>c</td>\n",
       "      <td>NaN</td>\n",
       "      <td>NaN</td>\n",
       "      <td>NaN</td>\n",
       "      <td>...</td>\n",
       "      <td>NaN</td>\n",
       "      <td>NaN</td>\n",
       "      <td>F</td>\n",
       "      <td>75.0</td>\n",
       "      <td>78afa995795e4d85b5d9ceeca43f5fef</td>\n",
       "      <td>2017-05-09</td>\n",
       "      <td>100000.0</td>\n",
       "      <td>-1699</td>\n",
       "      <td>68.27</td>\n",
       "      <td>0.148736</td>\n",
       "    </tr>\n",
       "    <tr>\n",
       "      <th>4</th>\n",
       "      <td>4</td>\n",
       "      <td>a03223e636434f42ac4c3df47e8bac43</td>\n",
       "      <td>no_offer</td>\n",
       "      <td>291.0</td>\n",
       "      <td>3.56</td>\n",
       "      <td>0.012234</td>\n",
       "      <td>c</td>\n",
       "      <td>NaN</td>\n",
       "      <td>NaN</td>\n",
       "      <td>NaN</td>\n",
       "      <td>...</td>\n",
       "      <td>NaN</td>\n",
       "      <td>NaN</td>\n",
       "      <td>NaN</td>\n",
       "      <td>NaN</td>\n",
       "      <td>a03223e636434f42ac4c3df47e8bac43</td>\n",
       "      <td>2017-08-04</td>\n",
       "      <td>NaN</td>\n",
       "      <td>-1612</td>\n",
       "      <td>3.56</td>\n",
       "      <td>0.012234</td>\n",
       "    </tr>\n",
       "    <tr>\n",
       "      <th>...</th>\n",
       "      <td>...</td>\n",
       "      <td>...</td>\n",
       "      <td>...</td>\n",
       "      <td>...</td>\n",
       "      <td>...</td>\n",
       "      <td>...</td>\n",
       "      <td>...</td>\n",
       "      <td>...</td>\n",
       "      <td>...</td>\n",
       "      <td>...</td>\n",
       "      <td>...</td>\n",
       "      <td>...</td>\n",
       "      <td>...</td>\n",
       "      <td>...</td>\n",
       "      <td>...</td>\n",
       "      <td>...</td>\n",
       "      <td>...</td>\n",
       "      <td>...</td>\n",
       "      <td>...</td>\n",
       "      <td>...</td>\n",
       "      <td>...</td>\n",
       "    </tr>\n",
       "    <tr>\n",
       "      <th>66442</th>\n",
       "      <td>66442</td>\n",
       "      <td>fffad4f4828548d1b5583907f2e9906b</td>\n",
       "      <td>76614</td>\n",
       "      <td>31.0</td>\n",
       "      <td>6.97</td>\n",
       "      <td>0.224839</td>\n",
       "      <td>t</td>\n",
       "      <td>3.292786</td>\n",
       "      <td>3.677214</td>\n",
       "      <td>0.106219</td>\n",
       "      <td>...</td>\n",
       "      <td>30.0</td>\n",
       "      <td>84.0</td>\n",
       "      <td>M</td>\n",
       "      <td>34.0</td>\n",
       "      <td>fffad4f4828548d1b5583907f2e9906b</td>\n",
       "      <td>2017-01-23</td>\n",
       "      <td>34000.0</td>\n",
       "      <td>-1805</td>\n",
       "      <td>1.97</td>\n",
       "      <td>0.063548</td>\n",
       "    </tr>\n",
       "    <tr>\n",
       "      <th>66443</th>\n",
       "      <td>66443</td>\n",
       "      <td>fffad4f4828548d1b5583907f2e9906b</td>\n",
       "      <td>76615</td>\n",
       "      <td>7.0</td>\n",
       "      <td>12.18</td>\n",
       "      <td>1.740000</td>\n",
       "      <td>t</td>\n",
       "      <td>0.743532</td>\n",
       "      <td>11.436468</td>\n",
       "      <td>0.106219</td>\n",
       "      <td>...</td>\n",
       "      <td>6.0</td>\n",
       "      <td>12.0</td>\n",
       "      <td>M</td>\n",
       "      <td>34.0</td>\n",
       "      <td>fffad4f4828548d1b5583907f2e9906b</td>\n",
       "      <td>2017-01-23</td>\n",
       "      <td>34000.0</td>\n",
       "      <td>-1805</td>\n",
       "      <td>7.18</td>\n",
       "      <td>1.025714</td>\n",
       "    </tr>\n",
       "    <tr>\n",
       "      <th>66444</th>\n",
       "      <td>66444</td>\n",
       "      <td>ffff82501cea40309d5fdd7edcca4a07</td>\n",
       "      <td>76616</td>\n",
       "      <td>25.0</td>\n",
       "      <td>22.88</td>\n",
       "      <td>0.915200</td>\n",
       "      <td>t</td>\n",
       "      <td>7.112769</td>\n",
       "      <td>15.767231</td>\n",
       "      <td>0.284511</td>\n",
       "      <td>...</td>\n",
       "      <td>24.0</td>\n",
       "      <td>210.0</td>\n",
       "      <td>F</td>\n",
       "      <td>45.0</td>\n",
       "      <td>ffff82501cea40309d5fdd7edcca4a07</td>\n",
       "      <td>2016-11-25</td>\n",
       "      <td>62000.0</td>\n",
       "      <td>-1864</td>\n",
       "      <td>17.88</td>\n",
       "      <td>0.715200</td>\n",
       "    </tr>\n",
       "    <tr>\n",
       "      <th>66445</th>\n",
       "      <td>66445</td>\n",
       "      <td>ffff82501cea40309d5fdd7edcca4a07</td>\n",
       "      <td>76617</td>\n",
       "      <td>31.0</td>\n",
       "      <td>15.57</td>\n",
       "      <td>0.502258</td>\n",
       "      <td>t</td>\n",
       "      <td>8.819834</td>\n",
       "      <td>6.750166</td>\n",
       "      <td>0.284511</td>\n",
       "      <td>...</td>\n",
       "      <td>30.0</td>\n",
       "      <td>120.0</td>\n",
       "      <td>F</td>\n",
       "      <td>45.0</td>\n",
       "      <td>ffff82501cea40309d5fdd7edcca4a07</td>\n",
       "      <td>2016-11-25</td>\n",
       "      <td>62000.0</td>\n",
       "      <td>-1864</td>\n",
       "      <td>13.57</td>\n",
       "      <td>0.437742</td>\n",
       "    </tr>\n",
       "    <tr>\n",
       "      <th>66446</th>\n",
       "      <td>66446</td>\n",
       "      <td>ffff82501cea40309d5fdd7edcca4a07</td>\n",
       "      <td>76621</td>\n",
       "      <td>55.0</td>\n",
       "      <td>16.06</td>\n",
       "      <td>0.292000</td>\n",
       "      <td>t</td>\n",
       "      <td>15.648093</td>\n",
       "      <td>0.411907</td>\n",
       "      <td>0.284511</td>\n",
       "      <td>...</td>\n",
       "      <td>54.0</td>\n",
       "      <td>180.0</td>\n",
       "      <td>F</td>\n",
       "      <td>45.0</td>\n",
       "      <td>ffff82501cea40309d5fdd7edcca4a07</td>\n",
       "      <td>2016-11-25</td>\n",
       "      <td>62000.0</td>\n",
       "      <td>-1864</td>\n",
       "      <td>14.06</td>\n",
       "      <td>0.255636</td>\n",
       "    </tr>\n",
       "  </tbody>\n",
       "</table>\n",
       "<p>66447 rows × 38 columns</p>\n",
       "</div>"
      ],
      "text/plain": [
       "       Unnamed: 0                            person  block_id   hour  amount  \\\n",
       "0               0  68be06ca386d4c31939f3a4f0e3dd783  no_offer  231.0    0.00   \n",
       "1               1  0610b486422d4921ae7d2bf64640c50b  no_offer  714.0   77.01   \n",
       "2               2  38fe809add3b4fcf9315a9694bb96ff5  no_offer  545.0   14.30   \n",
       "3               3  78afa995795e4d85b5d9ceeca43f5fef  no_offer  459.0   68.27   \n",
       "4               4  a03223e636434f42ac4c3df47e8bac43  no_offer  291.0    3.56   \n",
       "...           ...                               ...       ...    ...     ...   \n",
       "66442       66442  fffad4f4828548d1b5583907f2e9906b     76614   31.0    6.97   \n",
       "66443       66443  fffad4f4828548d1b5583907f2e9906b     76615    7.0   12.18   \n",
       "66444       66444  ffff82501cea40309d5fdd7edcca4a07     76616   25.0   22.88   \n",
       "66445       66445  ffff82501cea40309d5fdd7edcca4a07     76617   31.0   15.57   \n",
       "66446       66446  ffff82501cea40309d5fdd7edcca4a07     76621   55.0   16.06   \n",
       "\n",
       "       hourly_avg group  baseline_spend_during_awareness_time  \\\n",
       "0        0.000000     c                                   NaN   \n",
       "1        0.107857     c                                   NaN   \n",
       "2        0.026239     c                                   NaN   \n",
       "3        0.148736     c                                   NaN   \n",
       "4        0.012234     c                                   NaN   \n",
       "...           ...   ...                                   ...   \n",
       "66442    0.224839     t                              3.292786   \n",
       "66443    1.740000     t                              0.743532   \n",
       "66444    0.915200     t                              7.112769   \n",
       "66445    0.502258     t                              8.819834   \n",
       "66446    0.292000     t                             15.648093   \n",
       "\n",
       "       incremental_spend  hourly_avg_during_nonawareness  ...  \\\n",
       "0                    NaN                             NaN  ...   \n",
       "1                    NaN                             NaN  ...   \n",
       "2                    NaN                             NaN  ...   \n",
       "3                    NaN                             NaN  ...   \n",
       "4                    NaN                             NaN  ...   \n",
       "...                  ...                             ...  ...   \n",
       "66442           3.677214                        0.106219  ...   \n",
       "66443          11.436468                        0.106219  ...   \n",
       "66444          15.767231                        0.284511  ...   \n",
       "66445           6.750166                        0.284511  ...   \n",
       "66446           0.411907                        0.284511  ...   \n",
       "\n",
       "      time_lag_completion  time_lag_completion_to_expiry  gender   age  \\\n",
       "0                     NaN                            NaN     NaN   NaN   \n",
       "1                     NaN                            NaN       F  55.0   \n",
       "2                     NaN                            NaN     NaN   NaN   \n",
       "3                     NaN                            NaN       F  75.0   \n",
       "4                     NaN                            NaN     NaN   NaN   \n",
       "...                   ...                            ...     ...   ...   \n",
       "66442                30.0                           84.0       M  34.0   \n",
       "66443                 6.0                           12.0       M  34.0   \n",
       "66444                24.0                          210.0       F  45.0   \n",
       "66445                30.0                          120.0       F  45.0   \n",
       "66446                54.0                          180.0       F  45.0   \n",
       "\n",
       "                                     id became_member_on    income  \\\n",
       "0      68be06ca386d4c31939f3a4f0e3dd783       2017-02-12       NaN   \n",
       "1      0610b486422d4921ae7d2bf64640c50b       2017-07-15  112000.0   \n",
       "2      38fe809add3b4fcf9315a9694bb96ff5       2018-07-12       NaN   \n",
       "3      78afa995795e4d85b5d9ceeca43f5fef       2017-05-09  100000.0   \n",
       "4      a03223e636434f42ac4c3df47e8bac43       2017-08-04       NaN   \n",
       "...                                 ...              ...       ...   \n",
       "66442  fffad4f4828548d1b5583907f2e9906b       2017-01-23   34000.0   \n",
       "66443  fffad4f4828548d1b5583907f2e9906b       2017-01-23   34000.0   \n",
       "66444  ffff82501cea40309d5fdd7edcca4a07       2016-11-25   62000.0   \n",
       "66445  ffff82501cea40309d5fdd7edcca4a07       2016-11-25   62000.0   \n",
       "66446  ffff82501cea40309d5fdd7edcca4a07       2016-11-25   62000.0   \n",
       "\n",
       "       membership_duration  net_spend  net_spend_hourly_avg  \n",
       "0                    -1785       0.00              0.000000  \n",
       "1                    -1632      77.01              0.107857  \n",
       "2                    -1270      14.30              0.026239  \n",
       "3                    -1699      68.27              0.148736  \n",
       "4                    -1612       3.56              0.012234  \n",
       "...                    ...        ...                   ...  \n",
       "66442                -1805       1.97              0.063548  \n",
       "66443                -1805       7.18              1.025714  \n",
       "66444                -1864      17.88              0.715200  \n",
       "66445                -1864      13.57              0.437742  \n",
       "66446                -1864      14.06              0.255636  \n",
       "\n",
       "[66447 rows x 38 columns]"
      ]
     },
     "execution_count": 307,
     "metadata": {},
     "output_type": "execute_result"
    }
   ],
   "source": [
    "analysis_df"
   ]
  },
  {
   "cell_type": "markdown",
   "id": "b82d551e",
   "metadata": {},
   "source": [
    "#### Create better identifier for offers in order to make graphs more meaningful"
   ]
  },
  {
   "cell_type": "code",
   "execution_count": 308,
   "id": "5fcb13e3",
   "metadata": {},
   "outputs": [],
   "source": [
    "# Create a variable that identifies offers and gives some descriptive context:\n",
    "# type_difficulty_reward_#channels\n",
    "event_descriptor_dict = {'ae264e3637204a6fb9bb56bc8210ddfd':'bogo_10_10_3',\n",
    "                        '0b1e1539f2cc45b7b9fa7c272da2e1d7':'disc_20_5_2',\n",
    "                        '5a8bc65990b245e5a138643cd4eb9837':'info_0_0_2',\n",
    "                        '3f207df678b143eea3cee63160fa8bed':'info_0_0_4',\n",
    "                        '4d5c57ea9a6940dd891ad53e9dbe8da0':'bogo_10_10_4',\n",
    "                        'f19421c1d4aa40978ebb69ca19b0e20d':'bogo_5_5_4',\n",
    "                        'fafdcd668e3743c1bb461111dcafc2a4':'disc_10_2_4',\n",
    "                        '2298d6c36e964ae4a3e7e9706d1fb8c2':'disc_7_3_4',\n",
    "                        '2906b810c7d4411798c6938adc9daaa5':'disc_10_2_3',\n",
    "                        '9b98b8c7a33c4b65b9aebfe6a799e6d9':'bogo_5_5_3'}\n",
    "\n",
    "analysis_df['offer_descriptor'] = analysis_df['event_offer_id'].map(event_descriptor_dict)"
   ]
  },
  {
   "cell_type": "code",
   "execution_count": 309,
   "id": "b515bcd6",
   "metadata": {},
   "outputs": [],
   "source": [
    "# Create a pure treatment dataframe\n",
    "analysis_df_t = analysis_df.loc[analysis_df['group'] == 't']"
   ]
  },
  {
   "cell_type": "code",
   "execution_count": 321,
   "id": "806d64e6",
   "metadata": {
    "scrolled": false
   },
   "outputs": [
    {
     "data": {
      "text/html": [
       "<div>\n",
       "<style scoped>\n",
       "    .dataframe tbody tr th:only-of-type {\n",
       "        vertical-align: middle;\n",
       "    }\n",
       "\n",
       "    .dataframe tbody tr th {\n",
       "        vertical-align: top;\n",
       "    }\n",
       "\n",
       "    .dataframe thead th {\n",
       "        text-align: right;\n",
       "    }\n",
       "</style>\n",
       "<table border=\"1\" class=\"dataframe\">\n",
       "  <thead>\n",
       "    <tr style=\"text-align: right;\">\n",
       "      <th></th>\n",
       "      <th>Unnamed: 0</th>\n",
       "      <th>person</th>\n",
       "      <th>block_id</th>\n",
       "      <th>hour</th>\n",
       "      <th>amount</th>\n",
       "      <th>hourly_avg</th>\n",
       "      <th>group</th>\n",
       "      <th>baseline_spend_during_awareness_time</th>\n",
       "      <th>incremental_spend</th>\n",
       "      <th>hourly_avg_during_nonawareness</th>\n",
       "      <th>...</th>\n",
       "      <th>age</th>\n",
       "      <th>id</th>\n",
       "      <th>became_member_on</th>\n",
       "      <th>income</th>\n",
       "      <th>membership_duration</th>\n",
       "      <th>net_spend</th>\n",
       "      <th>net_spend_hourly_avg</th>\n",
       "      <th>offer_descriptor</th>\n",
       "      <th>offer_valid_until_exceeding_experiment</th>\n",
       "      <th>outlier</th>\n",
       "    </tr>\n",
       "  </thead>\n",
       "  <tbody>\n",
       "    <tr>\n",
       "      <th>17000</th>\n",
       "      <td>17000</td>\n",
       "      <td>0009655768c64bdeb2e877511632db8f</td>\n",
       "      <td>1</td>\n",
       "      <td>61.0</td>\n",
       "      <td>8.570</td>\n",
       "      <td>0.140492</td>\n",
       "      <td>t</td>\n",
       "      <td>9.783228</td>\n",
       "      <td>-1.213228</td>\n",
       "      <td>0.160381</td>\n",
       "      <td>...</td>\n",
       "      <td>33.0</td>\n",
       "      <td>0009655768c64bdeb2e877511632db8f</td>\n",
       "      <td>2017-04-21</td>\n",
       "      <td>72000.0</td>\n",
       "      <td>-1717</td>\n",
       "      <td>8.570</td>\n",
       "      <td>0.140492</td>\n",
       "      <td>info_0_0_4</td>\n",
       "      <td>432.0</td>\n",
       "      <td>0</td>\n",
       "    </tr>\n",
       "    <tr>\n",
       "      <th>17001</th>\n",
       "      <td>17001</td>\n",
       "      <td>0009655768c64bdeb2e877511632db8f</td>\n",
       "      <td>2</td>\n",
       "      <td>49.0</td>\n",
       "      <td>22.160</td>\n",
       "      <td>0.452245</td>\n",
       "      <td>t</td>\n",
       "      <td>7.858659</td>\n",
       "      <td>14.301341</td>\n",
       "      <td>0.160381</td>\n",
       "      <td>...</td>\n",
       "      <td>33.0</td>\n",
       "      <td>0009655768c64bdeb2e877511632db8f</td>\n",
       "      <td>2017-04-21</td>\n",
       "      <td>72000.0</td>\n",
       "      <td>-1717</td>\n",
       "      <td>22.160</td>\n",
       "      <td>0.452245</td>\n",
       "      <td>info_0_0_2</td>\n",
       "      <td>240.0</td>\n",
       "      <td>0</td>\n",
       "    </tr>\n",
       "    <tr>\n",
       "      <th>17002</th>\n",
       "      <td>17002</td>\n",
       "      <td>00116118485d4dfda04fdbaba9a87b5c</td>\n",
       "      <td>5</td>\n",
       "      <td>73.0</td>\n",
       "      <td>0.000</td>\n",
       "      <td>0.000000</td>\n",
       "      <td>t</td>\n",
       "      <td>0.520157</td>\n",
       "      <td>-0.520157</td>\n",
       "      <td>0.007125</td>\n",
       "      <td>...</td>\n",
       "      <td>NaN</td>\n",
       "      <td>00116118485d4dfda04fdbaba9a87b5c</td>\n",
       "      <td>2018-04-25</td>\n",
       "      <td>NaN</td>\n",
       "      <td>-1348</td>\n",
       "      <td>0.000</td>\n",
       "      <td>0.000000</td>\n",
       "      <td>bogo_5_5_4</td>\n",
       "      <td>288.0</td>\n",
       "      <td>0</td>\n",
       "    </tr>\n",
       "    <tr>\n",
       "      <th>17003</th>\n",
       "      <td>17003</td>\n",
       "      <td>00116118485d4dfda04fdbaba9a87b5c</td>\n",
       "      <td>6</td>\n",
       "      <td>67.0</td>\n",
       "      <td>0.000</td>\n",
       "      <td>0.000000</td>\n",
       "      <td>t</td>\n",
       "      <td>0.477404</td>\n",
       "      <td>-0.477404</td>\n",
       "      <td>0.007125</td>\n",
       "      <td>...</td>\n",
       "      <td>NaN</td>\n",
       "      <td>00116118485d4dfda04fdbaba9a87b5c</td>\n",
       "      <td>2018-04-25</td>\n",
       "      <td>NaN</td>\n",
       "      <td>-1348</td>\n",
       "      <td>0.000</td>\n",
       "      <td>0.000000</td>\n",
       "      <td>bogo_5_5_4</td>\n",
       "      <td>696.0</td>\n",
       "      <td>0</td>\n",
       "    </tr>\n",
       "    <tr>\n",
       "      <th>17004</th>\n",
       "      <td>17004</td>\n",
       "      <td>0011e0d4e6b944f998e987f904e8c1e5</td>\n",
       "      <td>7</td>\n",
       "      <td>145.0</td>\n",
       "      <td>11.025</td>\n",
       "      <td>0.076034</td>\n",
       "      <td>t</td>\n",
       "      <td>18.524157</td>\n",
       "      <td>-7.499157</td>\n",
       "      <td>0.127753</td>\n",
       "      <td>...</td>\n",
       "      <td>40.0</td>\n",
       "      <td>0011e0d4e6b944f998e987f904e8c1e5</td>\n",
       "      <td>2018-01-09</td>\n",
       "      <td>57000.0</td>\n",
       "      <td>-1454</td>\n",
       "      <td>6.025</td>\n",
       "      <td>0.041552</td>\n",
       "      <td>disc_20_5_2</td>\n",
       "      <td>648.0</td>\n",
       "      <td>0</td>\n",
       "    </tr>\n",
       "    <tr>\n",
       "      <th>...</th>\n",
       "      <td>...</td>\n",
       "      <td>...</td>\n",
       "      <td>...</td>\n",
       "      <td>...</td>\n",
       "      <td>...</td>\n",
       "      <td>...</td>\n",
       "      <td>...</td>\n",
       "      <td>...</td>\n",
       "      <td>...</td>\n",
       "      <td>...</td>\n",
       "      <td>...</td>\n",
       "      <td>...</td>\n",
       "      <td>...</td>\n",
       "      <td>...</td>\n",
       "      <td>...</td>\n",
       "      <td>...</td>\n",
       "      <td>...</td>\n",
       "      <td>...</td>\n",
       "      <td>...</td>\n",
       "      <td>...</td>\n",
       "      <td>...</td>\n",
       "    </tr>\n",
       "    <tr>\n",
       "      <th>66442</th>\n",
       "      <td>66442</td>\n",
       "      <td>fffad4f4828548d1b5583907f2e9906b</td>\n",
       "      <td>76614</td>\n",
       "      <td>31.0</td>\n",
       "      <td>6.970</td>\n",
       "      <td>0.224839</td>\n",
       "      <td>t</td>\n",
       "      <td>3.292786</td>\n",
       "      <td>3.677214</td>\n",
       "      <td>0.106219</td>\n",
       "      <td>...</td>\n",
       "      <td>34.0</td>\n",
       "      <td>fffad4f4828548d1b5583907f2e9906b</td>\n",
       "      <td>2017-01-23</td>\n",
       "      <td>34000.0</td>\n",
       "      <td>-1805</td>\n",
       "      <td>1.970</td>\n",
       "      <td>0.063548</td>\n",
       "      <td>bogo_5_5_4</td>\n",
       "      <td>120.0</td>\n",
       "      <td>0</td>\n",
       "    </tr>\n",
       "    <tr>\n",
       "      <th>66443</th>\n",
       "      <td>66443</td>\n",
       "      <td>fffad4f4828548d1b5583907f2e9906b</td>\n",
       "      <td>76615</td>\n",
       "      <td>7.0</td>\n",
       "      <td>12.180</td>\n",
       "      <td>1.740000</td>\n",
       "      <td>t</td>\n",
       "      <td>0.743532</td>\n",
       "      <td>11.436468</td>\n",
       "      <td>0.106219</td>\n",
       "      <td>...</td>\n",
       "      <td>34.0</td>\n",
       "      <td>fffad4f4828548d1b5583907f2e9906b</td>\n",
       "      <td>2017-01-23</td>\n",
       "      <td>34000.0</td>\n",
       "      <td>-1805</td>\n",
       "      <td>7.180</td>\n",
       "      <td>1.025714</td>\n",
       "      <td>bogo_5_5_4</td>\n",
       "      <td>528.0</td>\n",
       "      <td>0</td>\n",
       "    </tr>\n",
       "    <tr>\n",
       "      <th>66444</th>\n",
       "      <td>66444</td>\n",
       "      <td>ffff82501cea40309d5fdd7edcca4a07</td>\n",
       "      <td>76616</td>\n",
       "      <td>25.0</td>\n",
       "      <td>22.880</td>\n",
       "      <td>0.915200</td>\n",
       "      <td>t</td>\n",
       "      <td>7.112769</td>\n",
       "      <td>15.767231</td>\n",
       "      <td>0.284511</td>\n",
       "      <td>...</td>\n",
       "      <td>45.0</td>\n",
       "      <td>ffff82501cea40309d5fdd7edcca4a07</td>\n",
       "      <td>2016-11-25</td>\n",
       "      <td>62000.0</td>\n",
       "      <td>-1864</td>\n",
       "      <td>17.880</td>\n",
       "      <td>0.715200</td>\n",
       "      <td>disc_20_5_2</td>\n",
       "      <td>408.0</td>\n",
       "      <td>0</td>\n",
       "    </tr>\n",
       "    <tr>\n",
       "      <th>66445</th>\n",
       "      <td>66445</td>\n",
       "      <td>ffff82501cea40309d5fdd7edcca4a07</td>\n",
       "      <td>76617</td>\n",
       "      <td>31.0</td>\n",
       "      <td>15.570</td>\n",
       "      <td>0.502258</td>\n",
       "      <td>t</td>\n",
       "      <td>8.819834</td>\n",
       "      <td>6.750166</td>\n",
       "      <td>0.284511</td>\n",
       "      <td>...</td>\n",
       "      <td>45.0</td>\n",
       "      <td>ffff82501cea40309d5fdd7edcca4a07</td>\n",
       "      <td>2016-11-25</td>\n",
       "      <td>62000.0</td>\n",
       "      <td>-1864</td>\n",
       "      <td>13.570</td>\n",
       "      <td>0.437742</td>\n",
       "      <td>disc_10_2_3</td>\n",
       "      <td>504.0</td>\n",
       "      <td>0</td>\n",
       "    </tr>\n",
       "    <tr>\n",
       "      <th>66446</th>\n",
       "      <td>66446</td>\n",
       "      <td>ffff82501cea40309d5fdd7edcca4a07</td>\n",
       "      <td>76621</td>\n",
       "      <td>55.0</td>\n",
       "      <td>16.060</td>\n",
       "      <td>0.292000</td>\n",
       "      <td>t</td>\n",
       "      <td>15.648093</td>\n",
       "      <td>0.411907</td>\n",
       "      <td>0.284511</td>\n",
       "      <td>...</td>\n",
       "      <td>45.0</td>\n",
       "      <td>ffff82501cea40309d5fdd7edcca4a07</td>\n",
       "      <td>2016-11-25</td>\n",
       "      <td>62000.0</td>\n",
       "      <td>-1864</td>\n",
       "      <td>14.060</td>\n",
       "      <td>0.255636</td>\n",
       "      <td>disc_10_2_4</td>\n",
       "      <td>240.0</td>\n",
       "      <td>0</td>\n",
       "    </tr>\n",
       "  </tbody>\n",
       "</table>\n",
       "<p>42571 rows × 41 columns</p>\n",
       "</div>"
      ],
      "text/plain": [
       "       Unnamed: 0                            person block_id   hour  amount  \\\n",
       "17000       17000  0009655768c64bdeb2e877511632db8f        1   61.0   8.570   \n",
       "17001       17001  0009655768c64bdeb2e877511632db8f        2   49.0  22.160   \n",
       "17002       17002  00116118485d4dfda04fdbaba9a87b5c        5   73.0   0.000   \n",
       "17003       17003  00116118485d4dfda04fdbaba9a87b5c        6   67.0   0.000   \n",
       "17004       17004  0011e0d4e6b944f998e987f904e8c1e5        7  145.0  11.025   \n",
       "...           ...                               ...      ...    ...     ...   \n",
       "66442       66442  fffad4f4828548d1b5583907f2e9906b    76614   31.0   6.970   \n",
       "66443       66443  fffad4f4828548d1b5583907f2e9906b    76615    7.0  12.180   \n",
       "66444       66444  ffff82501cea40309d5fdd7edcca4a07    76616   25.0  22.880   \n",
       "66445       66445  ffff82501cea40309d5fdd7edcca4a07    76617   31.0  15.570   \n",
       "66446       66446  ffff82501cea40309d5fdd7edcca4a07    76621   55.0  16.060   \n",
       "\n",
       "       hourly_avg group  baseline_spend_during_awareness_time  \\\n",
       "17000    0.140492     t                              9.783228   \n",
       "17001    0.452245     t                              7.858659   \n",
       "17002    0.000000     t                              0.520157   \n",
       "17003    0.000000     t                              0.477404   \n",
       "17004    0.076034     t                             18.524157   \n",
       "...           ...   ...                                   ...   \n",
       "66442    0.224839     t                              3.292786   \n",
       "66443    1.740000     t                              0.743532   \n",
       "66444    0.915200     t                              7.112769   \n",
       "66445    0.502258     t                              8.819834   \n",
       "66446    0.292000     t                             15.648093   \n",
       "\n",
       "       incremental_spend  hourly_avg_during_nonawareness  ...   age  \\\n",
       "17000          -1.213228                        0.160381  ...  33.0   \n",
       "17001          14.301341                        0.160381  ...  33.0   \n",
       "17002          -0.520157                        0.007125  ...   NaN   \n",
       "17003          -0.477404                        0.007125  ...   NaN   \n",
       "17004          -7.499157                        0.127753  ...  40.0   \n",
       "...                  ...                             ...  ...   ...   \n",
       "66442           3.677214                        0.106219  ...  34.0   \n",
       "66443          11.436468                        0.106219  ...  34.0   \n",
       "66444          15.767231                        0.284511  ...  45.0   \n",
       "66445           6.750166                        0.284511  ...  45.0   \n",
       "66446           0.411907                        0.284511  ...  45.0   \n",
       "\n",
       "                                     id  became_member_on   income  \\\n",
       "17000  0009655768c64bdeb2e877511632db8f        2017-04-21  72000.0   \n",
       "17001  0009655768c64bdeb2e877511632db8f        2017-04-21  72000.0   \n",
       "17002  00116118485d4dfda04fdbaba9a87b5c        2018-04-25      NaN   \n",
       "17003  00116118485d4dfda04fdbaba9a87b5c        2018-04-25      NaN   \n",
       "17004  0011e0d4e6b944f998e987f904e8c1e5        2018-01-09  57000.0   \n",
       "...                                 ...               ...      ...   \n",
       "66442  fffad4f4828548d1b5583907f2e9906b        2017-01-23  34000.0   \n",
       "66443  fffad4f4828548d1b5583907f2e9906b        2017-01-23  34000.0   \n",
       "66444  ffff82501cea40309d5fdd7edcca4a07        2016-11-25  62000.0   \n",
       "66445  ffff82501cea40309d5fdd7edcca4a07        2016-11-25  62000.0   \n",
       "66446  ffff82501cea40309d5fdd7edcca4a07        2016-11-25  62000.0   \n",
       "\n",
       "       membership_duration net_spend  net_spend_hourly_avg  offer_descriptor  \\\n",
       "17000                -1717     8.570              0.140492        info_0_0_4   \n",
       "17001                -1717    22.160              0.452245        info_0_0_2   \n",
       "17002                -1348     0.000              0.000000        bogo_5_5_4   \n",
       "17003                -1348     0.000              0.000000        bogo_5_5_4   \n",
       "17004                -1454     6.025              0.041552       disc_20_5_2   \n",
       "...                    ...       ...                   ...               ...   \n",
       "66442                -1805     1.970              0.063548        bogo_5_5_4   \n",
       "66443                -1805     7.180              1.025714        bogo_5_5_4   \n",
       "66444                -1864    17.880              0.715200       disc_20_5_2   \n",
       "66445                -1864    13.570              0.437742       disc_10_2_3   \n",
       "66446                -1864    14.060              0.255636       disc_10_2_4   \n",
       "\n",
       "       offer_valid_until_exceeding_experiment  outlier  \n",
       "17000                                   432.0        0  \n",
       "17001                                   240.0        0  \n",
       "17002                                   288.0        0  \n",
       "17003                                   696.0        0  \n",
       "17004                                   648.0        0  \n",
       "...                                       ...      ...  \n",
       "66442                                   120.0        0  \n",
       "66443                                   528.0        0  \n",
       "66444                                   408.0        0  \n",
       "66445                                   504.0        0  \n",
       "66446                                   240.0        0  \n",
       "\n",
       "[42571 rows x 41 columns]"
      ]
     },
     "execution_count": 321,
     "metadata": {},
     "output_type": "execute_result"
    }
   ],
   "source": [
    "analysis_df_t"
   ]
  },
  {
   "cell_type": "markdown",
   "id": "c1e077d0",
   "metadata": {},
   "source": [
    "#### Remove all awareness period where the offer was not completed or did not expire during the analysis timeframe"
   ]
  },
  {
   "cell_type": "code",
   "execution_count": 291,
   "id": "201e4d5e",
   "metadata": {
    "scrolled": true
   },
   "outputs": [
    {
     "data": {
      "text/plain": [
       "Unnamed: 0                                int64\n",
       "person                                   object\n",
       "block_id                                 object\n",
       "hour                                    float64\n",
       "amount                                  float64\n",
       "hourly_avg                              float64\n",
       "group                                    object\n",
       "baseline_spend_during_awareness_time    float64\n",
       "incremental_spend                       float64\n",
       "hourly_avg_during_nonawareness          float64\n",
       "event_offer_id                           object\n",
       "offer received                          float64\n",
       "offer viewed                            float64\n",
       "offer completed                         float64\n",
       "event_reward                            float64\n",
       "offer_type                               object\n",
       "offer_reward                            float64\n",
       "offer_duration                          float64\n",
       "offer_valid_until                       float64\n",
       "offer_difficulty                        float64\n",
       "email                                   float64\n",
       "web                                     float64\n",
       "social                                  float64\n",
       "mobile                                  float64\n",
       "factual_validity_end                    float64\n",
       "was_completed                           float64\n",
       "was_aware                               float64\n",
       "time_lag_awareness                      float64\n",
       "time_lag_completion                     float64\n",
       "time_lag_completion_to_expiry           float64\n",
       "gender                                   object\n",
       "age                                     float64\n",
       "id                                       object\n",
       "became_member_on                         object\n",
       "income                                  float64\n",
       "membership_duration                       int64\n",
       "net_spend                               float64\n",
       "net_spend_hourly_avg                    float64\n",
       "offer_descriptor                         object\n",
       "outlier                                   int64\n",
       "dtype: object"
      ]
     },
     "execution_count": 291,
     "metadata": {},
     "output_type": "execute_result"
    }
   ],
   "source": [
    "analysis_df_t.dtypes"
   ]
  },
  {
   "cell_type": "code",
   "execution_count": 311,
   "id": "05e8f39e",
   "metadata": {
    "scrolled": false
   },
   "outputs": [
    {
     "name": "stderr",
     "output_type": "stream",
     "text": [
      "C:\\Users\\j\\Python\\lib\\site-packages\\ipykernel_launcher.py:1: SettingWithCopyWarning: \n",
      "A value is trying to be set on a copy of a slice from a DataFrame.\n",
      "Try using .loc[row_indexer,col_indexer] = value instead\n",
      "\n",
      "See the caveats in the documentation: https://pandas.pydata.org/pandas-docs/stable/user_guide/indexing.html#returning-a-view-versus-a-copy\n",
      "  \"\"\"Entry point for launching an IPython kernel.\n"
     ]
    }
   ],
   "source": [
    "analysis_df_t['offer_valid_until_exceeding_experiment'] = analysis_df_t['offer_duration'] + analysis_df_t['offer received']"
   ]
  },
  {
   "cell_type": "code",
   "execution_count": 312,
   "id": "dab903c3",
   "metadata": {},
   "outputs": [],
   "source": [
    "# Remove offers where the outcome is unclear at the end of the experiment\n",
    "analysis_df_t = analysis_df_t.loc[analysis_df_t['offer_valid_until_exceeding_experiment'] <= transcript['time'].max()]"
   ]
  },
  {
   "cell_type": "markdown",
   "id": "a875adcb",
   "metadata": {},
   "source": [
    "#### Remove outliers of incremental spend\n",
    "Rationale: Some respondents have oddly high values in transaction records. Potentially, they bought for a large group of people, or it is a data entry error. These records can lead to very high or very low incremental spend. They will heavily bias averages and need to be removed. \n",
    "* The **histogram** below shows the distribution of very high and very low values to get a feeling for the magnitudes. \n",
    "* The **Q-Q plot** shows that the data is not normally distributed (it is \" too narrow\", i.e. it has lower variance than a normal distribution) and hence the way to remove outliers should be using the IQR (see: Jason Brownlee on April 25, 2018 in Data Preparation - How to Remove Outliers for Machine Learning - Machine Learning Matery: https://machinelearningmastery.com/how-to-use-statistics-to-identify-outliers-in-data/) \n",
    "* The **boxplot** shows that the extreme values are largely considered outliers when using a IQR removal approach (see section *whis* for definition here: https://matplotlib.org/3.1.1/api/_as_gen/matplotlib.pyplot.boxplot.html)\n",
    "\n",
    "Using the usual 1.5 * IQR approach, 7.7% of the sample are removed as outliers. This is a rather high value, considering that when using the Standard Deviation method, between 2 and 4 standard deviations are used to define outliers, hence leading to a data loss of max. 5%. The factor by which the IQR is multiplied was hence increased to 3, which means that 2.34% of the data was classified as outliers. The cut-offs still seem high, but possible at -37 and 48."
   ]
  },
  {
   "cell_type": "code",
   "execution_count": 314,
   "id": "b24b186a",
   "metadata": {
    "scrolled": false
   },
   "outputs": [
    {
     "data": {
      "image/png": "[encoded data removed]",
      "text/plain": [
       "<Figure size 432x288 with 1 Axes>"
      ]
     },
     "metadata": {
      "needs_background": "light"
     },
     "output_type": "display_data"
    }
   ],
   "source": [
    "# Source Stackkoverflow: https://stackoverflow.com/questions/38424459/set-y-axis-limit-in-pandas-histogram\n",
    "# Question by Andy Toulis: https://stackoverflow.com/users/6369225/andy-toulis\n",
    "# Answer by Martin Thoma: https://stackoverflow.com/users/562769/martin-thoma\n",
    "analysis_df_t['incremental_spend'].plot.hist(ylim=(0,100), bins = 200);"
   ]
  },
  {
   "cell_type": "code",
   "execution_count": 315,
   "id": "1dff133c",
   "metadata": {
    "scrolled": false
   },
   "outputs": [
    {
     "data": {
      "image/png": "[encoded data removed]",
      "text/plain": [
       "<Figure size 432x288 with 1 Axes>"
      ]
     },
     "metadata": {
      "needs_background": "light"
     },
     "output_type": "display_data"
    }
   ],
   "source": [
    "# Normal distribution? Q-Q plot\n",
    "sm.qqplot(analysis_df_t['incremental_spend'], line = '45')\n",
    "pylab.show()"
   ]
  },
  {
   "cell_type": "code",
   "execution_count": 316,
   "id": "9fe0c3bb",
   "metadata": {
    "scrolled": true
   },
   "outputs": [
    {
     "data": {
      "image/png": "[encoded data removed]",
      "text/plain": [
       "<Figure size 432x288 with 1 Axes>"
      ]
     },
     "metadata": {
      "needs_background": "light"
     },
     "output_type": "display_data"
    }
   ],
   "source": [
    "# Outliers (\"flyers\") in the data\n",
    "plt.boxplot(analysis_df_t['incremental_spend']);"
   ]
  },
  {
   "cell_type": "code",
   "execution_count": 317,
   "id": "e21569cd",
   "metadata": {},
   "outputs": [
    {
     "name": "stdout",
     "output_type": "stream",
     "text": [
      "bottom cut off is:  -37.504245705101184\n",
      "top cut off is:  47.806031935075886\n"
     ]
    }
   ],
   "source": [
    "# Removing the outliers\n",
    "# Source: Jason Brownlee on April 25, 2018 in Data Preparation - How to Remove Outliers for Machine Learning - Machine Learning Matery: https://machinelearningmastery.com/how-to-use-statistics-to-identify-outliers-in-data/\n",
    "\n",
    "q25 = np.percentile(analysis_df_t['incremental_spend'], 25)\n",
    "q75 = np.percentile(analysis_df_t['incremental_spend'], 75)\n",
    "iqr = q75 - q25\n",
    "cut_off = iqr * 3\n",
    "bottom_cut_off = q25 - cut_off\n",
    "top_cut_off = q75 + cut_off\n",
    "print(\"bottom cut off is: \", bottom_cut_off)\n",
    "print(\"top cut off is: \", top_cut_off)"
   ]
  },
  {
   "cell_type": "code",
   "execution_count": 318,
   "id": "27533bd0",
   "metadata": {
    "scrolled": true
   },
   "outputs": [
    {
     "name": "stderr",
     "output_type": "stream",
     "text": [
      "C:\\Users\\j\\Python\\lib\\site-packages\\ipykernel_launcher.py:1: SettingWithCopyWarning: \n",
      "A value is trying to be set on a copy of a slice from a DataFrame.\n",
      "Try using .loc[row_indexer,col_indexer] = value instead\n",
      "\n",
      "See the caveats in the documentation: https://pandas.pydata.org/pandas-docs/stable/user_guide/indexing.html#returning-a-view-versus-a-copy\n",
      "  \"\"\"Entry point for launching an IPython kernel.\n",
      "C:\\Users\\j\\Python\\lib\\site-packages\\pandas\\core\\indexing.py:1720: SettingWithCopyWarning: \n",
      "A value is trying to be set on a copy of a slice from a DataFrame.\n",
      "Try using .loc[row_indexer,col_indexer] = value instead\n",
      "\n",
      "See the caveats in the documentation: https://pandas.pydata.org/pandas-docs/stable/user_guide/indexing.html#returning-a-view-versus-a-copy\n",
      "  self._setitem_single_column(loc, value, pi)\n"
     ]
    }
   ],
   "source": [
    "analysis_df_t['outlier'] = 0\n",
    "analysis_df_t.loc[(analysis_df_t['incremental_spend'] < bottom_cut_off) | (analysis_df_t['incremental_spend'] > top_cut_off), 'outlier'] = 1"
   ]
  },
  {
   "cell_type": "code",
   "execution_count": 319,
   "id": "adfa0853",
   "metadata": {
    "scrolled": true
   },
   "outputs": [
    {
     "data": {
      "text/plain": [
       "0    42571\n",
       "1     1046\n",
       "Name: outlier, dtype: int64"
      ]
     },
     "execution_count": 319,
     "metadata": {},
     "output_type": "execute_result"
    }
   ],
   "source": [
    "# Check number of outliers\n",
    "analysis_df_t['outlier'].value_counts()"
   ]
  },
  {
   "cell_type": "code",
   "execution_count": 320,
   "id": "85f633df",
   "metadata": {},
   "outputs": [],
   "source": [
    "# Create df without outliers\n",
    "analysis_df_t = analysis_df_t.loc[analysis_df_t['outlier'] == 0]"
   ]
  },
  {
   "cell_type": "markdown",
   "id": "338daf15",
   "metadata": {},
   "source": [
    "## Descriptive Analyses\n",
    "**Completion:** Based on the descriptive statistics below show, discounts get completed more frequently than BOGO offers. \n",
    "\n",
    "**Incremental spend:** Despite discounts being completed more often, it is a BOGO offer (difficulty 10, reward 10, channels 3) that, on average, has the highest incremental spend. Maybe surprisingly, both informational offers show a high average incremental spend, too. When looking at distributions for informational offers, the spikes around the origin show that many customers do not change their spend as compared to non-offer-aware times, however. In comparison, for BOGO and discounts, one can spot spikes in the distribution at the value of difficulty (i.e. the money the customer needs to spend to complete the offer).\n",
    "\n",
    "**Completion and incremental spend:** It could be possible that simple awareness already leads to positive incremental spend. This is not the case. The data shows that only completed offers are, on average, associated with higher incremental spend. One could therefore argue that the company should try to only target consumers that are likely to complete an offer. If the company was successful in this targeting and 100% of those who receive the offer and are aware complete it, then the best offer for the company would be another one - quite logically one with high difficulty (discount, difficulty 10, reward 5, channels 2). \n",
    "\n",
    "**Further analysis:**\n",
    "As there will be an unknown costs associated with an offer, the predictive modeling analysis analysis will be using incremental spend of all who were aware of the offer as dependent variable rather than offer completion. This will allow the company to see who is worth targeting and give the company the flexibility to adjust monetary thresholds of when a person will be sent an offer flexibly and based on cost. By using this logic, the company is likely to automatically pick people who are likely to complete the offer."
   ]
  },
  {
   "cell_type": "markdown",
   "id": "bf870c8b",
   "metadata": {},
   "source": [
    "#### Check base sizes\n",
    "to assure that for each group I am interested in, base sizes are large enough to draw conclusions"
   ]
  },
  {
   "cell_type": "code",
   "execution_count": 324,
   "id": "3be1086d",
   "metadata": {
    "scrolled": true
   },
   "outputs": [
    {
     "data": {
      "text/html": [
       "<div>\n",
       "<style scoped>\n",
       "    .dataframe tbody tr th:only-of-type {\n",
       "        vertical-align: middle;\n",
       "    }\n",
       "\n",
       "    .dataframe tbody tr th {\n",
       "        vertical-align: top;\n",
       "    }\n",
       "\n",
       "    .dataframe thead th {\n",
       "        text-align: right;\n",
       "    }\n",
       "</style>\n",
       "<table border=\"1\" class=\"dataframe\">\n",
       "  <thead>\n",
       "    <tr style=\"text-align: right;\">\n",
       "      <th></th>\n",
       "      <th>0</th>\n",
       "    </tr>\n",
       "    <tr>\n",
       "      <th>offer_type</th>\n",
       "      <th></th>\n",
       "    </tr>\n",
       "  </thead>\n",
       "  <tbody>\n",
       "    <tr>\n",
       "      <th>bogo</th>\n",
       "      <td>19627</td>\n",
       "    </tr>\n",
       "    <tr>\n",
       "      <th>discount</th>\n",
       "      <td>13543</td>\n",
       "    </tr>\n",
       "    <tr>\n",
       "      <th>informational</th>\n",
       "      <td>9401</td>\n",
       "    </tr>\n",
       "  </tbody>\n",
       "</table>\n",
       "</div>"
      ],
      "text/plain": [
       "                   0\n",
       "offer_type          \n",
       "bogo           19627\n",
       "discount       13543\n",
       "informational   9401"
      ]
     },
     "execution_count": 324,
     "metadata": {},
     "output_type": "execute_result"
    }
   ],
   "source": [
    "pd.DataFrame(analysis_df_t.groupby(['offer_type']).size())"
   ]
  },
  {
   "cell_type": "code",
   "execution_count": 325,
   "id": "b4ff6b26",
   "metadata": {},
   "outputs": [
    {
     "data": {
      "text/html": [
       "<div>\n",
       "<style scoped>\n",
       "    .dataframe tbody tr th:only-of-type {\n",
       "        vertical-align: middle;\n",
       "    }\n",
       "\n",
       "    .dataframe tbody tr th {\n",
       "        vertical-align: top;\n",
       "    }\n",
       "\n",
       "    .dataframe thead th {\n",
       "        text-align: right;\n",
       "    }\n",
       "</style>\n",
       "<table border=\"1\" class=\"dataframe\">\n",
       "  <thead>\n",
       "    <tr style=\"text-align: right;\">\n",
       "      <th></th>\n",
       "      <th>0</th>\n",
       "    </tr>\n",
       "    <tr>\n",
       "      <th>offer_descriptor</th>\n",
       "      <th></th>\n",
       "    </tr>\n",
       "  </thead>\n",
       "  <tbody>\n",
       "    <tr>\n",
       "      <th>bogo_10_10_3</th>\n",
       "      <td>4691</td>\n",
       "    </tr>\n",
       "    <tr>\n",
       "      <th>bogo_10_10_4</th>\n",
       "      <td>6288</td>\n",
       "    </tr>\n",
       "    <tr>\n",
       "      <th>bogo_5_5_3</th>\n",
       "      <td>2659</td>\n",
       "    </tr>\n",
       "    <tr>\n",
       "      <th>bogo_5_5_4</th>\n",
       "      <td>5989</td>\n",
       "    </tr>\n",
       "    <tr>\n",
       "      <th>disc_10_2_3</th>\n",
       "      <td>2738</td>\n",
       "    </tr>\n",
       "    <tr>\n",
       "      <th>disc_10_2_4</th>\n",
       "      <td>4150</td>\n",
       "    </tr>\n",
       "    <tr>\n",
       "      <th>disc_20_5_2</th>\n",
       "      <td>1553</td>\n",
       "    </tr>\n",
       "    <tr>\n",
       "      <th>disc_7_3_4</th>\n",
       "      <td>5102</td>\n",
       "    </tr>\n",
       "    <tr>\n",
       "      <th>info_0_0_2</th>\n",
       "      <td>5816</td>\n",
       "    </tr>\n",
       "    <tr>\n",
       "      <th>info_0_0_4</th>\n",
       "      <td>3585</td>\n",
       "    </tr>\n",
       "  </tbody>\n",
       "</table>\n",
       "</div>"
      ],
      "text/plain": [
       "                     0\n",
       "offer_descriptor      \n",
       "bogo_10_10_3      4691\n",
       "bogo_10_10_4      6288\n",
       "bogo_5_5_3        2659\n",
       "bogo_5_5_4        5989\n",
       "disc_10_2_3       2738\n",
       "disc_10_2_4       4150\n",
       "disc_20_5_2       1553\n",
       "disc_7_3_4        5102\n",
       "info_0_0_2        5816\n",
       "info_0_0_4        3585"
      ]
     },
     "execution_count": 325,
     "metadata": {},
     "output_type": "execute_result"
    }
   ],
   "source": [
    "pd.DataFrame(analysis_df_t.groupby(['offer_descriptor']).size())"
   ]
  },
  {
   "cell_type": "markdown",
   "id": "b20ac6df",
   "metadata": {},
   "source": [
    "#### Understand offer completion\n",
    "as an indicator for how attractive a BOGO and discount offer are to consumers.\n",
    "Consumers do more often complete the discount than the BOGO offers."
   ]
  },
  {
   "cell_type": "code",
   "execution_count": 326,
   "id": "a1471f3e",
   "metadata": {},
   "outputs": [
    {
     "data": {
      "text/html": [
       "<div>\n",
       "<style scoped>\n",
       "    .dataframe tbody tr th:only-of-type {\n",
       "        vertical-align: middle;\n",
       "    }\n",
       "\n",
       "    .dataframe tbody tr th {\n",
       "        vertical-align: top;\n",
       "    }\n",
       "\n",
       "    .dataframe thead th {\n",
       "        text-align: right;\n",
       "    }\n",
       "</style>\n",
       "<table border=\"1\" class=\"dataframe\">\n",
       "  <thead>\n",
       "    <tr style=\"text-align: right;\">\n",
       "      <th></th>\n",
       "      <th>was_completed</th>\n",
       "    </tr>\n",
       "    <tr>\n",
       "      <th>offer_type</th>\n",
       "      <th></th>\n",
       "    </tr>\n",
       "  </thead>\n",
       "  <tbody>\n",
       "    <tr>\n",
       "      <th>bogo</th>\n",
       "      <td>0.442656</td>\n",
       "    </tr>\n",
       "    <tr>\n",
       "      <th>discount</th>\n",
       "      <td>0.637525</td>\n",
       "    </tr>\n",
       "    <tr>\n",
       "      <th>informational</th>\n",
       "      <td>0.000000</td>\n",
       "    </tr>\n",
       "  </tbody>\n",
       "</table>\n",
       "</div>"
      ],
      "text/plain": [
       "               was_completed\n",
       "offer_type                  \n",
       "bogo                0.442656\n",
       "discount            0.637525\n",
       "informational       0.000000"
      ]
     },
     "execution_count": 326,
     "metadata": {},
     "output_type": "execute_result"
    }
   ],
   "source": [
    "analysis_df_t[['offer_type','was_completed']].groupby(['offer_type']).mean()"
   ]
  },
  {
   "cell_type": "code",
   "execution_count": 288,
   "id": "31e64b31",
   "metadata": {
    "scrolled": true
   },
   "outputs": [
    {
     "data": {
      "image/png": "[encoded data removed]",
      "text/plain": [
       "<Figure size 432x288 with 1 Axes>"
      ]
     },
     "metadata": {
      "needs_background": "light"
     },
     "output_type": "display_data"
    }
   ],
   "source": [
    "# How often do offers get completed (note: completion is not defined for informational offers)?\n",
    "sns.barplot(x = analysis_df_t_o['offer_type'], y = analysis_df_t_o['was_completed'], palette=\"Blues_d\");"
   ]
  },
  {
   "cell_type": "code",
   "execution_count": 327,
   "id": "6576be3a",
   "metadata": {},
   "outputs": [
    {
     "data": {
      "image/png": "[encoded data removed]",
      "text/plain": [
       "<Figure size 432x288 with 1 Axes>"
      ]
     },
     "metadata": {
      "needs_background": "light"
     },
     "output_type": "display_data"
    }
   ],
   "source": [
    "# Source Stackoverflow: https://stackoverflow.com/questions/31859285/rotate-tick-labels-for-seaborn-barplot\n",
    "# Question by Laurennmc: https://stackoverflow.com/users/5198702/laurennmc\n",
    "# Answer by wordsforthewise: https://stackoverflow.com/users/4549682/wordsforthewise\n",
    "\n",
    "# Source for ordering is Stackoverflow: https://stackoverflow.com/questions/43770507/seaborn-bar-plot-ordering\n",
    "# Question by vladkras: https://stackoverflow.com/users/1713660/vladkras\n",
    "# Answer by Jeremy: https://stackoverflow.com/users/674301/jeremy\n",
    "\n",
    "grp_order = analysis_df_t.groupby('offer_descriptor').was_completed.agg('mean').sort_values(ascending = False).index\n",
    "sns.barplot(x = analysis_df_t['offer_descriptor'], y = analysis_df_t['was_completed'], order=grp_order, palette=\"Blues_d\")\n",
    "plt.xticks(rotation=90)\n",
    "plt.tight_layout();"
   ]
  },
  {
   "cell_type": "markdown",
   "id": "0d6adff3",
   "metadata": {},
   "source": [
    "#### Understand incremental spend\n",
    "to assess which offer type has the biggest impact on business revenue.\n",
    "When plotting distributions, the graphs for BOGO and discount exhibit peaks at the difficulty level, i.e. the amount of money that needs to be spent to complete the offer. For informational offers, the graphs show more extreme maxima at/close to the origin, showing that many respondents did not change their behaviour as a consequency of the advertisement."
   ]
  },
  {
   "cell_type": "code",
   "execution_count": 398,
   "id": "9865f9dc",
   "metadata": {},
   "outputs": [
    {
     "data": {
      "text/html": [
       "<div>\n",
       "<style scoped>\n",
       "    .dataframe tbody tr th:only-of-type {\n",
       "        vertical-align: middle;\n",
       "    }\n",
       "\n",
       "    .dataframe tbody tr th {\n",
       "        vertical-align: top;\n",
       "    }\n",
       "\n",
       "    .dataframe thead tr th {\n",
       "        text-align: left;\n",
       "    }\n",
       "</style>\n",
       "<table border=\"1\" class=\"dataframe\">\n",
       "  <thead>\n",
       "    <tr>\n",
       "      <th></th>\n",
       "      <th>offer_descriptor</th>\n",
       "      <th>offer_type</th>\n",
       "      <th>offer_difficulty</th>\n",
       "      <th>offer_reward</th>\n",
       "      <th>email</th>\n",
       "      <th>mobile</th>\n",
       "      <th>social</th>\n",
       "      <th>web</th>\n",
       "      <th colspan=\"2\" halign=\"left\">incremental_spend</th>\n",
       "    </tr>\n",
       "    <tr>\n",
       "      <th></th>\n",
       "      <th></th>\n",
       "      <th></th>\n",
       "      <th></th>\n",
       "      <th></th>\n",
       "      <th></th>\n",
       "      <th></th>\n",
       "      <th></th>\n",
       "      <th></th>\n",
       "      <th>mean</th>\n",
       "      <th>median</th>\n",
       "    </tr>\n",
       "  </thead>\n",
       "  <tbody>\n",
       "    <tr>\n",
       "      <th>6</th>\n",
       "      <td>disc_20_5_2</td>\n",
       "      <td>discount</td>\n",
       "      <td>20.0</td>\n",
       "      <td>5.0</td>\n",
       "      <td>1.0</td>\n",
       "      <td>0.0</td>\n",
       "      <td>0.0</td>\n",
       "      <td>1.0</td>\n",
       "      <td>7.371040</td>\n",
       "      <td>5.736856</td>\n",
       "    </tr>\n",
       "    <tr>\n",
       "      <th>5</th>\n",
       "      <td>disc_10_2_4</td>\n",
       "      <td>discount</td>\n",
       "      <td>10.0</td>\n",
       "      <td>2.0</td>\n",
       "      <td>1.0</td>\n",
       "      <td>1.0</td>\n",
       "      <td>1.0</td>\n",
       "      <td>1.0</td>\n",
       "      <td>6.297533</td>\n",
       "      <td>6.475318</td>\n",
       "    </tr>\n",
       "    <tr>\n",
       "      <th>0</th>\n",
       "      <td>bogo_10_10_3</td>\n",
       "      <td>bogo</td>\n",
       "      <td>10.0</td>\n",
       "      <td>10.0</td>\n",
       "      <td>1.0</td>\n",
       "      <td>1.0</td>\n",
       "      <td>1.0</td>\n",
       "      <td>0.0</td>\n",
       "      <td>5.442909</td>\n",
       "      <td>4.638487</td>\n",
       "    </tr>\n",
       "    <tr>\n",
       "      <th>7</th>\n",
       "      <td>disc_7_3_4</td>\n",
       "      <td>discount</td>\n",
       "      <td>7.0</td>\n",
       "      <td>3.0</td>\n",
       "      <td>1.0</td>\n",
       "      <td>1.0</td>\n",
       "      <td>1.0</td>\n",
       "      <td>1.0</td>\n",
       "      <td>4.855819</td>\n",
       "      <td>4.739789</td>\n",
       "    </tr>\n",
       "    <tr>\n",
       "      <th>1</th>\n",
       "      <td>bogo_10_10_4</td>\n",
       "      <td>bogo</td>\n",
       "      <td>10.0</td>\n",
       "      <td>10.0</td>\n",
       "      <td>1.0</td>\n",
       "      <td>1.0</td>\n",
       "      <td>1.0</td>\n",
       "      <td>1.0</td>\n",
       "      <td>4.716083</td>\n",
       "      <td>3.138796</td>\n",
       "    </tr>\n",
       "    <tr>\n",
       "      <th>4</th>\n",
       "      <td>disc_10_2_3</td>\n",
       "      <td>discount</td>\n",
       "      <td>10.0</td>\n",
       "      <td>2.0</td>\n",
       "      <td>1.0</td>\n",
       "      <td>1.0</td>\n",
       "      <td>0.0</td>\n",
       "      <td>1.0</td>\n",
       "      <td>4.675288</td>\n",
       "      <td>4.518141</td>\n",
       "    </tr>\n",
       "    <tr>\n",
       "      <th>2</th>\n",
       "      <td>bogo_5_5_3</td>\n",
       "      <td>bogo</td>\n",
       "      <td>5.0</td>\n",
       "      <td>5.0</td>\n",
       "      <td>1.0</td>\n",
       "      <td>1.0</td>\n",
       "      <td>0.0</td>\n",
       "      <td>1.0</td>\n",
       "      <td>4.152968</td>\n",
       "      <td>3.730000</td>\n",
       "    </tr>\n",
       "    <tr>\n",
       "      <th>3</th>\n",
       "      <td>bogo_5_5_4</td>\n",
       "      <td>bogo</td>\n",
       "      <td>5.0</td>\n",
       "      <td>5.0</td>\n",
       "      <td>1.0</td>\n",
       "      <td>1.0</td>\n",
       "      <td>1.0</td>\n",
       "      <td>1.0</td>\n",
       "      <td>4.047608</td>\n",
       "      <td>3.085326</td>\n",
       "    </tr>\n",
       "    <tr>\n",
       "      <th>8</th>\n",
       "      <td>info_0_0_2</td>\n",
       "      <td>informational</td>\n",
       "      <td>0.0</td>\n",
       "      <td>0.0</td>\n",
       "      <td>1.0</td>\n",
       "      <td>1.0</td>\n",
       "      <td>1.0</td>\n",
       "      <td>0.0</td>\n",
       "      <td>3.581101</td>\n",
       "      <td>0.000000</td>\n",
       "    </tr>\n",
       "    <tr>\n",
       "      <th>9</th>\n",
       "      <td>info_0_0_4</td>\n",
       "      <td>informational</td>\n",
       "      <td>0.0</td>\n",
       "      <td>0.0</td>\n",
       "      <td>1.0</td>\n",
       "      <td>1.0</td>\n",
       "      <td>0.0</td>\n",
       "      <td>1.0</td>\n",
       "      <td>3.085520</td>\n",
       "      <td>0.000000</td>\n",
       "    </tr>\n",
       "  </tbody>\n",
       "</table>\n",
       "</div>"
      ],
      "text/plain": [
       "  offer_descriptor     offer_type offer_difficulty offer_reward email mobile  \\\n",
       "                                                                               \n",
       "6      disc_20_5_2       discount             20.0          5.0   1.0    0.0   \n",
       "5      disc_10_2_4       discount             10.0          2.0   1.0    1.0   \n",
       "0     bogo_10_10_3           bogo             10.0         10.0   1.0    1.0   \n",
       "7       disc_7_3_4       discount              7.0          3.0   1.0    1.0   \n",
       "1     bogo_10_10_4           bogo             10.0         10.0   1.0    1.0   \n",
       "4      disc_10_2_3       discount             10.0          2.0   1.0    1.0   \n",
       "2       bogo_5_5_3           bogo              5.0          5.0   1.0    1.0   \n",
       "3       bogo_5_5_4           bogo              5.0          5.0   1.0    1.0   \n",
       "8       info_0_0_2  informational              0.0          0.0   1.0    1.0   \n",
       "9       info_0_0_4  informational              0.0          0.0   1.0    1.0   \n",
       "\n",
       "  social  web incremental_spend            \n",
       "                           mean    median  \n",
       "6    0.0  1.0          7.371040  5.736856  \n",
       "5    1.0  1.0          6.297533  6.475318  \n",
       "0    1.0  0.0          5.442909  4.638487  \n",
       "7    1.0  1.0          4.855819  4.739789  \n",
       "1    1.0  1.0          4.716083  3.138796  \n",
       "4    0.0  1.0          4.675288  4.518141  \n",
       "2    0.0  1.0          4.152968  3.730000  \n",
       "3    1.0  1.0          4.047608  3.085326  \n",
       "8    1.0  0.0          3.581101  0.000000  \n",
       "9    0.0  1.0          3.085520  0.000000  "
      ]
     },
     "execution_count": 398,
     "metadata": {},
     "output_type": "execute_result"
    }
   ],
   "source": [
    "# Incremental spend\n",
    "pd.DataFrame(analysis_df_t.groupby(['offer_descriptor','offer_type','offer_difficulty', 'offer_reward', 'email', 'mobile','social','web']).agg({'incremental_spend':[np.mean, np.median]}).reset_index().sort_values(by=[('incremental_spend','mean')], ascending = False))"
   ]
  },
  {
   "cell_type": "code",
   "execution_count": 399,
   "id": "d0ce22ce",
   "metadata": {},
   "outputs": [],
   "source": [
    "# Charting distributions of incremental spend\n",
    "b1 = analysis_df_t.loc[analysis_df_t['offer_descriptor'] == 'bogo_10_10_3']['incremental_spend']\n",
    "b2 = analysis_df_t.loc[analysis_df_t['offer_descriptor'] == 'bogo_10_10_4']['incremental_spend']\n",
    "b3 = analysis_df_t.loc[analysis_df_t['offer_descriptor'] == 'bogo_5_5_3']['incremental_spend']\n",
    "b4 = analysis_df_t.loc[analysis_df_t['offer_descriptor'] == 'bogo_5_5_4']['incremental_spend']\n",
    "d1 = analysis_df_t.loc[analysis_df_t['offer_descriptor'] == 'disc_20_5_2']['incremental_spend']\n",
    "d2 = analysis_df_t.loc[analysis_df_t['offer_descriptor'] == 'disc_10_2_4']['incremental_spend']\n",
    "d3 = analysis_df_t.loc[analysis_df_t['offer_descriptor'] == 'disc_10_2_3']['incremental_spend']\n",
    "d4 = analysis_df_t.loc[analysis_df_t['offer_descriptor'] == 'disc_7_3_4']['incremental_spend']\n",
    "i1 = analysis_df_t.loc[analysis_df_t['offer_descriptor'] == 'info_0_0_2']['incremental_spend']\n",
    "i2 = analysis_df_t.loc[analysis_df_t['offer_descriptor'] == 'info_0_0_4']['incremental_spend']"
   ]
  },
  {
   "cell_type": "code",
   "execution_count": 330,
   "id": "740a23a4",
   "metadata": {},
   "outputs": [
    {
     "data": {
      "image/png": "[encoded data removed]",
      "text/plain": [
       "<Figure size 1332x1116 with 10 Axes>"
      ]
     },
     "metadata": {
      "needs_background": "light"
     },
     "output_type": "display_data"
    }
   ],
   "source": [
    "bins = np.linspace(-50, 50, 100)\n",
    "\n",
    "fig, axs = plt.subplots(5,2) #,sharex=True, sharey=True)\n",
    "fig.set_size_inches(18.5, 15.5)\n",
    "ax_b1 = axs[0, 0].hist(b1, bins, alpha=0.5, label='bogo_10_10_3')\n",
    "axs[0, 0].set_title('bogo_10_10_3')\n",
    "ax_b2 = axs[0, 1].hist(b2, bins, alpha=0.5, label='bogo_10_10_4')\n",
    "axs[0, 1].set_title('bogo_10_10_4')\n",
    "ax_b3 = axs[1, 0].hist(b3, bins, alpha=0.5, label='bogo_5_5_3')\n",
    "axs[1, 0].set_title('bogo_5_5_3')\n",
    "ax_b4 = axs[1, 1].hist(b4, bins, alpha=0.5, label='bogo_5_5_4')\n",
    "axs[1, 1].set_title('bogo_5_5_4')\n",
    "\n",
    "ax_d1 = axs[2, 0].hist(d1, bins, alpha=0.5, label='disc_20_5_2')\n",
    "axs[2, 0].set_title('disc_20_5_2')\n",
    "ax_d2 = axs[2, 1].hist(d2, bins, alpha=0.5, label='disc_10_2_4')\n",
    "axs[2, 1].set_title('disc_10_2_4')\n",
    "ax_d3 = axs[3, 0].hist(d3, bins, alpha=0.5, label='disc_10_2_3')\n",
    "axs[3, 0].set_title('disc_10_2_3')\n",
    "ax_d4 = axs[3, 1].hist(d4, bins, alpha=0.5, label='disc_7_3_4')\n",
    "axs[3, 1].set_title('disc_7_3_4')\n",
    "\n",
    "ax_i1 = axs[4, 0].hist(i1, bins, alpha=0.5, label='info_0_0_2')\n",
    "axs[4, 0].set_title('info_0_0_2')\n",
    "ax_i2 = axs[4, 1].hist(i2, bins, alpha=0.5, label='info_0_0_4')\n",
    "axs[4, 1].set_title('info_0_0_4');"
   ]
  },
  {
   "cell_type": "markdown",
   "id": "907e47ed",
   "metadata": {},
   "source": [
    "#### Understand the impact of completion on incremental spend\n",
    "to assess if simply knowing about an offer already leads to higher spend.\n",
    "This is not the case. Average incremental spend is negative for those who do not complete the offer, meaning that these people spend less than they do when they are not aware of any offers.\n",
    "\n",
    "If the company was better at targeting those who will complete an offer, the incremental spend would be best for the discount at difficulty 20 and reward 5."
   ]
  },
  {
   "cell_type": "code",
   "execution_count": 331,
   "id": "e302cc46",
   "metadata": {
    "scrolled": true
   },
   "outputs": [
    {
     "data": {
      "image/png": "[encoded data removed]",
      "text/plain": [
       "<Figure size 432x288 with 1 Axes>"
      ]
     },
     "metadata": {
      "needs_background": "light"
     },
     "output_type": "display_data"
    }
   ],
   "source": [
    "# Does only being aware of an offer w/o completing it also lead to positive incremental spend\n",
    "sns.barplot(x = analysis_df_t['offer_type'], y = analysis_df_t['incremental_spend'], hue = analysis_df_t['was_completed'], palette=\"Blues_d\");"
   ]
  },
  {
   "cell_type": "code",
   "execution_count": 332,
   "id": "f079cd4d",
   "metadata": {
    "scrolled": true
   },
   "outputs": [
    {
     "data": {
      "image/png": "[encoded data removed]",
      "text/plain": [
       "<Figure size 432x288 with 1 Axes>"
      ]
     },
     "metadata": {
      "needs_background": "light"
     },
     "output_type": "display_data"
    }
   ],
   "source": [
    "sns.barplot(x = analysis_df_t['offer_descriptor'], y = analysis_df_t['incremental_spend'], hue = analysis_df_t['was_completed'], palette=\"Blues_d\")\n",
    "plt.xticks(rotation=90)\n",
    "plt.tight_layout();"
   ]
  },
  {
   "cell_type": "markdown",
   "id": "9983d04b",
   "metadata": {},
   "source": [
    "## Kruskal-Wallis Test\n",
    "The data for the 10 offers is not normally distributed, as can easily be seen from the spikes at 0. Therefore, a non-parametric test needs to be used to establish if the offer success, measured as incremental spend, differs between offers. The Kruskal-Wallis test is the non-parametric counterpart to a one-way ANOVA. It assesses if the medians of two or more groups are statistically significantly different from each other. A group in this case is defined by the offer, hence there are ten groups.\n",
    "\n",
    "The Kruskal-Wallis test assumes that the groups are independent. The alternative where groups are not independent is the Friedman test. It can be argued that the groups in this data are neither truly dependent nor truly independent, because some respondents might be in various offer groups, whilst others won't. Therefore, this assumption of the Kruskal-Wallis test is partially violated. However, there is no test for the \"mixed\" scenario. Therefore the test is still used as best option. \n",
    "\n",
    "Sources: \n",
    "Richard A. Armstrong and Anthony C. Hilton, Nonparametric Analysis of Variance, 12 November 2010, https://onlinelibrary.wiley.com/doi/10.1002/9780470905173.ch24\n",
    "No author, Kruskal-Wallis H Test using SPSS Statistics, no date, https://statistics.laerd.com/spss-tutorials/kruskal-wallis-h-test-using-spss-statistics.php"
   ]
  },
  {
   "cell_type": "markdown",
   "id": "eea41759",
   "metadata": {},
   "source": [
    "##### Q-Q plots? Standardization?\n",
    "#### Discuss if groups are independent for a one-way ANOVA\n",
    "\n",
    "#### Assumptions:\n",
    "https://docs.scipy.org/doc/scipy/reference/generated/scipy.stats.f_oneway.html\n",
    "* The samples are independent.\n",
    "* Each sample is from a normally distributed population.\n",
    "* The population standard deviations of the groups are all equal. This property is known as homoscedasticity."
   ]
  },
  {
   "cell_type": "markdown",
   "id": "2039e4d3",
   "metadata": {},
   "source": [
    "#### Visual inspection of medians"
   ]
  },
  {
   "cell_type": "code",
   "execution_count": 341,
   "id": "cbf43d9a",
   "metadata": {},
   "outputs": [
    {
     "name": "stdout",
     "output_type": "stream",
     "text": [
      "b1 median:  4.638486842105264\n",
      "b2 median:  3.1387956204379566\n",
      "b3 median:  3.73\n",
      "b4 median:  3.0853260869565218\n",
      "d1 median:  5.736855670103093\n",
      "d2 median:  6.475317585026888\n",
      "d3 median:  4.5181410758414255\n",
      "d4 median:  4.7397891566265065\n",
      "i1 median:  0.0\n",
      "i2 median:  0.0\n"
     ]
    }
   ],
   "source": [
    "# Look at medians\n",
    "print(\"b1 median: \",b1.median())\n",
    "print(\"b2 median: \",b2.median())\n",
    "print(\"b3 median: \",b3.median())\n",
    "print(\"b4 median: \",b4.median())\n",
    "print(\"d1 median: \",d1.median())\n",
    "print(\"d2 median: \",d2.median())\n",
    "print(\"d3 median: \",d3.median())\n",
    "print(\"d4 median: \",d4.median())\n",
    "print(\"i1 median: \",i1.median())\n",
    "print(\"i2 median: \",i2.median())"
   ]
  },
  {
   "cell_type": "markdown",
   "id": "15482730",
   "metadata": {},
   "source": [
    "#### Create arrays to feed into test"
   ]
  },
  {
   "cell_type": "code",
   "execution_count": 401,
   "id": "cfc99901",
   "metadata": {},
   "outputs": [],
   "source": [
    "def make_array(s):\n",
    "    '''\n",
    "    Takes in a series and outputs as array\n",
    "    '''\n",
    "    array = s[~s.isna()].to_numpy()\n",
    "    return array"
   ]
  },
  {
   "cell_type": "code",
   "execution_count": 404,
   "id": "8dd5241e",
   "metadata": {},
   "outputs": [],
   "source": [
    "b1 = make_array(b1)\n",
    "b2 = make_array(b2)\n",
    "b3 = make_array(b3)\n",
    "b4 = make_array(b4)\n",
    "d1 = make_array(d1)\n",
    "d2 = make_array(d2)\n",
    "d3 = make_array(d3)\n",
    "d4 = make_array(d4)\n",
    "i1 = make_array(i1)\n",
    "i2 = make_array(i2)"
   ]
  },
  {
   "cell_type": "markdown",
   "id": "5abd1830",
   "metadata": {},
   "source": [
    "#### Kruskal-Wallis test\n",
    "to see if there are any differences between groups. p < 0.05, hence there are differences."
   ]
  },
  {
   "cell_type": "code",
   "execution_count": 335,
   "id": "09ed5179",
   "metadata": {},
   "outputs": [],
   "source": [
    "statistic, p_value = stats.kruskal(b1, b2, b3, b4, d1, d2, d3, d4, i1, i2)"
   ]
  },
  {
   "cell_type": "code",
   "execution_count": 336,
   "id": "7f69d63a",
   "metadata": {
    "scrolled": false
   },
   "outputs": [
    {
     "name": "stdout",
     "output_type": "stream",
     "text": [
      "F:  913.8614846235372\n",
      "p:  6.377700634620933e-191\n"
     ]
    }
   ],
   "source": [
    "print(\"F: \",statistic)\n",
    "print(\"p: \",p_value)"
   ]
  },
  {
   "cell_type": "markdown",
   "id": "d9174667",
   "metadata": {},
   "source": [
    "#### Post hoc test with Mann-Whitney U test and Bonferroni adjustment\n",
    "to see between which offers these significant differences exist at alpha = 0.05. To account for multiple testing, alpha is Bonferroni-adjusted.\n",
    "The **two** \"top offers\" are d1 and d2, which are not statistically significantly different from each other. So are a few other offer combinations. "
   ]
  },
  {
   "cell_type": "code",
   "execution_count": 358,
   "id": "08a4f950",
   "metadata": {},
   "outputs": [],
   "source": [
    "all_arrays = {\"b1\":b1, \"b2\":b2, \"b3\":b3, \"b4\":b4, \"d1\":d1, \"d2\":d2, \"d3\":d3, \"d4\":d4, \"i1\":i1, \"i2\":i1}"
   ]
  },
  {
   "cell_type": "code",
   "execution_count": 359,
   "id": "2510579a",
   "metadata": {
    "scrolled": true
   },
   "outputs": [],
   "source": [
    "# Create all pairs that are needed\n",
    "# Source Stackoverflow: https://stackoverflow.com/questions/11905573/getting-all-combinations-of-key-value-pairs-in-python-dict\n",
    "# Question by Andrew C: https://stackoverflow.com/users/1335244/andrew-c\n",
    "# Answer by Jolly Jumper: https://stackoverflow.com/users/1590392/jolly-jumper\n",
    "pairs = list(map(dict, itertools.combinations(all_arrays.items(), 2)))"
   ]
  },
  {
   "cell_type": "code",
   "execution_count": 382,
   "id": "47be8aaf",
   "metadata": {},
   "outputs": [],
   "source": [
    "results_sig_diff = {}\n",
    "results_not_sig_diff = {}\n",
    "for i in pairs:\n",
    "    combo = list(i)\n",
    "    a = list(i)[0]\n",
    "    b = list(i)[1]\n",
    "    statistic, pvalue = stats.mannwhitneyu(i[a],i[b])\n",
    "    # keeping those pairs that are statistically significalntly different using Bonferroni adjustment\n",
    "    if pvalue < 0.05/len(pairs):\n",
    "        results_sig_diff[str(a)+'_'+str(b)] = pvalue\n",
    "    else:\n",
    "        results_not_sig_diff[str(a)+'_'+str(b)] = pvalue"
   ]
  },
  {
   "cell_type": "code",
   "execution_count": 383,
   "id": "0a8b3380",
   "metadata": {},
   "outputs": [
    {
     "data": {
      "text/plain": [
       "{'b1_d3': 0.029775519967164685,\n",
       " 'b1_d4': 0.021961062057059385,\n",
       " 'b2_b3': 0.38666680205957976,\n",
       " 'b2_b4': 0.006674248818760421,\n",
       " 'b2_d3': 0.02482836259350674,\n",
       " 'b3_b4': 0.03555384295150148,\n",
       " 'b3_d3': 0.024003621303899624,\n",
       " 'b3_d4': 0.0035019301230954755,\n",
       " 'd1_d2': 0.025463396764140254,\n",
       " 'd3_d4': 0.45367789566043565,\n",
       " 'i1_i2': 0.49999889832564903}"
      ]
     },
     "execution_count": 383,
     "metadata": {},
     "output_type": "execute_result"
    }
   ],
   "source": [
    "results_not_sig_diff"
   ]
  }
 ],
 "metadata": {
  "kernelspec": {
   "display_name": "Python 3",
   "language": "python",
   "name": "python3"
  },
  "language_info": {
   "codemirror_mode": {
    "name": "ipython",
    "version": 3
   },
   "file_extension": ".py",
   "mimetype": "text/x-python",
   "name": "python",
   "nbconvert_exporter": "python",
   "pygments_lexer": "ipython3",
   "version": "3.7.10"
  }
 },
 "nbformat": 4,
 "nbformat_minor": 5
}
