{
 "cells": [
  {
   "cell_type": "markdown",
   "id": "f387b295",
   "metadata": {},
   "source": [
    "# Analysis - Intro"
   ]
  },
  {
   "cell_type": "markdown",
   "id": "f1f414f5",
   "metadata": {},
   "source": [
    "### Key business questions:\n",
    "\n",
    "**Stage 1: Relevance of offers**\n",
    "\n",
    "* Q1.1: Are the different offer types successful?\n",
    "* Q1.2: Does simply knowing about an offer already lead to higher incremental spend even without offer completion?\n",
    "* Q1.3: Are there differences in success of different offer types?\n",
    "* Q1.4: Do certain offer attributes influence the success?\n",
    "\n",
    "**Stage 2: Targeting**\n",
    "\n",
    "* Q2: Based on demographic information, which customer is likely to react to a certain offer?\n",
    "\n",
    "\n",
    "### Analysis\n",
    "**Stage 1:**\n",
    "\n",
    "The key variable to judge success of offers is **incremental spend**. This is a highly relevant metric for the business, as it  shows the effect on revenue. The business can use this metric and combine it with the cost to assess if an offer has positive profit. **Offer completion** is an interesting variable as well, because it shows how attractive an offer seems to the consumer. It is, however, would not be able to capture this effect. In addition, informational offers cannot be completed.\n",
    "Other variables were considered to measure success (see below).\n",
    "\n",
    "The analysis consists of descriptive analyses as well as significance tests (Kruskal-Wallis with Mann-Whitney U as post hoc) to understand if offers differ in how successful they are.\n",
    "\n",
    "**Stage 2:**\n",
    "\n",
    "The business question is addressed through a predictive model. The available independent variables were not sufficiently related to incremental spend to build a model with high explanatory power. Therefore, offer completion for BOGO and discount offers was predicted. The business can use the knowledge about likelihood of completion combined with the average incremental spend for a specific offer to estimate the likely incremental spend of a specific customer.\n",
    "\n",
    "The analysis consists of a Linear Regression and Decision Tree Regression on incremental spend which show poor results. This is followed by modeling using Logistic Regression, Random Forest and KNN in a Pipeline with GridSearch to predict offer completion.\n",
    "\n",
    "**A note on offer attributes:**\n",
    "After examining the data, it became clear that offer attributes are too closely related to offer types and to each other to assess the impact of offer attributes on success metrics. E.g. a reward of 20 is linked to one specific discount offer. Therefore, the success of the specific ten offers with their specific combination of type and attributes was assessed.\n",
    "\n",
    "**Other variables that were considered as measures of success:**\n",
    "* Average hourly spend - A metric that considers the behavioural change (likely increase/potentially decrease in spend by the hour) during awareness. This can be compared to times when a consumer is not aware of any offer. As this metric does not factor in for *how long* a consumer sustains a higher level of spend, it does not tell the business what revenue it can make from an offer, though.\n",
    "* Net total/incremental spend - A way to understand the net impact on the business better by deducting the reward amount from the total spend. However, this is a potentially poor proxy. For BOGO, it is unlikely that the consumer would have purchased two of the same product, and the cost to the company is hence not the revenue foregone, but the actual production cost of the product. In comparison, for the discount, the cost is the actual revenue foregone. There might also be other costs associated with the offers, like e.g. distribution cost. As costs are unknown, it was decided to work with incremental revenue.\n",
    "\n",
    "These variables are contained in the analysis_df in case one wants to explore these variables further."
   ]
  },
  {
   "cell_type": "markdown",
   "id": "adc07e4b",
   "metadata": {},
   "source": [
    "### References:"
   ]
  },
  {
   "cell_type": "markdown",
   "id": "71dbdb90",
   "metadata": {},
   "source": [
    "[1] Jason Brownlee on April 25, 2018 in Data Preparation - How to Remove Outliers for Machine Learning - Machine Learning Matery. URL: https://machinelearningmastery.com/how-to-use-statistics-to-identify-outliers-in-data/\n",
    "\n",
    "[2] Official Matplotlib documentation: https://matplotlib.org/3.1.1/api/_as_gen/matplotlib.pyplot.boxplot.html\n",
    "\n",
    "[3] Stackoverflow: https://stackoverflow.com/questions/38424459/set-y-axis-limit-in-pandas-histogram; Question by Andy Toulis: https://stackoverflow.com/users/6369225/andy-toulis; Answer by Martin Thoma: https://stackoverflow.com/users/562769/martin-thoma\n",
    "\n",
    "[4] # Source for rotating labels is Stackoverflow: https://stackoverflow.com/questions/31859285/rotate-tick-labels-for-seaborn-barplot; Question by Laurennmc: https://stackoverflow.com/users/5198702/laurennmc; Answer by wordsforthewise: https://stackoverflow.com/users/4549682/wordsforthewise\n",
    "\n",
    "[5] Source for ordering is Stackoverflow: https://stackoverflow.com/questions/43770507/seaborn-bar-plot-ordering; Question by vladkras: https://stackoverflow.com/users/1713660/vladkras; Answer by Jeremy: https://stackoverflow.com/users/674301/jeremy\n",
    "\n",
    "[6] Richard A. Armstrong and Anthony C. Hilton on November 12, 2010, Nonparametric Analysis of Variance. URL: https://onlinelibrary.wiley.com/doi/10.1002/9780470905173.ch24\n",
    "\n",
    "[7] No author, Kruskal-Wallis H Test using SPSS Statistics, no date. URL:  https://statistics.laerd.com/spss-tutorials/kruskal-wallis-h-test-using-spss-statistics.php\n",
    "\n",
    "[8] Stackoverflow: https://stackoverflow.com/questions/11905573/getting-all-combinations-of-key-value-pairs-in-python-dict; Question by Andrew C: https://stackoverflow.com/users/1335244/andrew-c; Answer by Jolly Jumper: https://stackoverflow.com/users/1590392/jolly-jumper\n",
    "\n",
    "[9] w3 schools. URL: https://www.w3schools.com/python/python_ml_multiple_regression.asp\n",
    "\n",
    "[10] Source used for training and testing: https://scikit-learn.org/stable/auto_examples/linear_model/plot_ols.html\n",
    "\n",
    "[11] GeeksforGeeks, Decision Tree Regression using sklearn. URL: https://www.geeksforgeeks.org/python-decision-tree-regression-using-sklearn/\n",
    "\n",
    "[12] Stackoverflow: https://stackoverflow.com/questions/46139186/interpreting-the-decisiontreeregressor-score, Question by clockworks: https://stackoverflow.com/users/2433619/clockworks; Answer by Longyu Zhao: https://stackoverflow.com/users/9222673/longyu-zhao\n",
    "\n",
    "[13] Project Pro, How to select model using Grid Search in Python?, January 25, 2021. URL: https://www.projectpro.io/recipes/select-model-using-grid-search-in-python\n",
    "\n",
    "[14] Jason Brownlee, December 13, 2019 in Python Machine Learning, Machine Learning Mastery, Tune Hyperparameters for Classification Machine Learning Algorithms. URL: https://machinelearningmastery.com/hyperparameters-for-classification-machine-learning-algorithms/\n",
    "\n",
    "[15] Soner Yıldırım, March 16, 2020, in towards data science, How to Best Evaluate a Classification Model. URL: https://towardsdatascience.com/how-to-best-evaluate-a-classification-model-2edb12bcc587\n",
    "\n",
    "[16] Susan Li, September 29, 2017, in towards data science, Building A Logistic Regression in Python, Step by Step. URL: https://towardsdatascience.com/building-a-logistic-regression-in-python-step-by-step-becd4d56c9c8\n",
    "\n",
    "[17] dfriends.com by Dan Friedman, April 15, 2019: https://dfrieds.com/data-analysis/rank-method-python-pandas.html\n",
    "\n",
    "[18] Stackoverflow for dict-zip: https://stackoverflow.com/questions/18012505/python-pandas-dataframe-columns-convert-to-dict-key-and-value; Question by perigee: https://stackoverflow.com/users/857130/perigee; Answer by punchagan: https://stackoverflow.com/users/1225068/punchagan\n",
    "\n",
    "[19] Stackoverflow: https://stackoverflow.com/questions/15891038/change-column-type-in-pandas; Question by user1642513, no profile; Answer by Alex Riley: https://stackoverflow.com/users/3923281/alex-riley"
   ]
  },
  {
   "cell_type": "code",
   "execution_count": 87,
   "id": "66f8ec71",
   "metadata": {},
   "outputs": [],
   "source": [
    "import pandas as pd\n",
    "import numpy as np\n",
    "import seaborn as sns\n",
    "import json\n",
    "import os\n",
    "import pylab\n",
    "import itertools\n",
    "import statsmodels.api as sm\n",
    "\n",
    "from matplotlib import pyplot as plt\n",
    "from scipy import stats\n",
    "from statsmodels.stats.multicomp import pairwise_tukeyhsd\n",
    "from sklearn import linear_model\n",
    "from sklearn.linear_model import LogisticRegression\n",
    "from sklearn.tree import DecisionTreeRegressor\n",
    "from sklearn.metrics import mean_squared_error, r2_score, classification_report, confusion_matrix, roc_auc_score, roc_curve\n",
    "from sklearn.pipeline import Pipeline\n",
    "from sklearn.model_selection import GridSearchCV, train_test_split\n",
    "from sklearn.ensemble import RandomForestClassifier\n",
    "from sklearn.neighbors import KNeighborsClassifier"
   ]
  },
  {
   "cell_type": "markdown",
   "id": "744e52c3",
   "metadata": {},
   "source": [
    "# Read in data and do basic data manipulation and cleaning"
   ]
  },
  {
   "cell_type": "markdown",
   "id": "7a72ad81",
   "metadata": {},
   "source": [
    "### Read in data"
   ]
  },
  {
   "cell_type": "code",
   "execution_count": 2,
   "id": "282fdd2c",
   "metadata": {},
   "outputs": [],
   "source": [
    "analysis_df_t = pd.read_csv(r'2021_01_09_analysis_df.csv')"
   ]
  },
  {
   "cell_type": "code",
   "execution_count": 3,
   "id": "00b6645e",
   "metadata": {},
   "outputs": [],
   "source": [
    "transcript = pd.read_json('data/transcript.json', orient='records', lines=True)"
   ]
  },
  {
   "cell_type": "markdown",
   "id": "5911cea6",
   "metadata": {},
   "source": [
    "### Create better identifier for offers in order to make graphs more meaningful"
   ]
  },
  {
   "cell_type": "code",
   "execution_count": 4,
   "id": "b8d5afbd",
   "metadata": {},
   "outputs": [],
   "source": [
    "# Create a variable that identifies offers and gives some descriptive context\n",
    "# Logic: type_difficulty_reward_#channels\n",
    "event_descriptor_dict = {'ae264e3637204a6fb9bb56bc8210ddfd': 'bogo_10_10_3',\n",
    "                         '0b1e1539f2cc45b7b9fa7c272da2e1d7': 'disc_20_5_2',\n",
    "                         '5a8bc65990b245e5a138643cd4eb9837': 'info_0_0_2',\n",
    "                         '3f207df678b143eea3cee63160fa8bed': 'info_0_0_4',\n",
    "                         '4d5c57ea9a6940dd891ad53e9dbe8da0': 'bogo_10_10_4',\n",
    "                         'f19421c1d4aa40978ebb69ca19b0e20d': 'bogo_5_5_4',\n",
    "                         'fafdcd668e3743c1bb461111dcafc2a4': 'disc_10_2_4',\n",
    "                         '2298d6c36e964ae4a3e7e9706d1fb8c2': 'disc_7_3_4',\n",
    "                         '2906b810c7d4411798c6938adc9daaa5': 'disc_10_2_3',\n",
    "                         '9b98b8c7a33c4b65b9aebfe6a799e6d9': 'bogo_5_5_3'}\n",
    "\n",
    "analysis_df_t['offer_descriptor'] = analysis_df_t['event_offer_id'].map(\n",
    "    event_descriptor_dict)"
   ]
  },
  {
   "cell_type": "markdown",
   "id": "7e4e06e1",
   "metadata": {},
   "source": [
    "### Remove all awareness period where the offer was not completed or did not expire during the analysis timeframe\n",
    "There are cases where a customer was aware of an offer, but before the offer was completed or expired, the experiment was over. Hence, one cannot know offer completion nor incremental spend. Therefore, these block ids are excluded from further analysis."
   ]
  },
  {
   "cell_type": "code",
   "execution_count": 5,
   "id": "d07ad349",
   "metadata": {
    "scrolled": false
   },
   "outputs": [],
   "source": [
    "analysis_df_t['offer_valid_until_exceeding_experiment'] = analysis_df_t['offer_duration'] + \\\n",
    "    analysis_df_t['offer received']"
   ]
  },
  {
   "cell_type": "code",
   "execution_count": 6,
   "id": "c2352d56",
   "metadata": {},
   "outputs": [],
   "source": [
    "# Remove offers where the outcome is unclear at the end of the experiment\n",
    "analysis_df_t = analysis_df_t.loc[analysis_df_t['offer_valid_until_exceeding_experiment']\n",
    "                                  <= transcript['time'].max()]"
   ]
  },
  {
   "cell_type": "markdown",
   "id": "1ffb3178",
   "metadata": {},
   "source": [
    "### Remove outliers of incremental spend\n",
    "Some respondents have very high values in transaction records. Potentially, they bought for a large group of people, or it is a data entry error. These records can lead to very high or very low incremental spend. They will heavily bias averages and need to be removed. \n",
    "* The **histogram** below shows the distribution of very high and very low values to get a feeling for the magnitudes. \n",
    "* The **Q-Q plot** shows that the data is not normally distributed (it is \" too narrow\", i.e. it has lower variance than a normal distribution) and hence the way to remove outliers should be using the IQR [1] \n",
    "* The **boxplot** shows that the extreme values are largely considered outliers when using the IQR removal approach (see section *whis* in [2]))\n",
    "\n",
    "Using the usual 1.5 * IQR approach, 7.7% of the sample are removed as outliers. This is a rather high value, considering that when using the Standard Deviation method, between 2 and 4 standard deviations are used to define outliers, hence leading to a data loss of max. 5%. The factor by which the IQR is multiplied was hence increased to 3, which means that 2.34% of the data was classified as outliers. The cut-offs still seem high, but possible at -37 and 48."
   ]
  },
  {
   "cell_type": "code",
   "execution_count": 7,
   "id": "1a5db43c",
   "metadata": {
    "scrolled": false
   },
   "outputs": [
    {
     "data": {
      "text/plain": [
       "<AxesSubplot:ylabel='Frequency'>"
      ]
     },
     "execution_count": 7,
     "metadata": {},
     "output_type": "execute_result"
    },
    {
     "data": {
      "image/png": "[encoded data removed]",
      "text/plain": [
       "<Figure size 432x288 with 1 Axes>"
      ]
     },
     "metadata": {
      "needs_background": "light"
     },
     "output_type": "display_data"
    }
   ],
   "source": [
    "# Distribution of incremental spend with y-axis cut off [3]\n",
    "analysis_df_t['incremental_spend'].plot.hist(ylim=(0, 100), bins=200)"
   ]
  },
  {
   "cell_type": "code",
   "execution_count": 11,
   "id": "c83abe4b",
   "metadata": {
    "scrolled": true
   },
   "outputs": [
    {
     "data": {
      "image/png": "[encoded data removed]",
      "text/plain": [
       "<Figure size 432x288 with 1 Axes>"
      ]
     },
     "metadata": {
      "needs_background": "light"
     },
     "output_type": "display_data"
    }
   ],
   "source": [
    "# Normal distribution? Q-Q plot\n",
    "sm.qqplot(analysis_df_t['incremental_spend'], line='45')\n",
    "pylab.show()"
   ]
  },
  {
   "cell_type": "code",
   "execution_count": 12,
   "id": "0eed1e3d",
   "metadata": {
    "scrolled": true
   },
   "outputs": [
    {
     "data": {
      "text/plain": [
       "{'whiskers': [<matplotlib.lines.Line2D at 0x2567587c508>,\n",
       "  <matplotlib.lines.Line2D at 0x25675888d88>],\n",
       " 'caps': [<matplotlib.lines.Line2D at 0x2567588af48>,\n",
       "  <matplotlib.lines.Line2D at 0x2567588d948>],\n",
       " 'boxes': [<matplotlib.lines.Line2D at 0x25675888308>],\n",
       " 'medians': [<matplotlib.lines.Line2D at 0x2567588dc08>],\n",
       " 'fliers': [<matplotlib.lines.Line2D at 0x2567588fec8>],\n",
       " 'means': []}"
      ]
     },
     "execution_count": 12,
     "metadata": {},
     "output_type": "execute_result"
    },
    {
     "data": {
      "image/png": "[encoded data removed]",
      "text/plain": [
       "<Figure size 432x288 with 1 Axes>"
      ]
     },
     "metadata": {
      "needs_background": "light"
     },
     "output_type": "display_data"
    }
   ],
   "source": [
    "# Outliers (\"flyers\") in the data\n",
    "plt.boxplot(analysis_df_t['incremental_spend'])"
   ]
  },
  {
   "cell_type": "code",
   "execution_count": 13,
   "id": "39a35544",
   "metadata": {},
   "outputs": [
    {
     "name": "stdout",
     "output_type": "stream",
     "text": [
      "bottom cut off is:  -37.504245705101184\n",
      "top cut off is:  47.806031935075886\n"
     ]
    }
   ],
   "source": [
    "# Remove the outliers [1]\n",
    "q25 = np.percentile(analysis_df_t['incremental_spend'], 25)\n",
    "q75 = np.percentile(analysis_df_t['incremental_spend'], 75)\n",
    "iqr = q75 - q25\n",
    "cut_off = iqr * 3\n",
    "bottom_cut_off = q25 - cut_off\n",
    "top_cut_off = q75 + cut_off\n",
    "print(\"bottom cut off is: \", bottom_cut_off)\n",
    "print(\"top cut off is: \", top_cut_off)"
   ]
  },
  {
   "cell_type": "code",
   "execution_count": 14,
   "id": "4accb825",
   "metadata": {
    "scrolled": true
   },
   "outputs": [],
   "source": [
    "analysis_df_t['outlier'] = 0\n",
    "analysis_df_t.loc[(analysis_df_t['incremental_spend'] < bottom_cut_off) | (\n",
    "    analysis_df_t['incremental_spend'] > top_cut_off), 'outlier'] = 1"
   ]
  },
  {
   "cell_type": "code",
   "execution_count": 15,
   "id": "d6b683e8",
   "metadata": {
    "scrolled": true
   },
   "outputs": [
    {
     "data": {
      "text/plain": [
       "0    42571\n",
       "1     1046\n",
       "Name: outlier, dtype: int64"
      ]
     },
     "execution_count": 15,
     "metadata": {},
     "output_type": "execute_result"
    }
   ],
   "source": [
    "# Check number of outliers\n",
    "analysis_df_t['outlier'].value_counts()"
   ]
  },
  {
   "cell_type": "code",
   "execution_count": 16,
   "id": "70ea74e8",
   "metadata": {},
   "outputs": [],
   "source": [
    "# Create df without outliers\n",
    "analysis_df_t = analysis_df_t.loc[analysis_df_t['outlier'] == 0]"
   ]
  },
  {
   "cell_type": "markdown",
   "id": "db75d5a2",
   "metadata": {},
   "source": [
    "# Stage 1 - Relevance of offers - Analysis and Findings"
   ]
  },
  {
   "cell_type": "markdown",
   "id": "3035de3f",
   "metadata": {},
   "source": [
    "## Descriptive Analyses -- WIP^^^^^^^^^^^^^^^^^^^^^^^^^^^^\n",
    "**Completion:** Based on the descriptive statistics below, discounts get completed more frequently than BOGO offers. \n",
    "\n",
    "**Incremental spend:** Despite discounts being completed more often, it is a BOGO offer (difficulty 10, reward 10, channels 3) that, on average, has the highest incremental spend. Maybe surprisingly, both informational offers show a high average incremental spend, too. When looking at distributions for informational offers, the spikes around the origin show that many customers do not change their spend as compared to non-offer-aware times, however. In comparison, for BOGO and discounts, one can spot spikes in the distribution at the value of difficulty (i.e. the money the customer needs to spend to complete the offer).\n",
    "\n",
    "**Completion and incremental spend:** It could be possible that simple awareness already leads to positive incremental spend. This is not the case. The data shows that only completed offers are, on average, associated with higher incremental spend. One could therefore argue that the company should try to only target consumers that are likely to complete an offer. If the company was successful in this targeting and 100% of those who receive the offer and are aware complete it, then the best offer for the company would be another one - quite logically one with high difficulty (discount, difficulty 10, reward 5, channels 2). \n",
    "\n",
    "**Further analysis:**\n",
    "As there will be an unknown costs associated with an offer, the predictive modeling analysis analysis will be using incremental spend of all who were aware of the offer as dependent variable rather than offer completion. This will allow the company to see who is worth targeting and give the company the flexibility to adjust monetary thresholds of when a person will be sent an offer flexibly and based on cost. By using this logic, the company is likely to automatically pick people who are likely to complete the offer."
   ]
  },
  {
   "cell_type": "markdown",
   "id": "dba09867",
   "metadata": {},
   "source": [
    "#### Inspect distributions\n",
    "Overall, a spike at 0 is visible in the overall distribution as well as sub-samples for the informational offer and non-completed bogo and discount. THese are cases where there is no or close to no difference between the spend during non-awareness and the spend during the specific offer was active.\n",
    "\n",
    "Graph 4, the distribution of non-completed offers (excluding informational offer), shows that there are offers where the customer spent **more** than needed to complete the offer. Investigation shows that these are BOGO offers where the customer in *total* spent more than the required amount to complete the offer, but didn't spend this money in one go. This is why offer completion wasn't triggered."
   ]
  },
  {
   "cell_type": "code",
   "execution_count": 17,
   "id": "1f3568fd",
   "metadata": {
    "scrolled": false
   },
   "outputs": [
    {
     "data": {
      "text/plain": [
       "<AxesSubplot:ylabel='Frequency'>"
      ]
     },
     "execution_count": 17,
     "metadata": {},
     "output_type": "execute_result"
    },
    {
     "data": {
      "image/png": "[encoded data removed]",
      "text/plain": [
       "<Figure size 432x288 with 1 Axes>"
      ]
     },
     "metadata": {
      "needs_background": "light"
     },
     "output_type": "display_data"
    }
   ],
   "source": [
    "# Distribution after removing outliers\n",
    "analysis_df_t['incremental_spend'].plot.hist(bins=200)"
   ]
  },
  {
   "cell_type": "code",
   "execution_count": 18,
   "id": "42184383",
   "metadata": {
    "scrolled": true
   },
   "outputs": [
    {
     "data": {
      "text/plain": [
       "<AxesSubplot:ylabel='Frequency'>"
      ]
     },
     "execution_count": 18,
     "metadata": {},
     "output_type": "execute_result"
    },
    {
     "data": {
      "image/png": "[encoded data removed]",
      "text/plain": [
       "<Figure size 432x288 with 1 Axes>"
      ]
     },
     "metadata": {
      "needs_background": "light"
     },
     "output_type": "display_data"
    }
   ],
   "source": [
    "# Distribution for those who complete the offer\n",
    "analysis_df_t.loc[analysis_df_t['was_completed']\n",
    "                  == 1]['incremental_spend'].plot.hist(bins=200)"
   ]
  },
  {
   "cell_type": "code",
   "execution_count": 19,
   "id": "381d23ff",
   "metadata": {},
   "outputs": [
    {
     "data": {
      "text/plain": [
       "<AxesSubplot:ylabel='Frequency'>"
      ]
     },
     "execution_count": 19,
     "metadata": {},
     "output_type": "execute_result"
    },
    {
     "data": {
      "image/png": "[encoded data removed]",
      "text/plain": [
       "<Figure size 432x288 with 1 Axes>"
      ]
     },
     "metadata": {
      "needs_background": "light"
     },
     "output_type": "display_data"
    }
   ],
   "source": [
    "# Distribution for informational offers.\n",
    "analysis_df_t.loc[(analysis_df_t['offer_type'] == 'informational')\n",
    "                  ]['incremental_spend'].plot.hist(bins=200)"
   ]
  },
  {
   "cell_type": "code",
   "execution_count": 20,
   "id": "d668a2b5",
   "metadata": {
    "scrolled": true
   },
   "outputs": [
    {
     "data": {
      "text/plain": [
       "<AxesSubplot:ylabel='Frequency'>"
      ]
     },
     "execution_count": 20,
     "metadata": {},
     "output_type": "execute_result"
    },
    {
     "data": {
      "image/png": "[encoded data removed]",
      "text/plain": [
       "<Figure size 432x288 with 1 Axes>"
      ]
     },
     "metadata": {
      "needs_background": "light"
     },
     "output_type": "display_data"
    }
   ],
   "source": [
    "# Distribution for those who did not complete the offer, excluding informational offers\n",
    "analysis_df_t.loc[(analysis_df_t['was_completed'] == 0) & (\n",
    "    analysis_df_t['offer_type'] != 'informational')]['incremental_spend'].plot.hist(bins=200)"
   ]
  },
  {
   "cell_type": "markdown",
   "id": "82a383d4",
   "metadata": {},
   "source": [
    "#### Check base sizes\n",
    "to assure that for each group of interest, base sizes are large enough to draw conclusions. Base sizes are sufficiently high."
   ]
  },
  {
   "cell_type": "code",
   "execution_count": 21,
   "id": "6e515e41",
   "metadata": {
    "scrolled": true
   },
   "outputs": [
    {
     "data": {
      "text/html": [
       "<div>\n",
       "<style scoped>\n",
       "    .dataframe tbody tr th:only-of-type {\n",
       "        vertical-align: middle;\n",
       "    }\n",
       "\n",
       "    .dataframe tbody tr th {\n",
       "        vertical-align: top;\n",
       "    }\n",
       "\n",
       "    .dataframe thead th {\n",
       "        text-align: right;\n",
       "    }\n",
       "</style>\n",
       "<table border=\"1\" class=\"dataframe\">\n",
       "  <thead>\n",
       "    <tr style=\"text-align: right;\">\n",
       "      <th></th>\n",
       "      <th>0</th>\n",
       "    </tr>\n",
       "    <tr>\n",
       "      <th>offer_type</th>\n",
       "      <th></th>\n",
       "    </tr>\n",
       "  </thead>\n",
       "  <tbody>\n",
       "    <tr>\n",
       "      <th>bogo</th>\n",
       "      <td>19627</td>\n",
       "    </tr>\n",
       "    <tr>\n",
       "      <th>discount</th>\n",
       "      <td>13543</td>\n",
       "    </tr>\n",
       "    <tr>\n",
       "      <th>informational</th>\n",
       "      <td>9401</td>\n",
       "    </tr>\n",
       "  </tbody>\n",
       "</table>\n",
       "</div>"
      ],
      "text/plain": [
       "                   0\n",
       "offer_type          \n",
       "bogo           19627\n",
       "discount       13543\n",
       "informational   9401"
      ]
     },
     "execution_count": 21,
     "metadata": {},
     "output_type": "execute_result"
    }
   ],
   "source": [
    "pd.DataFrame(analysis_df_t.groupby(['offer_type']).size())"
   ]
  },
  {
   "cell_type": "code",
   "execution_count": 22,
   "id": "6aca6cd6",
   "metadata": {},
   "outputs": [
    {
     "data": {
      "text/html": [
       "<div>\n",
       "<style scoped>\n",
       "    .dataframe tbody tr th:only-of-type {\n",
       "        vertical-align: middle;\n",
       "    }\n",
       "\n",
       "    .dataframe tbody tr th {\n",
       "        vertical-align: top;\n",
       "    }\n",
       "\n",
       "    .dataframe thead th {\n",
       "        text-align: right;\n",
       "    }\n",
       "</style>\n",
       "<table border=\"1\" class=\"dataframe\">\n",
       "  <thead>\n",
       "    <tr style=\"text-align: right;\">\n",
       "      <th></th>\n",
       "      <th>0</th>\n",
       "    </tr>\n",
       "    <tr>\n",
       "      <th>offer_descriptor</th>\n",
       "      <th></th>\n",
       "    </tr>\n",
       "  </thead>\n",
       "  <tbody>\n",
       "    <tr>\n",
       "      <th>bogo_10_10_3</th>\n",
       "      <td>4691</td>\n",
       "    </tr>\n",
       "    <tr>\n",
       "      <th>bogo_10_10_4</th>\n",
       "      <td>6288</td>\n",
       "    </tr>\n",
       "    <tr>\n",
       "      <th>bogo_5_5_3</th>\n",
       "      <td>2659</td>\n",
       "    </tr>\n",
       "    <tr>\n",
       "      <th>bogo_5_5_4</th>\n",
       "      <td>5989</td>\n",
       "    </tr>\n",
       "    <tr>\n",
       "      <th>disc_10_2_3</th>\n",
       "      <td>2738</td>\n",
       "    </tr>\n",
       "    <tr>\n",
       "      <th>disc_10_2_4</th>\n",
       "      <td>4150</td>\n",
       "    </tr>\n",
       "    <tr>\n",
       "      <th>disc_20_5_2</th>\n",
       "      <td>1553</td>\n",
       "    </tr>\n",
       "    <tr>\n",
       "      <th>disc_7_3_4</th>\n",
       "      <td>5102</td>\n",
       "    </tr>\n",
       "    <tr>\n",
       "      <th>info_0_0_2</th>\n",
       "      <td>5816</td>\n",
       "    </tr>\n",
       "    <tr>\n",
       "      <th>info_0_0_4</th>\n",
       "      <td>3585</td>\n",
       "    </tr>\n",
       "  </tbody>\n",
       "</table>\n",
       "</div>"
      ],
      "text/plain": [
       "                     0\n",
       "offer_descriptor      \n",
       "bogo_10_10_3      4691\n",
       "bogo_10_10_4      6288\n",
       "bogo_5_5_3        2659\n",
       "bogo_5_5_4        5989\n",
       "disc_10_2_3       2738\n",
       "disc_10_2_4       4150\n",
       "disc_20_5_2       1553\n",
       "disc_7_3_4        5102\n",
       "info_0_0_2        5816\n",
       "info_0_0_4        3585"
      ]
     },
     "execution_count": 22,
     "metadata": {},
     "output_type": "execute_result"
    }
   ],
   "source": [
    "pd.DataFrame(analysis_df_t.groupby(['offer_descriptor']).size())"
   ]
  },
  {
   "cell_type": "markdown",
   "id": "65570e36",
   "metadata": {},
   "source": [
    "#### Q1.1: Understand offer completion\n",
    "as an indicator for how attractive a BOGO and discount offers are to consumers.\n",
    "Consumers do more often complete the discount than the BOGO offers."
   ]
  },
  {
   "cell_type": "code",
   "execution_count": 23,
   "id": "b2a79100",
   "metadata": {
    "scrolled": true
   },
   "outputs": [
    {
     "data": {
      "text/html": [
       "<div>\n",
       "<style scoped>\n",
       "    .dataframe tbody tr th:only-of-type {\n",
       "        vertical-align: middle;\n",
       "    }\n",
       "\n",
       "    .dataframe tbody tr th {\n",
       "        vertical-align: top;\n",
       "    }\n",
       "\n",
       "    .dataframe thead th {\n",
       "        text-align: right;\n",
       "    }\n",
       "</style>\n",
       "<table border=\"1\" class=\"dataframe\">\n",
       "  <thead>\n",
       "    <tr style=\"text-align: right;\">\n",
       "      <th></th>\n",
       "      <th>was_completed</th>\n",
       "    </tr>\n",
       "    <tr>\n",
       "      <th>offer_type</th>\n",
       "      <th></th>\n",
       "    </tr>\n",
       "  </thead>\n",
       "  <tbody>\n",
       "    <tr>\n",
       "      <th>bogo</th>\n",
       "      <td>0.442656</td>\n",
       "    </tr>\n",
       "    <tr>\n",
       "      <th>discount</th>\n",
       "      <td>0.637525</td>\n",
       "    </tr>\n",
       "    <tr>\n",
       "      <th>informational</th>\n",
       "      <td>0.000000</td>\n",
       "    </tr>\n",
       "  </tbody>\n",
       "</table>\n",
       "</div>"
      ],
      "text/plain": [
       "               was_completed\n",
       "offer_type                  \n",
       "bogo                0.442656\n",
       "discount            0.637525\n",
       "informational       0.000000"
      ]
     },
     "execution_count": 23,
     "metadata": {},
     "output_type": "execute_result"
    }
   ],
   "source": [
    "analysis_df_t[['offer_type', 'was_completed']].groupby(['offer_type']).mean()"
   ]
  },
  {
   "cell_type": "code",
   "execution_count": 24,
   "id": "67616415",
   "metadata": {
    "scrolled": true
   },
   "outputs": [
    {
     "data": {
      "text/plain": [
       "<AxesSubplot:xlabel='offer_type', ylabel='was_completed'>"
      ]
     },
     "execution_count": 24,
     "metadata": {},
     "output_type": "execute_result"
    },
    {
     "data": {
      "image/png": "[encoded data removed]",
      "text/plain": [
       "<Figure size 432x288 with 1 Axes>"
      ]
     },
     "metadata": {
      "needs_background": "light"
     },
     "output_type": "display_data"
    }
   ],
   "source": [
    "# How often do offer types get completed? (note: completion is not defined for informational offers)\n",
    "sns.barplot(x=analysis_df_t['offer_type'],\n",
    "            y=analysis_df_t['was_completed'], palette=\"Blues_d\")"
   ]
  },
  {
   "cell_type": "code",
   "execution_count": 25,
   "id": "6fd98ef4",
   "metadata": {},
   "outputs": [
    {
     "data": {
      "image/png": "[encoded data removed]",
      "text/plain": [
       "<Figure size 432x288 with 1 Axes>"
      ]
     },
     "metadata": {
      "needs_background": "light"
     },
     "output_type": "display_data"
    }
   ],
   "source": [
    "# How often does each specific offer get completed? [4][5]\n",
    "grp_order = analysis_df_t.groupby('offer_descriptor').was_completed.agg(\n",
    "    'mean').sort_values(ascending=False).index\n",
    "sns.barplot(x=analysis_df_t['offer_descriptor'],\n",
    "            y=analysis_df_t['was_completed'], order=grp_order, palette=\"Blues_d\")\n",
    "plt.xticks(rotation=90)\n",
    "plt.tight_layout()"
   ]
  },
  {
   "cell_type": "markdown",
   "id": "80301d6e",
   "metadata": {},
   "source": [
    "#### Q1.1: Understand incremental spend\n",
    "The aim is to assess which offer type has the biggest impact on business revenue and is hence the most successful.\n",
    "When plotting distributions, the graphs for BOGO and discount exhibit peaks at the difficulty level, i.e. the amount of money that needs to be spent to complete the offer. For informational offers, the graphs show more extreme maxima at/close to the origin, showing that many respondents did not change their behaviour as a consequency of viewing the advertisement."
   ]
  },
  {
   "cell_type": "code",
   "execution_count": 26,
   "id": "947cd7e1",
   "metadata": {
    "scrolled": true
   },
   "outputs": [
    {
     "data": {
      "text/html": [
       "<div>\n",
       "<style scoped>\n",
       "    .dataframe tbody tr th:only-of-type {\n",
       "        vertical-align: middle;\n",
       "    }\n",
       "\n",
       "    .dataframe tbody tr th {\n",
       "        vertical-align: top;\n",
       "    }\n",
       "\n",
       "    .dataframe thead tr th {\n",
       "        text-align: left;\n",
       "    }\n",
       "</style>\n",
       "<table border=\"1\" class=\"dataframe\">\n",
       "  <thead>\n",
       "    <tr>\n",
       "      <th></th>\n",
       "      <th>offer_descriptor</th>\n",
       "      <th>offer_type</th>\n",
       "      <th>offer_difficulty</th>\n",
       "      <th>offer_reward</th>\n",
       "      <th>email</th>\n",
       "      <th>mobile</th>\n",
       "      <th>social</th>\n",
       "      <th>web</th>\n",
       "      <th colspan=\"2\" halign=\"left\">incremental_spend</th>\n",
       "    </tr>\n",
       "    <tr>\n",
       "      <th></th>\n",
       "      <th></th>\n",
       "      <th></th>\n",
       "      <th></th>\n",
       "      <th></th>\n",
       "      <th></th>\n",
       "      <th></th>\n",
       "      <th></th>\n",
       "      <th></th>\n",
       "      <th>mean</th>\n",
       "      <th>median</th>\n",
       "    </tr>\n",
       "  </thead>\n",
       "  <tbody>\n",
       "    <tr>\n",
       "      <th>6</th>\n",
       "      <td>disc_20_5_2</td>\n",
       "      <td>discount</td>\n",
       "      <td>20</td>\n",
       "      <td>5</td>\n",
       "      <td>1</td>\n",
       "      <td>0</td>\n",
       "      <td>0</td>\n",
       "      <td>1</td>\n",
       "      <td>7.371040</td>\n",
       "      <td>5.736856</td>\n",
       "    </tr>\n",
       "    <tr>\n",
       "      <th>5</th>\n",
       "      <td>disc_10_2_4</td>\n",
       "      <td>discount</td>\n",
       "      <td>10</td>\n",
       "      <td>2</td>\n",
       "      <td>1</td>\n",
       "      <td>1</td>\n",
       "      <td>1</td>\n",
       "      <td>1</td>\n",
       "      <td>6.297533</td>\n",
       "      <td>6.475318</td>\n",
       "    </tr>\n",
       "    <tr>\n",
       "      <th>0</th>\n",
       "      <td>bogo_10_10_3</td>\n",
       "      <td>bogo</td>\n",
       "      <td>10</td>\n",
       "      <td>10</td>\n",
       "      <td>1</td>\n",
       "      <td>1</td>\n",
       "      <td>1</td>\n",
       "      <td>0</td>\n",
       "      <td>5.442909</td>\n",
       "      <td>4.638487</td>\n",
       "    </tr>\n",
       "    <tr>\n",
       "      <th>7</th>\n",
       "      <td>disc_7_3_4</td>\n",
       "      <td>discount</td>\n",
       "      <td>7</td>\n",
       "      <td>3</td>\n",
       "      <td>1</td>\n",
       "      <td>1</td>\n",
       "      <td>1</td>\n",
       "      <td>1</td>\n",
       "      <td>4.855819</td>\n",
       "      <td>4.739789</td>\n",
       "    </tr>\n",
       "    <tr>\n",
       "      <th>1</th>\n",
       "      <td>bogo_10_10_4</td>\n",
       "      <td>bogo</td>\n",
       "      <td>10</td>\n",
       "      <td>10</td>\n",
       "      <td>1</td>\n",
       "      <td>1</td>\n",
       "      <td>1</td>\n",
       "      <td>1</td>\n",
       "      <td>4.716083</td>\n",
       "      <td>3.138796</td>\n",
       "    </tr>\n",
       "    <tr>\n",
       "      <th>4</th>\n",
       "      <td>disc_10_2_3</td>\n",
       "      <td>discount</td>\n",
       "      <td>10</td>\n",
       "      <td>2</td>\n",
       "      <td>1</td>\n",
       "      <td>1</td>\n",
       "      <td>0</td>\n",
       "      <td>1</td>\n",
       "      <td>4.675288</td>\n",
       "      <td>4.518141</td>\n",
       "    </tr>\n",
       "    <tr>\n",
       "      <th>2</th>\n",
       "      <td>bogo_5_5_3</td>\n",
       "      <td>bogo</td>\n",
       "      <td>5</td>\n",
       "      <td>5</td>\n",
       "      <td>1</td>\n",
       "      <td>1</td>\n",
       "      <td>0</td>\n",
       "      <td>1</td>\n",
       "      <td>4.152968</td>\n",
       "      <td>3.730000</td>\n",
       "    </tr>\n",
       "    <tr>\n",
       "      <th>3</th>\n",
       "      <td>bogo_5_5_4</td>\n",
       "      <td>bogo</td>\n",
       "      <td>5</td>\n",
       "      <td>5</td>\n",
       "      <td>1</td>\n",
       "      <td>1</td>\n",
       "      <td>1</td>\n",
       "      <td>1</td>\n",
       "      <td>4.047608</td>\n",
       "      <td>3.085326</td>\n",
       "    </tr>\n",
       "    <tr>\n",
       "      <th>8</th>\n",
       "      <td>info_0_0_2</td>\n",
       "      <td>informational</td>\n",
       "      <td>0</td>\n",
       "      <td>0</td>\n",
       "      <td>1</td>\n",
       "      <td>1</td>\n",
       "      <td>1</td>\n",
       "      <td>0</td>\n",
       "      <td>3.581101</td>\n",
       "      <td>0.000000</td>\n",
       "    </tr>\n",
       "    <tr>\n",
       "      <th>9</th>\n",
       "      <td>info_0_0_4</td>\n",
       "      <td>informational</td>\n",
       "      <td>0</td>\n",
       "      <td>0</td>\n",
       "      <td>1</td>\n",
       "      <td>1</td>\n",
       "      <td>0</td>\n",
       "      <td>1</td>\n",
       "      <td>3.085520</td>\n",
       "      <td>0.000000</td>\n",
       "    </tr>\n",
       "  </tbody>\n",
       "</table>\n",
       "</div>"
      ],
      "text/plain": [
       "  offer_descriptor     offer_type offer_difficulty offer_reward email mobile  \\\n",
       "                                                                               \n",
       "6      disc_20_5_2       discount               20            5     1      0   \n",
       "5      disc_10_2_4       discount               10            2     1      1   \n",
       "0     bogo_10_10_3           bogo               10           10     1      1   \n",
       "7       disc_7_3_4       discount                7            3     1      1   \n",
       "1     bogo_10_10_4           bogo               10           10     1      1   \n",
       "4      disc_10_2_3       discount               10            2     1      1   \n",
       "2       bogo_5_5_3           bogo                5            5     1      1   \n",
       "3       bogo_5_5_4           bogo                5            5     1      1   \n",
       "8       info_0_0_2  informational                0            0     1      1   \n",
       "9       info_0_0_4  informational                0            0     1      1   \n",
       "\n",
       "  social web incremental_spend            \n",
       "                          mean    median  \n",
       "6      0   1          7.371040  5.736856  \n",
       "5      1   1          6.297533  6.475318  \n",
       "0      1   0          5.442909  4.638487  \n",
       "7      1   1          4.855819  4.739789  \n",
       "1      1   1          4.716083  3.138796  \n",
       "4      0   1          4.675288  4.518141  \n",
       "2      0   1          4.152968  3.730000  \n",
       "3      1   1          4.047608  3.085326  \n",
       "8      1   0          3.581101  0.000000  \n",
       "9      0   1          3.085520  0.000000  "
      ]
     },
     "execution_count": 26,
     "metadata": {},
     "output_type": "execute_result"
    }
   ],
   "source": [
    "# Incremental spend\n",
    "pd.DataFrame(analysis_df_t.groupby(['offer_descriptor', 'offer_type', 'offer_difficulty', 'offer_reward', 'email', 'mobile', 'social', 'web']).agg(\n",
    "    {'incremental_spend': [np.mean, np.median]}).reset_index().sort_values(by=[('incremental_spend', 'mean')], ascending=False))"
   ]
  },
  {
   "cell_type": "code",
   "execution_count": 27,
   "id": "a5b10f66",
   "metadata": {},
   "outputs": [],
   "source": [
    "# Chart distributions of incremental spend\n",
    "b1 = analysis_df_t.loc[analysis_df_t['offer_descriptor']\n",
    "                       == 'bogo_10_10_3']['incremental_spend']\n",
    "b2 = analysis_df_t.loc[analysis_df_t['offer_descriptor']\n",
    "                       == 'bogo_10_10_4']['incremental_spend']\n",
    "b3 = analysis_df_t.loc[analysis_df_t['offer_descriptor']\n",
    "                       == 'bogo_5_5_3']['incremental_spend']\n",
    "b4 = analysis_df_t.loc[analysis_df_t['offer_descriptor']\n",
    "                       == 'bogo_5_5_4']['incremental_spend']\n",
    "d1 = analysis_df_t.loc[analysis_df_t['offer_descriptor']\n",
    "                       == 'disc_20_5_2']['incremental_spend']\n",
    "d2 = analysis_df_t.loc[analysis_df_t['offer_descriptor']\n",
    "                       == 'disc_10_2_4']['incremental_spend']\n",
    "d3 = analysis_df_t.loc[analysis_df_t['offer_descriptor']\n",
    "                       == 'disc_10_2_3']['incremental_spend']\n",
    "d4 = analysis_df_t.loc[analysis_df_t['offer_descriptor']\n",
    "                       == 'disc_7_3_4']['incremental_spend']\n",
    "i1 = analysis_df_t.loc[analysis_df_t['offer_descriptor']\n",
    "                       == 'info_0_0_2']['incremental_spend']\n",
    "i2 = analysis_df_t.loc[analysis_df_t['offer_descriptor']\n",
    "                       == 'info_0_0_4']['incremental_spend']"
   ]
  },
  {
   "cell_type": "code",
   "execution_count": 28,
   "id": "aff10c0f",
   "metadata": {},
   "outputs": [
    {
     "data": {
      "text/plain": [
       "Text(0.5, 1.0, 'info_0_0_4')"
      ]
     },
     "execution_count": 28,
     "metadata": {},
     "output_type": "execute_result"
    },
    {
     "data": {
      "image/png": "[encoded data removed]",
      "text/plain": [
       "<Figure size 1332x1116 with 10 Axes>"
      ]
     },
     "metadata": {
      "needs_background": "light"
     },
     "output_type": "display_data"
    }
   ],
   "source": [
    "bins = np.linspace(-50, 50, 100)\n",
    "\n",
    "fig, axs = plt.subplots(5, 2)  # ,sharex=True, sharey=True)\n",
    "fig.set_size_inches(18.5, 15.5)\n",
    "ax_b1 = axs[0, 0].hist(b1, bins, alpha=0.5, label='bogo_10_10_3')\n",
    "axs[0, 0].set_title('bogo_10_10_3')\n",
    "ax_b2 = axs[0, 1].hist(b2, bins, alpha=0.5, label='bogo_10_10_4')\n",
    "axs[0, 1].set_title('bogo_10_10_4')\n",
    "ax_b3 = axs[1, 0].hist(b3, bins, alpha=0.5, label='bogo_5_5_3')\n",
    "axs[1, 0].set_title('bogo_5_5_3')\n",
    "ax_b4 = axs[1, 1].hist(b4, bins, alpha=0.5, label='bogo_5_5_4')\n",
    "axs[1, 1].set_title('bogo_5_5_4')\n",
    "\n",
    "ax_d1 = axs[2, 0].hist(d1, bins, alpha=0.5, label='disc_20_5_2')\n",
    "axs[2, 0].set_title('disc_20_5_2')\n",
    "ax_d2 = axs[2, 1].hist(d2, bins, alpha=0.5, label='disc_10_2_4')\n",
    "axs[2, 1].set_title('disc_10_2_4')\n",
    "ax_d3 = axs[3, 0].hist(d3, bins, alpha=0.5, label='disc_10_2_3')\n",
    "axs[3, 0].set_title('disc_10_2_3')\n",
    "ax_d4 = axs[3, 1].hist(d4, bins, alpha=0.5, label='disc_7_3_4')\n",
    "axs[3, 1].set_title('disc_7_3_4')\n",
    "\n",
    "ax_i1 = axs[4, 0].hist(i1, bins, alpha=0.5, label='info_0_0_2')\n",
    "axs[4, 0].set_title('info_0_0_2')\n",
    "ax_i2 = axs[4, 1].hist(i2, bins, alpha=0.5, label='info_0_0_4')\n",
    "axs[4, 1].set_title('info_0_0_4')"
   ]
  },
  {
   "cell_type": "markdown",
   "id": "210d79e0",
   "metadata": {},
   "source": [
    "#### Q1.2:  Understand the impact of completion on incremental spend\n",
    "The aim is to assess if simply knowing about an offer already leads to higher spend.\n",
    "This is not the case. Average incremental spend is negative for those who do not complete the offer, meaning that these people spent less than they do when they are not aware of any offers. The only exception is the BOGO offer with difficulty and reward 10 and duration of three days.\n",
    "\n",
    "If the company was better at targeting those who will actually *complete* an offer, the incremental spend would be best for the discount at difficulty 20 and reward 5."
   ]
  },
  {
   "cell_type": "code",
   "execution_count": 29,
   "id": "b6eeae6e",
   "metadata": {
    "scrolled": true
   },
   "outputs": [
    {
     "data": {
      "text/plain": [
       "<AxesSubplot:xlabel='offer_type', ylabel='incremental_spend'>"
      ]
     },
     "execution_count": 29,
     "metadata": {},
     "output_type": "execute_result"
    },
    {
     "data": {
      "image/png": "[encoded data removed]",
      "text/plain": [
       "<Figure size 432x288 with 1 Axes>"
      ]
     },
     "metadata": {
      "needs_background": "light"
     },
     "output_type": "display_data"
    }
   ],
   "source": [
    "# Does only being aware of an offer w/o completing it also lead to positive incremental spend?\n",
    "sns.barplot(x=analysis_df_t['offer_type'], y=analysis_df_t['incremental_spend'],\n",
    "            hue=analysis_df_t['was_completed'], palette=\"Blues_d\")"
   ]
  },
  {
   "cell_type": "code",
   "execution_count": 30,
   "id": "0df8f499",
   "metadata": {
    "scrolled": true
   },
   "outputs": [
    {
     "data": {
      "image/png": "[encoded data removed]",
      "text/plain": [
       "<Figure size 432x288 with 1 Axes>"
      ]
     },
     "metadata": {
      "needs_background": "light"
     },
     "output_type": "display_data"
    }
   ],
   "source": [
    "sns.barplot(x=analysis_df_t['offer_descriptor'], y=analysis_df_t['incremental_spend'],\n",
    "            hue=analysis_df_t['was_completed'], palette=\"Blues_d\")\n",
    "plt.xticks(rotation=90)\n",
    "plt.tight_layout()"
   ]
  },
  {
   "cell_type": "markdown",
   "id": "5cdb21a3",
   "metadata": {},
   "source": [
    "##  Q1.3: Find the most successful offer(s)\n",
    "The data for the 10 offers is not normally distributed, as can easily be seen from the spikes at 0. Therefore, a non-parametric test needs to be used to establish if the offer success, measured as incremental spend, differs between offers. The Kruskal-Wallis test is the non-parametric counterpart to a one-way ANOVA. It assesses if the medians of two or more groups are statistically significantly different from each other. A group in this case is defined by the offer, hence there are ten groups.\n",
    "\n",
    "The Kruskal-Wallis test assumes that the groups are independent. The alternative where groups are not independent is the Friedman test. It can be argued that the groups in this data are neither truly dependent nor truly independent, because some respondents might be in various offer groups, whilst others won't. Therefore, this assumption of the Kruskal-Wallis test is partially violated. However, there is no test for the present \"mixed\" scenario. Therefore the test is still used as best option. \n",
    "[6][7]"
   ]
  },
  {
   "cell_type": "markdown",
   "id": "1e838be9",
   "metadata": {},
   "source": [
    "#### Visual inspection of medians"
   ]
  },
  {
   "cell_type": "code",
   "execution_count": 31,
   "id": "9b67d5b0",
   "metadata": {},
   "outputs": [
    {
     "name": "stdout",
     "output_type": "stream",
     "text": [
      "b1 median:  4.638486842105264\n",
      "b2 median:  3.1387956204379566\n",
      "b3 median:  3.73\n",
      "b4 median:  3.0853260869565218\n",
      "d1 median:  5.736855670103093\n",
      "d2 median:  6.475317585026888\n",
      "d3 median:  4.5181410758414255\n",
      "d4 median:  4.7397891566265065\n",
      "i1 median:  0.0\n",
      "i2 median:  0.0\n"
     ]
    }
   ],
   "source": [
    "# Look at medians\n",
    "print(\"b1 median: \", b1.median())\n",
    "print(\"b2 median: \", b2.median())\n",
    "print(\"b3 median: \", b3.median())\n",
    "print(\"b4 median: \", b4.median())\n",
    "print(\"d1 median: \", d1.median())\n",
    "print(\"d2 median: \", d2.median())\n",
    "print(\"d3 median: \", d3.median())\n",
    "print(\"d4 median: \", d4.median())\n",
    "print(\"i1 median: \", i1.median())\n",
    "print(\"i2 median: \", i2.median())"
   ]
  },
  {
   "cell_type": "markdown",
   "id": "31dc29f6",
   "metadata": {},
   "source": [
    "#### Create arrays to feed into test"
   ]
  },
  {
   "cell_type": "code",
   "execution_count": 32,
   "id": "8a2a3d79",
   "metadata": {},
   "outputs": [],
   "source": [
    "def make_array(s):\n",
    "    '''\n",
    "    Takes in a series and outputs as array\n",
    "    '''\n",
    "    array = s[~s.isna()].to_numpy()\n",
    "    return array"
   ]
  },
  {
   "cell_type": "code",
   "execution_count": 33,
   "id": "df398f09",
   "metadata": {},
   "outputs": [],
   "source": [
    "b1 = make_array(b1)\n",
    "b2 = make_array(b2)\n",
    "b3 = make_array(b3)\n",
    "b4 = make_array(b4)\n",
    "d1 = make_array(d1)\n",
    "d2 = make_array(d2)\n",
    "d3 = make_array(d3)\n",
    "d4 = make_array(d4)\n",
    "i1 = make_array(i1)\n",
    "i2 = make_array(i2)"
   ]
  },
  {
   "cell_type": "markdown",
   "id": "b45f626e",
   "metadata": {},
   "source": [
    "#### Kruskal-Wallis test\n",
    "to see if there are any differences between groups. p < 0.05, hence there are differences."
   ]
  },
  {
   "cell_type": "code",
   "execution_count": 34,
   "id": "6d736ba4",
   "metadata": {},
   "outputs": [],
   "source": [
    "statistic, p_value = stats.kruskal(b1, b2, b3, b4, d1, d2, d3, d4, i1, i2)"
   ]
  },
  {
   "cell_type": "code",
   "execution_count": 35,
   "id": "53452f3c",
   "metadata": {
    "scrolled": false
   },
   "outputs": [
    {
     "name": "stdout",
     "output_type": "stream",
     "text": [
      "F:  913.8614846235372\n",
      "p:  6.377700634620933e-191\n"
     ]
    }
   ],
   "source": [
    "print(\"F: \", statistic)\n",
    "print(\"p: \", p_value)"
   ]
  },
  {
   "cell_type": "markdown",
   "id": "615b252f",
   "metadata": {},
   "source": [
    "#### Post hoc test with Mann-Whitney U test and Bonferroni adjustment\n",
    "to see between which offers these significant differences exist at alpha = 0.05. To account for multiple testing, alpha is Bonferroni-adjusted.\n",
    "The **two** \"top offers\" are d1 and d2, which are not statistically significantly different from each other. So are a few other offer combinations. "
   ]
  },
  {
   "cell_type": "code",
   "execution_count": 36,
   "id": "372bb3af",
   "metadata": {},
   "outputs": [],
   "source": [
    "all_arrays = {\"b1\": b1, \"b2\": b2, \"b3\": b3, \"b4\": b4,\n",
    "              \"d1\": d1, \"d2\": d2, \"d3\": d3, \"d4\": d4, \"i1\": i1, \"i2\": i1}"
   ]
  },
  {
   "cell_type": "code",
   "execution_count": 40,
   "id": "a4a8dd2d",
   "metadata": {
    "scrolled": false
   },
   "outputs": [],
   "source": [
    "# Create all pairs that are needed [8]\n",
    "pairs = list(map(dict, itertools.combinations(all_arrays.items(), 2)))"
   ]
  },
  {
   "cell_type": "code",
   "execution_count": 41,
   "id": "69520189",
   "metadata": {},
   "outputs": [],
   "source": [
    "results_sig_diff = {}\n",
    "results_not_sig_diff = {}\n",
    "for i in pairs:\n",
    "    combo = list(i)\n",
    "    a = list(i)[0]\n",
    "    b = list(i)[1]\n",
    "    statistic, pvalue = stats.mannwhitneyu(i[a], i[b])\n",
    "    # keeping those pairs that are statistically significalntly different using Bonferroni adjustment\n",
    "    if pvalue < 0.05/len(pairs):\n",
    "        results_sig_diff[str(a)+'_'+str(b)] = pvalue\n",
    "    else:\n",
    "        results_not_sig_diff[str(a)+'_'+str(b)] = pvalue"
   ]
  },
  {
   "cell_type": "code",
   "execution_count": 42,
   "id": "d6b65c46",
   "metadata": {
    "scrolled": false
   },
   "outputs": [
    {
     "data": {
      "text/plain": [
       "{'b1_d3': 0.029775519967164685,\n",
       " 'b1_d4': 0.021961062057059385,\n",
       " 'b2_b3': 0.38666680205957976,\n",
       " 'b2_b4': 0.006674248818760421,\n",
       " 'b2_d3': 0.02482836259350674,\n",
       " 'b3_b4': 0.03555384295150148,\n",
       " 'b3_d3': 0.024003621303899624,\n",
       " 'b3_d4': 0.0035019301230954755,\n",
       " 'd1_d2': 0.025463396764140254,\n",
       " 'd3_d4': 0.45367789566043565,\n",
       " 'i1_i2': 0.49999889832564903}"
      ]
     },
     "execution_count": 42,
     "metadata": {},
     "output_type": "execute_result"
    }
   ],
   "source": [
    "results_not_sig_diff"
   ]
  },
  {
   "cell_type": "markdown",
   "id": "8dc785b7",
   "metadata": {},
   "source": [
    "## Q1.4: Examine incremental spend and completion by offer characteristics\n",
    "The below charts have to be interpreted very carefully. This is because the data does not contain every possible combination of offer attributes and types. For example: the reward of 10 looks like it should be a lot more attractive. However, it only comes with a BOGO offer. It is unknown how well such a reward would be received with a discount offer. Similarly, it looks like mobile is not a good way to advertise. However, there is only one offer without mobile advertisement, and this happens to be the one with the highest mean incremental spend. One cannot conclude that it is the lack of mobile advertisement that makes this offer more successful, when there are other factors, e.g. it being the only discount at amount 20, that could be the driver."
   ]
  },
  {
   "cell_type": "code",
   "execution_count": 43,
   "id": "fe4d10d4",
   "metadata": {
    "scrolled": true
   },
   "outputs": [
    {
     "data": {
      "image/png": "[encoded data removed]",
      "text/plain": [
       "<Figure size 1332x396 with 6 Axes>"
      ]
     },
     "metadata": {
      "needs_background": "light"
     },
     "output_type": "display_data"
    }
   ],
   "source": [
    "fig, axs = plt.subplots(2, 3)\n",
    "fig.set_size_inches(18.5, 5.5)\n",
    "sns.barplot(ax=axs[0, 0], x=analysis_df_t['offer_duration'],\n",
    "            y=analysis_df_t['incremental_spend'], palette=\"Blues_d\")\n",
    "sns.barplot(ax=axs[0, 1], x=analysis_df_t['offer_reward'],\n",
    "            y=analysis_df_t['incremental_spend'], palette=\"Blues_d\")\n",
    "sns.barplot(ax=axs[0, 2], x=analysis_df_t['offer_difficulty'],\n",
    "            y=analysis_df_t['incremental_spend'], palette=\"Blues_d\")\n",
    "sns.barplot(ax=axs[1, 0], x=analysis_df_t['offer_duration'],\n",
    "            y=analysis_df_t['was_completed'], palette=\"Blues_d\")\n",
    "sns.barplot(ax=axs[1, 1], x=analysis_df_t['offer_reward'],\n",
    "            y=analysis_df_t['was_completed'], palette=\"Blues_d\")\n",
    "sns.barplot(ax=axs[1, 2], x=analysis_df_t['offer_difficulty'],\n",
    "            y=analysis_df_t['was_completed'], palette=\"Blues_d\")\n",
    "plt.tight_layout()"
   ]
  },
  {
   "cell_type": "code",
   "execution_count": 44,
   "id": "5d77985b",
   "metadata": {},
   "outputs": [
    {
     "data": {
      "text/plain": [
       "[(0.0, 1.0)]"
      ]
     },
     "execution_count": 44,
     "metadata": {},
     "output_type": "execute_result"
    },
    {
     "data": {
      "image/png": "[encoded data removed]",
      "text/plain": [
       "<Figure size 1332x396 with 4 Axes>"
      ]
     },
     "metadata": {
      "needs_background": "light"
     },
     "output_type": "display_data"
    }
   ],
   "source": [
    "fig, axs = plt.subplots(1, 4)\n",
    "fig.set_size_inches(18.5, 5.5)\n",
    "sns.barplot(ax=axs[0], x=analysis_df_t['email'],\n",
    "            y=analysis_df_t['was_completed'], palette=\"Blues_d\")\n",
    "axs[0].set(ylim=(0, 1))\n",
    "sns.barplot(ax=axs[1], x=analysis_df_t['web'],\n",
    "            y=analysis_df_t['was_completed'], palette=\"Blues_d\")\n",
    "axs[1].set(ylim=(0, 1))\n",
    "sns.barplot(ax=axs[2], x=analysis_df_t['mobile'],\n",
    "            y=analysis_df_t['was_completed'], palette=\"Blues_d\")\n",
    "axs[2].set(ylim=(0, 1))\n",
    "sns.barplot(ax=axs[3], x=analysis_df_t['social'],\n",
    "            y=analysis_df_t['was_completed'], palette=\"Blues_d\")\n",
    "axs[3].set(ylim=(0, 1))"
   ]
  },
  {
   "cell_type": "markdown",
   "id": "6f704493",
   "metadata": {},
   "source": [
    "# Stage 2 - Targeting - Analysis, Modeling and Findings"
   ]
  },
  {
   "cell_type": "markdown",
   "id": "5f24ede3",
   "metadata": {},
   "source": [
    "## Data cleaning due to missing data in demographic information\n",
    "As assessed prior to the data wrangling, there are customers with missing demographic information. In order to understand if this data is missing at random, the incremental spend and offer completion for the group \"missing data\" versus \"no missing data\" is compared. If the data is not missing at random, excluding the data records will bias the results. Some predictive models cannot work with missing data, though; In addition, the number of available dependent variables is already low, which is why the demographic information is needed for modeling. \n",
    "\n",
    "The incremental spend and offer completion rate for those with missing data is actually lower than for those with demographic data. The data is not missing at random. Potentially, at signup, users who are already more loyal or frequent customers are more inclined to give personal information to the company.\n",
    "There is no good way to impute the data and hence the records will still be dropped. \n",
    "\n",
    "Another way to handle missing data is to code missing data as a legitimate characteristic and use it as a predictor. This will not be done for this analysis as some of the demographics are continuous variables, whereas \"missing data\" would be categorical. However, when the company sends out offers in the future, the mere presence of demographic data should already be taken as an indicator for higher incremental spend."
   ]
  },
  {
   "cell_type": "code",
   "execution_count": 45,
   "id": "37e97ce6",
   "metadata": {},
   "outputs": [],
   "source": [
    "analysis_df_t['missing_demogs'] = 'not missing'\n",
    "analysis_df_t.loc[analysis_df_t['age'].isna(), 'missing_demogs'] = 'missing'"
   ]
  },
  {
   "cell_type": "code",
   "execution_count": 46,
   "id": "dd2ef1ea",
   "metadata": {
    "scrolled": true
   },
   "outputs": [
    {
     "data": {
      "text/plain": [
       "not missing    35979\n",
       "missing         6592\n",
       "Name: missing_demogs, dtype: int64"
      ]
     },
     "execution_count": 46,
     "metadata": {},
     "output_type": "execute_result"
    }
   ],
   "source": [
    "# Check number of records with missing values\n",
    "analysis_df_t['missing_demogs'].value_counts()"
   ]
  },
  {
   "cell_type": "code",
   "execution_count": 47,
   "id": "a0adf94e",
   "metadata": {
    "scrolled": true
   },
   "outputs": [
    {
     "data": {
      "image/png": "[encoded data removed]",
      "text/plain": [
       "<Figure size 432x288 with 1 Axes>"
      ]
     },
     "metadata": {
      "needs_background": "light"
     },
     "output_type": "display_data"
    }
   ],
   "source": [
    "# Examine distributions\n",
    "demog = analysis_df_t.loc[analysis_df_t['missing_demogs']\n",
    "                          == 'not missing']['incremental_spend']\n",
    "missing_demog = analysis_df_t.loc[analysis_df_t['missing_demogs']\n",
    "                                  == 'missing']['incremental_spend']\n",
    "\n",
    "bins = np.linspace(-50, 50, 100)\n",
    "\n",
    "plt.hist(demog, bins, alpha=0.5, label=\"has demographics\")\n",
    "plt.hist(missing_demog, bins, alpha=0.5, label=\"missing demographics\")\n",
    "plt.legend(loc='upper right')\n",
    "plt.show()"
   ]
  },
  {
   "cell_type": "code",
   "execution_count": 48,
   "id": "77e1585e",
   "metadata": {
    "scrolled": true
   },
   "outputs": [
    {
     "data": {
      "text/html": [
       "<div>\n",
       "<style scoped>\n",
       "    .dataframe tbody tr th:only-of-type {\n",
       "        vertical-align: middle;\n",
       "    }\n",
       "\n",
       "    .dataframe tbody tr th {\n",
       "        vertical-align: top;\n",
       "    }\n",
       "\n",
       "    .dataframe thead tr th {\n",
       "        text-align: left;\n",
       "    }\n",
       "\n",
       "    .dataframe thead tr:last-of-type th {\n",
       "        text-align: right;\n",
       "    }\n",
       "</style>\n",
       "<table border=\"1\" class=\"dataframe\">\n",
       "  <thead>\n",
       "    <tr>\n",
       "      <th></th>\n",
       "      <th colspan=\"2\" halign=\"left\">incremental_spend</th>\n",
       "    </tr>\n",
       "    <tr>\n",
       "      <th></th>\n",
       "      <th>mean</th>\n",
       "      <th>median</th>\n",
       "    </tr>\n",
       "    <tr>\n",
       "      <th>missing_demogs</th>\n",
       "      <th></th>\n",
       "      <th></th>\n",
       "    </tr>\n",
       "  </thead>\n",
       "  <tbody>\n",
       "    <tr>\n",
       "      <th>missing</th>\n",
       "      <td>1.750990</td>\n",
       "      <td>0.355636</td>\n",
       "    </tr>\n",
       "    <tr>\n",
       "      <th>not missing</th>\n",
       "      <td>5.168997</td>\n",
       "      <td>4.570000</td>\n",
       "    </tr>\n",
       "  </tbody>\n",
       "</table>\n",
       "</div>"
      ],
      "text/plain": [
       "               incremental_spend          \n",
       "                            mean    median\n",
       "missing_demogs                            \n",
       "missing                 1.750990  0.355636\n",
       "not missing             5.168997  4.570000"
      ]
     },
     "execution_count": 48,
     "metadata": {},
     "output_type": "execute_result"
    }
   ],
   "source": [
    "# Check mean and median incremental spend\n",
    "analysis_df_t[['missing_demogs', 'incremental_spend']].groupby(\n",
    "    ['missing_demogs']).agg({'incremental_spend': [np.mean, np.median]})"
   ]
  },
  {
   "cell_type": "code",
   "execution_count": 49,
   "id": "e235f091",
   "metadata": {},
   "outputs": [
    {
     "name": "stdout",
     "output_type": "stream",
     "text": [
      "p-value:  5.670583761936881e-197\n"
     ]
    }
   ],
   "source": [
    "# Test if medians are statistically signifcantly different\n",
    "demog = make_array(demog)\n",
    "missing_demog = make_array(missing_demog)\n",
    "statistic, pvalue = stats.mannwhitneyu(demog, missing_demog)\n",
    "print(\"p-value: \", pvalue)"
   ]
  },
  {
   "cell_type": "code",
   "execution_count": 50,
   "id": "c6568d12",
   "metadata": {},
   "outputs": [
    {
     "data": {
      "text/plain": [
       "<AxesSubplot:xlabel='missing_demogs', ylabel='was_completed'>"
      ]
     },
     "execution_count": 50,
     "metadata": {},
     "output_type": "execute_result"
    },
    {
     "data": {
      "image/png": "[encoded data removed]",
      "text/plain": [
       "<Figure size 432x288 with 1 Axes>"
      ]
     },
     "metadata": {
      "needs_background": "light"
     },
     "output_type": "display_data"
    }
   ],
   "source": [
    "# Examine offer completion\n",
    "sns.barplot(x=analysis_df_t['missing_demogs'],\n",
    "            y=analysis_df_t['was_completed'], palette=\"Blues_d\")"
   ]
  },
  {
   "cell_type": "code",
   "execution_count": 51,
   "id": "1935150b",
   "metadata": {},
   "outputs": [],
   "source": [
    "# Clean dataset\n",
    "analysis_df_t = analysis_df_t.loc[analysis_df_t['missing_demogs']\n",
    "                                  == 'not missing']"
   ]
  },
  {
   "cell_type": "markdown",
   "id": "c74488c9",
   "metadata": {},
   "source": [
    "## Create derived variables as potential model inputs"
   ]
  },
  {
   "cell_type": "markdown",
   "id": "8ff34d15",
   "metadata": {},
   "source": [
    "#### number of offers aware of before"
   ]
  },
  {
   "cell_type": "code",
   "execution_count": 52,
   "id": "666a3c64",
   "metadata": {
    "scrolled": true
   },
   "outputs": [],
   "source": [
    "# [17]\n",
    "analysis_df_t['offer_aware_of_before'] = analysis_df_t.groupby(\n",
    "    ['person'])['offer viewed'].rank(method='dense')-1"
   ]
  },
  {
   "cell_type": "markdown",
   "id": "b7af0132",
   "metadata": {},
   "source": [
    "#### number of offers completed before"
   ]
  },
  {
   "cell_type": "code",
   "execution_count": 53,
   "id": "09250cb0",
   "metadata": {
    "scrolled": false
   },
   "outputs": [
    {
     "name": "stderr",
     "output_type": "stream",
     "text": [
      "C:\\Users\\j\\Python\\lib\\site-packages\\ipykernel_launcher.py:4: SettingWithCopyWarning: \n",
      "A value is trying to be set on a copy of a slice from a DataFrame.\n",
      "Try using .loc[row_indexer,col_indexer] = value instead\n",
      "\n",
      "See the caveats in the documentation: https://pandas.pydata.org/pandas-docs/stable/user_guide/indexing.html#returning-a-view-versus-a-copy\n",
      "  after removing the cwd from sys.path.\n"
     ]
    }
   ],
   "source": [
    "# For all offers that were completed, assess how many offers were completed before\n",
    "completed_subset = analysis_df_t.loc[analysis_df_t['was_completed'] == 1]\n",
    "completed_subset['offers_completed_before'] = analysis_df_t.groupby(\n",
    "    ['person'])['offer completed'].rank(method='dense')-1\n",
    "completed_subset = completed_subset[['block_id', 'offers_completed_before']]"
   ]
  },
  {
   "cell_type": "code",
   "execution_count": 54,
   "id": "fe1c09f0",
   "metadata": {
    "scrolled": true
   },
   "outputs": [],
   "source": [
    "# Add this information to the analysis dataframe - need to fill in missing values for offers that were not completed\n",
    "analysis_df_t = pd.merge(analysis_df_t, completed_subset,\n",
    "                         how='left', right_on='block_id', left_on='block_id')"
   ]
  },
  {
   "cell_type": "code",
   "execution_count": 55,
   "id": "50fa9f5b",
   "metadata": {},
   "outputs": [],
   "source": [
    "# Sort dataframe so that offers appear in logical time-based order\n",
    "analysis_df_t = analysis_df_t.sort_values(\n",
    "    by=['person', 'offer viewed'], ascending=True)"
   ]
  },
  {
   "cell_type": "code",
   "execution_count": 56,
   "id": "4fa10dbc",
   "metadata": {},
   "outputs": [],
   "source": [
    "# Create list of all person ids\n",
    "all_people = analysis_df_t['person'].drop_duplicates().tolist()"
   ]
  },
  {
   "cell_type": "code",
   "execution_count": 57,
   "id": "754d1b93",
   "metadata": {
    "scrolled": true
   },
   "outputs": [],
   "source": [
    "# Allocate correct number of \"offers completed before\" to every block_id that was not completed itself; need to loop through 'person' to do so\n",
    "# [18]\n",
    "offers_completed_before_dict = dict()\n",
    "for person in all_people:\n",
    "    df = analysis_df_t.loc[analysis_df_t['person'] == person]\n",
    "    df = df.sort_values(by=['person', 'offer viewed'], ascending=True)\n",
    "    df['offers_completed_before'] = df['offers_completed_before'].fillna(\n",
    "        method='backfill')\n",
    "    try:\n",
    "        max_was_completed = df['was_completed'].sum()\n",
    "    except:\n",
    "        max_was_completed = 0\n",
    "    df['offers_completed_before'] = df['offers_completed_before'].fillna(\n",
    "        max_was_completed)\n",
    "    dictionary = dict(zip(df.block_id, df.offers_completed_before))\n",
    "    offers_completed_before_dict.update(dictionary)"
   ]
  },
  {
   "cell_type": "code",
   "execution_count": 58,
   "id": "bb7132bb",
   "metadata": {},
   "outputs": [],
   "source": [
    "# Add to analysis dataframe\n",
    "analysis_df_t['offers_completed_before'] = analysis_df_t['block_id'].map(\n",
    "    offers_completed_before_dict)"
   ]
  },
  {
   "cell_type": "code",
   "execution_count": 59,
   "id": "3a9c97a8",
   "metadata": {},
   "outputs": [
    {
     "data": {
      "text/plain": [
       "0"
      ]
     },
     "execution_count": 59,
     "metadata": {},
     "output_type": "execute_result"
    }
   ],
   "source": [
    "# Check that there are no missing values\n",
    "analysis_df_t['offers_completed_before'].isna().sum()"
   ]
  },
  {
   "cell_type": "markdown",
   "id": "9a325571",
   "metadata": {},
   "source": [
    "## Analyse potential input variables and their relation with incremental spend "
   ]
  },
  {
   "cell_type": "markdown",
   "id": "cf8ed9f1",
   "metadata": {},
   "source": [
    "### Demographic features"
   ]
  },
  {
   "cell_type": "markdown",
   "id": "91bdebb3",
   "metadata": {},
   "source": [
    "#### categorical variable\n",
    "Females show a higher incremental spend than males. The customers who chose \"Other\" have a mean incremental spend tat is a bit higher than that of the males. However, as there are only few customers, the confidence interval (see black gar) is wide."
   ]
  },
  {
   "cell_type": "code",
   "execution_count": 60,
   "id": "9b8280e9",
   "metadata": {
    "scrolled": false
   },
   "outputs": [
    {
     "data": {
      "text/html": [
       "<div>\n",
       "<style scoped>\n",
       "    .dataframe tbody tr th:only-of-type {\n",
       "        vertical-align: middle;\n",
       "    }\n",
       "\n",
       "    .dataframe tbody tr th {\n",
       "        vertical-align: top;\n",
       "    }\n",
       "\n",
       "    .dataframe thead tr th {\n",
       "        text-align: left;\n",
       "    }\n",
       "\n",
       "    .dataframe thead tr:last-of-type th {\n",
       "        text-align: right;\n",
       "    }\n",
       "</style>\n",
       "<table border=\"1\" class=\"dataframe\">\n",
       "  <thead>\n",
       "    <tr>\n",
       "      <th></th>\n",
       "      <th colspan=\"3\" halign=\"left\">incremental_spend</th>\n",
       "    </tr>\n",
       "    <tr>\n",
       "      <th></th>\n",
       "      <th>mean</th>\n",
       "      <th>median</th>\n",
       "      <th>size</th>\n",
       "    </tr>\n",
       "    <tr>\n",
       "      <th>gender</th>\n",
       "      <th></th>\n",
       "      <th></th>\n",
       "      <th></th>\n",
       "    </tr>\n",
       "  </thead>\n",
       "  <tbody>\n",
       "    <tr>\n",
       "      <th>F</th>\n",
       "      <td>6.084897</td>\n",
       "      <td>6.090581</td>\n",
       "      <td>14417.0</td>\n",
       "    </tr>\n",
       "    <tr>\n",
       "      <th>M</th>\n",
       "      <td>4.546816</td>\n",
       "      <td>3.807713</td>\n",
       "      <td>21003.0</td>\n",
       "    </tr>\n",
       "    <tr>\n",
       "      <th>O</th>\n",
       "      <td>4.924140</td>\n",
       "      <td>4.787869</td>\n",
       "      <td>559.0</td>\n",
       "    </tr>\n",
       "  </tbody>\n",
       "</table>\n",
       "</div>"
      ],
      "text/plain": [
       "       incremental_spend                   \n",
       "                    mean    median     size\n",
       "gender                                     \n",
       "F               6.084897  6.090581  14417.0\n",
       "M               4.546816  3.807713  21003.0\n",
       "O               4.924140  4.787869    559.0"
      ]
     },
     "execution_count": 60,
     "metadata": {},
     "output_type": "execute_result"
    }
   ],
   "source": [
    "analysis_df_t[['gender', 'incremental_spend']].groupby(['gender']).agg(\n",
    "    {'incremental_spend': [np.mean, np.median, np.size]})"
   ]
  },
  {
   "cell_type": "code",
   "execution_count": 61,
   "id": "33dc61ba",
   "metadata": {},
   "outputs": [
    {
     "data": {
      "text/plain": [
       "<AxesSubplot:xlabel='gender', ylabel='incremental_spend'>"
      ]
     },
     "execution_count": 61,
     "metadata": {},
     "output_type": "execute_result"
    },
    {
     "data": {
      "image/png": "[encoded data removed]",
      "text/plain": [
       "<Figure size 432x288 with 1 Axes>"
      ]
     },
     "metadata": {
      "needs_background": "light"
     },
     "output_type": "display_data"
    }
   ],
   "source": [
    "sns.barplot(x=analysis_df_t['gender'],\n",
    "            y=analysis_df_t['incremental_spend'], palette=\"Blues_d\")"
   ]
  },
  {
   "cell_type": "markdown",
   "id": "f946264a",
   "metadata": {},
   "source": [
    "#### continuous variables\n",
    "The correlation with age is minimal. There is a very low positive correlation with income, where a higher income is associated with higher incremental spend. The strongest, albeit still weak relationship exists with membership duration. The longer someone has been a member, the higher the incremental spend. Visually in the scatterplots, these relationships are not visible at all."
   ]
  },
  {
   "cell_type": "code",
   "execution_count": 62,
   "id": "b5ea7a17",
   "metadata": {
    "scrolled": true
   },
   "outputs": [
    {
     "data": {
      "text/plain": [
       "age                      84\n",
       "income                   91\n",
       "membership_duration    1702\n",
       "dtype: int64"
      ]
     },
     "execution_count": 62,
     "metadata": {},
     "output_type": "execute_result"
    }
   ],
   "source": [
    "analysis_df_t[['age', 'income', 'membership_duration']].nunique()"
   ]
  },
  {
   "cell_type": "code",
   "execution_count": 63,
   "id": "eb506688",
   "metadata": {
    "scrolled": false
   },
   "outputs": [
    {
     "data": {
      "text/html": [
       "<div>\n",
       "<style scoped>\n",
       "    .dataframe tbody tr th:only-of-type {\n",
       "        vertical-align: middle;\n",
       "    }\n",
       "\n",
       "    .dataframe tbody tr th {\n",
       "        vertical-align: top;\n",
       "    }\n",
       "\n",
       "    .dataframe thead th {\n",
       "        text-align: right;\n",
       "    }\n",
       "</style>\n",
       "<table border=\"1\" class=\"dataframe\">\n",
       "  <thead>\n",
       "    <tr style=\"text-align: right;\">\n",
       "      <th></th>\n",
       "      <th>age</th>\n",
       "      <th>income</th>\n",
       "      <th>membership_duration</th>\n",
       "      <th>incremental_spend</th>\n",
       "    </tr>\n",
       "  </thead>\n",
       "  <tbody>\n",
       "    <tr>\n",
       "      <th>age</th>\n",
       "      <td>1.000000</td>\n",
       "      <td>0.286271</td>\n",
       "      <td>-0.007304</td>\n",
       "      <td>0.034356</td>\n",
       "    </tr>\n",
       "    <tr>\n",
       "      <th>income</th>\n",
       "      <td>0.286271</td>\n",
       "      <td>1.000000</td>\n",
       "      <td>-0.006320</td>\n",
       "      <td>0.110065</td>\n",
       "    </tr>\n",
       "    <tr>\n",
       "      <th>membership_duration</th>\n",
       "      <td>-0.007304</td>\n",
       "      <td>-0.006320</td>\n",
       "      <td>1.000000</td>\n",
       "      <td>-0.148675</td>\n",
       "    </tr>\n",
       "    <tr>\n",
       "      <th>incremental_spend</th>\n",
       "      <td>0.034356</td>\n",
       "      <td>0.110065</td>\n",
       "      <td>-0.148675</td>\n",
       "      <td>1.000000</td>\n",
       "    </tr>\n",
       "  </tbody>\n",
       "</table>\n",
       "</div>"
      ],
      "text/plain": [
       "                          age    income  membership_duration  \\\n",
       "age                  1.000000  0.286271            -0.007304   \n",
       "income               0.286271  1.000000            -0.006320   \n",
       "membership_duration -0.007304 -0.006320             1.000000   \n",
       "incremental_spend    0.034356  0.110065            -0.148675   \n",
       "\n",
       "                     incremental_spend  \n",
       "age                           0.034356  \n",
       "income                        0.110065  \n",
       "membership_duration          -0.148675  \n",
       "incremental_spend             1.000000  "
      ]
     },
     "execution_count": 63,
     "metadata": {},
     "output_type": "execute_result"
    }
   ],
   "source": [
    "# correlation\n",
    "analysis_df_t[['age', 'income', 'membership_duration',\n",
    "               'incremental_spend']].corr()"
   ]
  },
  {
   "cell_type": "code",
   "execution_count": 64,
   "id": "9855008c",
   "metadata": {},
   "outputs": [
    {
     "data": {
      "image/png": "[encoded data removed]",
      "text/plain": [
       "<Figure size 1332x396 with 3 Axes>"
      ]
     },
     "metadata": {
      "needs_background": "light"
     },
     "output_type": "display_data"
    }
   ],
   "source": [
    "# Scatter plots\n",
    "fig, axs = plt.subplots(1, 3)\n",
    "fig.set_size_inches(18.5, 5.5)\n",
    "ax_age = axs[0].scatter(x=analysis_df_t['age'],\n",
    "                        y=analysis_df_t['incremental_spend'])\n",
    "ax_income = axs[1].scatter(x=analysis_df_t['income'],\n",
    "                           y=analysis_df_t['incremental_spend'])\n",
    "ax_mduration = axs[2].scatter(\n",
    "    x=analysis_df_t['membership_duration'], y=analysis_df_t['incremental_spend'])"
   ]
  },
  {
   "cell_type": "markdown",
   "id": "cefc9ff8",
   "metadata": {},
   "source": [
    "### Derived features\n",
    "**Avg. hourly spend during non-awareness:** The odd shape to the left of the graph appears because those with hourly spend 0 during non-awareness cannot possible have a negative incremental spend. There is no relationship between this variable and incremental spend.\n",
    "\n",
    "**Number of offers customer was aware of before:** From the barchart, it seems that having been aware of one offer before is associated with higher incremental spend. There could be a \"novelty effect\" where the incremental spend actually decreases the more offers people were aware of. However, the correlation only shows a very weak relationship between the variables.\n",
    "\n",
    "**Number of offers completed before:** Similar to the awareness, there seems to be a \"novelty effect\", but only a very weak correlation.\n",
    "\n",
    "To incorporate the \"novelty effect\" into the analysis, the two latter variables are recoded into categorical variables that will be used as dummies, with categories \"no previous offer\", \"one previous offer\", \"more than one previous offer\"."
   ]
  },
  {
   "cell_type": "markdown",
   "id": "12aad694",
   "metadata": {},
   "source": [
    "#### Average hourly spend during non-awareness"
   ]
  },
  {
   "cell_type": "code",
   "execution_count": 65,
   "id": "a21a538a",
   "metadata": {
    "scrolled": false
   },
   "outputs": [
    {
     "data": {
      "text/plain": [
       "<matplotlib.collections.PathCollection at 0x25679409fc8>"
      ]
     },
     "execution_count": 65,
     "metadata": {},
     "output_type": "execute_result"
    },
    {
     "data": {
      "image/png": "[encoded data removed]",
      "text/plain": [
       "<Figure size 432x288 with 1 Axes>"
      ]
     },
     "metadata": {
      "needs_background": "light"
     },
     "output_type": "display_data"
    }
   ],
   "source": [
    "plt.scatter(x=analysis_df_t['hourly_avg_during_nonawareness'],\n",
    "            y=analysis_df_t['incremental_spend'])"
   ]
  },
  {
   "cell_type": "code",
   "execution_count": 66,
   "id": "a5dfb519",
   "metadata": {},
   "outputs": [
    {
     "data": {
      "text/html": [
       "<div>\n",
       "<style scoped>\n",
       "    .dataframe tbody tr th:only-of-type {\n",
       "        vertical-align: middle;\n",
       "    }\n",
       "\n",
       "    .dataframe tbody tr th {\n",
       "        vertical-align: top;\n",
       "    }\n",
       "\n",
       "    .dataframe thead th {\n",
       "        text-align: right;\n",
       "    }\n",
       "</style>\n",
       "<table border=\"1\" class=\"dataframe\">\n",
       "  <thead>\n",
       "    <tr style=\"text-align: right;\">\n",
       "      <th></th>\n",
       "      <th>hourly_avg_during_nonawareness</th>\n",
       "      <th>incremental_spend</th>\n",
       "    </tr>\n",
       "  </thead>\n",
       "  <tbody>\n",
       "    <tr>\n",
       "      <th>hourly_avg_during_nonawareness</th>\n",
       "      <td>1.000000</td>\n",
       "      <td>-0.038221</td>\n",
       "    </tr>\n",
       "    <tr>\n",
       "      <th>incremental_spend</th>\n",
       "      <td>-0.038221</td>\n",
       "      <td>1.000000</td>\n",
       "    </tr>\n",
       "  </tbody>\n",
       "</table>\n",
       "</div>"
      ],
      "text/plain": [
       "                                hourly_avg_during_nonawareness  \\\n",
       "hourly_avg_during_nonawareness                        1.000000   \n",
       "incremental_spend                                    -0.038221   \n",
       "\n",
       "                                incremental_spend  \n",
       "hourly_avg_during_nonawareness          -0.038221  \n",
       "incremental_spend                        1.000000  "
      ]
     },
     "execution_count": 66,
     "metadata": {},
     "output_type": "execute_result"
    }
   ],
   "source": [
    "analysis_df_t[['hourly_avg_during_nonawareness', 'incremental_spend']].corr()"
   ]
  },
  {
   "cell_type": "markdown",
   "id": "52b0de61",
   "metadata": {},
   "source": [
    "#### Number of offers customer was aware of before"
   ]
  },
  {
   "cell_type": "code",
   "execution_count": 67,
   "id": "e47b6f47",
   "metadata": {
    "scrolled": true
   },
   "outputs": [
    {
     "data": {
      "text/html": [
       "<div>\n",
       "<style scoped>\n",
       "    .dataframe tbody tr th:only-of-type {\n",
       "        vertical-align: middle;\n",
       "    }\n",
       "\n",
       "    .dataframe tbody tr th {\n",
       "        vertical-align: top;\n",
       "    }\n",
       "\n",
       "    .dataframe thead th {\n",
       "        text-align: right;\n",
       "    }\n",
       "</style>\n",
       "<table border=\"1\" class=\"dataframe\">\n",
       "  <thead>\n",
       "    <tr style=\"text-align: right;\">\n",
       "      <th></th>\n",
       "      <th>offer_aware_of_before</th>\n",
       "      <th>incremental_spend</th>\n",
       "    </tr>\n",
       "  </thead>\n",
       "  <tbody>\n",
       "    <tr>\n",
       "      <th>offer_aware_of_before</th>\n",
       "      <td>1.00000</td>\n",
       "      <td>-0.02123</td>\n",
       "    </tr>\n",
       "    <tr>\n",
       "      <th>incremental_spend</th>\n",
       "      <td>-0.02123</td>\n",
       "      <td>1.00000</td>\n",
       "    </tr>\n",
       "  </tbody>\n",
       "</table>\n",
       "</div>"
      ],
      "text/plain": [
       "                       offer_aware_of_before  incremental_spend\n",
       "offer_aware_of_before                1.00000           -0.02123\n",
       "incremental_spend                   -0.02123            1.00000"
      ]
     },
     "execution_count": 67,
     "metadata": {},
     "output_type": "execute_result"
    }
   ],
   "source": [
    "analysis_df_t[['offer_aware_of_before', 'incremental_spend']].corr()"
   ]
  },
  {
   "cell_type": "code",
   "execution_count": 68,
   "id": "e7990453",
   "metadata": {
    "scrolled": false
   },
   "outputs": [
    {
     "data": {
      "text/plain": [
       "<AxesSubplot:xlabel='offer_aware_of_before', ylabel='incremental_spend'>"
      ]
     },
     "execution_count": 68,
     "metadata": {},
     "output_type": "execute_result"
    },
    {
     "data": {
      "image/png": "[encoded data removed]",
      "text/plain": [
       "<Figure size 432x288 with 1 Axes>"
      ]
     },
     "metadata": {
      "needs_background": "light"
     },
     "output_type": "display_data"
    }
   ],
   "source": [
    "sns.barplot(x=analysis_df_t['offer_aware_of_before'],\n",
    "            y=analysis_df_t['incremental_spend'], palette=\"Blues_d\")"
   ]
  },
  {
   "cell_type": "markdown",
   "id": "d09ae936",
   "metadata": {},
   "source": [
    "#### Number of offers completed before"
   ]
  },
  {
   "cell_type": "code",
   "execution_count": 69,
   "id": "f61fe87d",
   "metadata": {
    "scrolled": true
   },
   "outputs": [
    {
     "data": {
      "text/html": [
       "<div>\n",
       "<style scoped>\n",
       "    .dataframe tbody tr th:only-of-type {\n",
       "        vertical-align: middle;\n",
       "    }\n",
       "\n",
       "    .dataframe tbody tr th {\n",
       "        vertical-align: top;\n",
       "    }\n",
       "\n",
       "    .dataframe thead th {\n",
       "        text-align: right;\n",
       "    }\n",
       "</style>\n",
       "<table border=\"1\" class=\"dataframe\">\n",
       "  <thead>\n",
       "    <tr style=\"text-align: right;\">\n",
       "      <th></th>\n",
       "      <th>offers_completed_before</th>\n",
       "      <th>incremental_spend</th>\n",
       "    </tr>\n",
       "  </thead>\n",
       "  <tbody>\n",
       "    <tr>\n",
       "      <th>offers_completed_before</th>\n",
       "      <td>1.000000</td>\n",
       "      <td>0.057422</td>\n",
       "    </tr>\n",
       "    <tr>\n",
       "      <th>incremental_spend</th>\n",
       "      <td>0.057422</td>\n",
       "      <td>1.000000</td>\n",
       "    </tr>\n",
       "  </tbody>\n",
       "</table>\n",
       "</div>"
      ],
      "text/plain": [
       "                         offers_completed_before  incremental_spend\n",
       "offers_completed_before                 1.000000           0.057422\n",
       "incremental_spend                       0.057422           1.000000"
      ]
     },
     "execution_count": 69,
     "metadata": {},
     "output_type": "execute_result"
    }
   ],
   "source": [
    "analysis_df_t[['offers_completed_before', 'incremental_spend']].corr()"
   ]
  },
  {
   "cell_type": "code",
   "execution_count": 70,
   "id": "f6e17732",
   "metadata": {},
   "outputs": [
    {
     "data": {
      "text/plain": [
       "<AxesSubplot:xlabel='offers_completed_before', ylabel='incremental_spend'>"
      ]
     },
     "execution_count": 70,
     "metadata": {},
     "output_type": "execute_result"
    },
    {
     "data": {
      "image/png": "[encoded data removed]",
      "text/plain": [
       "<Figure size 432x288 with 1 Axes>"
      ]
     },
     "metadata": {
      "needs_background": "light"
     },
     "output_type": "display_data"
    }
   ],
   "source": [
    "sns.barplot(x=analysis_df_t['offers_completed_before'],\n",
    "            y=analysis_df_t['incremental_spend'], palette=\"Blues_d\")"
   ]
  },
  {
   "cell_type": "markdown",
   "id": "071515b1",
   "metadata": {},
   "source": [
    "#### Recode number of offer aware before and number of offers completed before"
   ]
  },
  {
   "cell_type": "code",
   "execution_count": 71,
   "id": "56dff46d",
   "metadata": {},
   "outputs": [],
   "source": [
    "# Directly coding dummies\n",
    "analysis_df_t['aware_before_0'] = 0\n",
    "analysis_df_t.loc[analysis_df_t['offer_aware_of_before']\n",
    "                  == 0, 'aware_before_0'] = 1\n",
    "analysis_df_t['aware_before_1'] = 0\n",
    "analysis_df_t.loc[analysis_df_t['offer_aware_of_before']\n",
    "                  == 1, 'aware_before_1'] = 1\n",
    "\n",
    "analysis_df_t['completed_before_0'] = 0\n",
    "analysis_df_t.loc[analysis_df_t['offers_completed_before']\n",
    "                  == 0, 'completed_before_0'] = 1\n",
    "analysis_df_t['completed_before_1'] = 0\n",
    "analysis_df_t.loc[analysis_df_t['offers_completed_before']\n",
    "                  == 1, 'completed_before_1'] = 1"
   ]
  },
  {
   "cell_type": "markdown",
   "id": "387e7516",
   "metadata": {},
   "source": [
    "## Data recoding and standardization"
   ]
  },
  {
   "cell_type": "markdown",
   "id": "608df9c8",
   "metadata": {},
   "source": [
    "### Recode categorical variables into dummy variables"
   ]
  },
  {
   "cell_type": "code",
   "execution_count": 72,
   "id": "cb4136d0",
   "metadata": {},
   "outputs": [],
   "source": [
    "# Dummy code the gender\n",
    "analysis_df_t = pd.merge(analysis_df_t, pd.get_dummies(\n",
    "    analysis_df_t['gender']), left_index=True, right_index=True)"
   ]
  },
  {
   "cell_type": "code",
   "execution_count": 73,
   "id": "05f2385d",
   "metadata": {},
   "outputs": [],
   "source": [
    "# Dummy code the offer\n",
    "analysis_df_t = pd.merge(analysis_df_t, pd.get_dummies(\n",
    "    analysis_df_t['offer_descriptor']), left_index=True, right_index=True)"
   ]
  },
  {
   "cell_type": "markdown",
   "id": "216dd690",
   "metadata": {},
   "source": [
    "### Standardization of continuous variables"
   ]
  },
  {
   "cell_type": "code",
   "execution_count": 74,
   "id": "d58b25c8",
   "metadata": {},
   "outputs": [],
   "source": [
    "mean_income = analysis_df_t['income'].mean()\n",
    "std_income = analysis_df_t['income'].std()\n",
    "analysis_df_t['income_standardised'] = (\n",
    "    analysis_df_t['income'] - mean_income)/std_income"
   ]
  },
  {
   "cell_type": "code",
   "execution_count": 75,
   "id": "e6e44ea0",
   "metadata": {},
   "outputs": [],
   "source": [
    "mean_membership_duration = analysis_df_t['membership_duration'].mean()\n",
    "std_membership_duration = analysis_df_t['membership_duration'].std()\n",
    "analysis_df_t['membership_duration_standardised'] = (\n",
    "    analysis_df_t['membership_duration'] - mean_membership_duration)/std_membership_duration"
   ]
  },
  {
   "cell_type": "markdown",
   "id": "59f788c2",
   "metadata": {},
   "source": [
    "## Q2: Predictive Modelling"
   ]
  },
  {
   "cell_type": "markdown",
   "id": "bc15b29b",
   "metadata": {},
   "source": [
    "The number of available features is low. Hence, no algorithms like e.g. ridge regression which help to reduce the number of features are required.\n",
    "\n",
    "Variables to consider:\n",
    "\n",
    "**Demographics:**\n",
    "* gender (categorical)\n",
    "* membership duration (continuous)\n",
    "* income (continuous)\n",
    "* EXCLUDING: age, as the correlation shows no relationship\n",
    "\n",
    "**Offer type and attributes:**\n",
    "* offer_descriptor (same as event_offer_id) (categorical)\n",
    "* EXCLUDING: Attributes, as there would be a problem of multicollinearity. There are too few combinations of attributes, meaning for instance that a reward of 10 is *always* a BOGO; a difficulty of 20 is *always* one specific discount; a short duration is *always* an informational offer. One could exclude the type of offer to reduce the problem. However, from previous analysis it seems that the offer type  is a relevant variable. By using the offer_descriptor, i.e. all 10 offers, at least some information on the attributes is retained.\n",
    "\n",
    "**Derived metrics**\n",
    "* has completed offer before (categorical)\n",
    "* was aware of offer before (categorical)\n",
    "* EXCLUDING: hourly_avg_during_nonawareness, as there is no relationship >> Check this is the right variable\n",
    "\n",
    "\n",
    "Overall, based on the previous examination, none of the independent variables seems to be a very strong predictor for incremental spend. Hence, a high R-squared is not expected."
   ]
  },
  {
   "cell_type": "markdown",
   "id": "7bb520bc",
   "metadata": {},
   "source": [
    "### Model with incremental spend as independent variable"
   ]
  },
  {
   "cell_type": "markdown",
   "id": "89c13d88",
   "metadata": {},
   "source": [
    "#### Multiple regression model\n",
    "a simple multiple regression model leads to a very poor R-squared of 0.05."
   ]
  },
  {
   "cell_type": "code",
   "execution_count": 76,
   "id": "9048ccdb",
   "metadata": {
    "scrolled": false
   },
   "outputs": [
    {
     "name": "stdout",
     "output_type": "stream",
     "text": [
      "Coefficients: \n",
      " [ 1.19661451 -1.65574292  0.87427836 -0.0421547   3.18331248  2.4017546\n",
      "  1.34990891  1.50578041  2.06013694  3.74858539  5.66579858  2.47130377\n",
      "  0.99272491  1.51647053  1.18099026 -2.67437505 -0.71443981]\n",
      "Mean squared error: 145.27\n",
      "R-squared: 0.05\n",
      "Intercept:  3.716565544550432\n"
     ]
    }
   ],
   "source": [
    "# [9][10]\n",
    "# Separate input features from target\n",
    "y = analysis_df_t['incremental_spend']\n",
    "X = analysis_df_t[['income_standardised',\n",
    "                   'membership_duration_standardised',\n",
    "                   'F',\n",
    "                   'M',\n",
    "                   'bogo_10_10_3',\n",
    "                   'bogo_10_10_4',\n",
    "                   'bogo_5_5_3',\n",
    "                   'bogo_5_5_4',\n",
    "                   'disc_10_2_3',\n",
    "                   'disc_10_2_4',\n",
    "                   'disc_20_5_2',\n",
    "                   'disc_7_3_4',\n",
    "                   'info_0_0_2',\n",
    "                   'aware_before_0',\n",
    "                   'aware_before_1',\n",
    "                   'completed_before_0',\n",
    "                   'completed_before_1'\n",
    "                   ]]\n",
    "\n",
    "# Set up testing and training sets\n",
    "X_train, X_test, y_train, y_test = train_test_split(\n",
    "    X, y, test_size=0.25, random_state=32)\n",
    "\n",
    "# Train\n",
    "regr = linear_model.LinearRegression()\n",
    "regr.fit(X_train, y_train)\n",
    "\n",
    "# Predict\n",
    "y_pred = regr.predict(X_test)\n",
    "\n",
    "# Evaluate\n",
    "print(\"Coefficients: \\n\", regr.coef_)\n",
    "print(\"Mean squared error: %.2f\" % mean_squared_error(y_test, y_pred))\n",
    "print(\"R-squared: %.2f\" % r2_score(y_test, y_pred))\n",
    "print(\"Intercept: \", regr.intercept_)"
   ]
  },
  {
   "cell_type": "markdown",
   "id": "2cb596e8",
   "metadata": {},
   "source": [
    "#### Regression Tree\n",
    "leads to a negative score, meaning that even a horizontal line would better fit the testing data [12]"
   ]
  },
  {
   "cell_type": "code",
   "execution_count": 77,
   "id": "a15f6d20",
   "metadata": {},
   "outputs": [
    {
     "name": "stdout",
     "output_type": "stream",
     "text": [
      "MODEL SCORE\n",
      "-0.8552266446131285\n"
     ]
    }
   ],
   "source": [
    "# [11]\n",
    "# Train\n",
    "regr = DecisionTreeRegressor(random_state=0)\n",
    "regr.fit(X_train, y_train)\n",
    "\n",
    "# Predict\n",
    "y_pred = regr.predict(X_test)\n",
    "\n",
    "# Evaluate\n",
    "score = regr.score(X_test, y_test)\n",
    "print(\"MODEL SCORE\")\n",
    "print(score)"
   ]
  },
  {
   "cell_type": "markdown",
   "id": "c22bb8bc",
   "metadata": {},
   "source": [
    "### Model with offer completion as independent variable.\n",
    "This means that informational offers are excluded. The data is not imbalanced because only people who were aware of an offer are included in the sample."
   ]
  },
  {
   "cell_type": "code",
   "execution_count": 92,
   "id": "308a1116",
   "metadata": {},
   "outputs": [],
   "source": [
    "# Creating dataframe without informational offers, as these cannot be completed\n",
    "analysis_df_t_completes = analysis_df_t[['was_completed', 'income_standardised',\n",
    "                                         'membership_duration_standardised',\n",
    "                                         'F',\n",
    "                                         'M',\n",
    "                                         'bogo_10_10_3',\n",
    "                                         'bogo_10_10_4',\n",
    "                                         'bogo_5_5_3',\n",
    "                                         'bogo_5_5_4',\n",
    "                                         'disc_10_2_3',\n",
    "                                         'disc_10_2_4',\n",
    "                                         'disc_20_5_2',\n",
    "                                         'disc_7_3_4',\n",
    "                                         'info_0_0_2',\n",
    "                                         'aware_before_0',\n",
    "                                         'aware_before_1',\n",
    "                                         'completed_before_0',\n",
    "                                         'completed_before_1']].loc[analysis_df_t['offer_type'] != 'informational']"
   ]
  },
  {
   "cell_type": "code",
   "execution_count": 93,
   "id": "d7c66da2",
   "metadata": {
    "scrolled": true
   },
   "outputs": [],
   "source": [
    "# [19]\n",
    "analysis_df_t_completes = analysis_df_t_completes.astype({'was_completed':int})"
   ]
  },
  {
   "cell_type": "code",
   "execution_count": 94,
   "id": "051f147c",
   "metadata": {
    "scrolled": false
   },
   "outputs": [
    {
     "data": {
      "image/png": "[encoded data removed]",
      "text/plain": [
       "<Figure size 432x288 with 1 Axes>"
      ]
     },
     "metadata": {
      "needs_background": "light"
     },
     "output_type": "display_data"
    }
   ],
   "source": [
    "# Check share of completes for each offer type. Data is not imbalanced.\n",
    "grp_order = analysis_df_t.loc[analysis_df_t['offer_type'] != 'informational'].groupby(\n",
    "    'offer_descriptor').was_completed.agg('mean').sort_values(ascending=False).index\n",
    "sns.barplot(x=analysis_df_t.loc[analysis_df_t['offer_type'] != 'informational']['offer_descriptor'],\n",
    "            y=analysis_df_t.loc[analysis_df_t['offer_type'] != 'informational']['was_completed'], order=grp_order, palette=\"Blues_d\")\n",
    "plt.xticks(rotation=90)\n",
    "plt.tight_layout()"
   ]
  },
  {
   "cell_type": "markdown",
   "id": "496295b0",
   "metadata": {},
   "source": [
    "### GridSearch with Pipeline to test multiple models and parameters to find best model"
   ]
  },
  {
   "cell_type": "code",
   "execution_count": 96,
   "id": "34090b55",
   "metadata": {},
   "outputs": [],
   "source": [
    "# Separate input features from target\n",
    "y = analysis_df_t_completes['was_completed']\n",
    "X = analysis_df_t_completes[['income_standardised',\n",
    "                   'membership_duration_standardised',\n",
    "                   'F',\n",
    "                   'M',\n",
    "                   'bogo_10_10_3',\n",
    "                   'bogo_10_10_4',\n",
    "                   'bogo_5_5_3',\n",
    "                   'bogo_5_5_4',\n",
    "                   'disc_10_2_3',\n",
    "                   'disc_10_2_4',\n",
    "                   'disc_20_5_2',\n",
    "                   'disc_7_3_4',\n",
    "                   'info_0_0_2',\n",
    "                   'aware_before_0',\n",
    "                   'aware_before_1',\n",
    "                   'completed_before_0',\n",
    "                   'completed_before_1'\n",
    "                   ]]\n",
    "\n",
    "# Set up testing and training sets\n",
    "X_train, X_test, y_train, y_test = train_test_split(\n",
    "    X, y, test_size=0.25, random_state=32)"
   ]
  },
  {
   "cell_type": "code",
   "execution_count": 98,
   "id": "e9ae5aba",
   "metadata": {},
   "outputs": [
    {
     "name": "stdout",
     "output_type": "stream",
     "text": [
      "Fitting 2 folds for each of 10 candidates, totalling 20 fits\n",
      "{'classifier': KNeighborsClassifier(n_neighbors=9), 'classifier__n_neighbors': 9} \n",
      "\n"
     ]
    }
   ],
   "source": [
    "# [13][14]\n",
    "pipe = Pipeline([('classifier', RandomForestClassifier())])\n",
    "\n",
    "param_grid = [{'classifier': [LogisticRegression(random_state=0)],\n",
    "               'classifier__solver': ['newton-cg', 'lbfgs', 'liblinear'],\n",
    "               },\n",
    "              {'classifier': [RandomForestClassifier(random_state=0)],\n",
    "               'classifier__n_estimators': [10, 100],\n",
    "               'classifier__max_features': [1, 2]\n",
    "               },\n",
    "              {'classifier': [KNeighborsClassifier()],\n",
    "               'classifier__n_neighbors': [3, 5, 9]}]\n",
    "\n",
    "model_g = GridSearchCV(pipe, param_grid, cv=2, verbose=3,\n",
    "                       n_jobs=-1, scoring='accuracy')\n",
    "\n",
    "model_g_fitted = model_g.fit(X_train, y_train)\n",
    "\n",
    "# best parameters\n",
    "print(model_g.best_params_, \"\\n\")\n",
    "\n",
    "# predict\n",
    "y_pred_g = model_g.predict(X_test)"
   ]
  },
  {
   "cell_type": "markdown",
   "id": "1de7032c",
   "metadata": {},
   "source": [
    "#### Evaluate the model:\n",
    "[15][16]\n",
    "\n",
    "The key metric by which the best model should be identified  always depends on the specific situation. Is it more important for the company to find everyone who might complete the offer? This would be desirable if the cost of sending out offers is minimal. Then a high recall for was_completed = 1 is needed. Or is the cost of sending out an offer high, so that it is key to only send it to people will will complete it? Then a high precision is desirable. As the specific situation is unknown, the models will be evaluated based on high accuracy. This is a simple evaluation metric that assesses the share of records that was correctly allocated. "
   ]
  },
  {
   "cell_type": "code",
   "execution_count": 99,
   "id": "75a4c8c0",
   "metadata": {
    "scrolled": true
   },
   "outputs": [
    {
     "name": "stdout",
     "output_type": "stream",
     "text": [
      "Best result: Accuracy on train set of  0.718584 with {'classifier': KNeighborsClassifier(n_neighbors=9), 'classifier__n_neighbors': 9} \n",
      "\n",
      "ACCURACY ON TEST SET\n",
      "0.7244590915603955 \n",
      "\n",
      "CONFUSION MATRIX\n",
      "[[3273  930]\n",
      " [ 993 1783]] \n",
      "\n",
      "CLASSIFICATION REPORT\n",
      "Recall:    How many of this class out of all in this class did I find?\n",
      "Precision: How many that I classified as this class actually belong to this class?\n",
      "              precision    recall  f1-score   support\n",
      "\n",
      "           0       0.66      0.64      0.65      2776\n",
      "           1       0.77      0.78      0.77      4203\n",
      "\n",
      "    accuracy                           0.72      6979\n",
      "   macro avg       0.71      0.71      0.71      6979\n",
      "weighted avg       0.72      0.72      0.72      6979\n",
      " \n",
      "\n"
     ]
    }
   ],
   "source": [
    "# Best model based on GridSearch results\n",
    "print(\"Best result: Accuracy on train set of  %f with %s\" %\n",
    "      (model_g_fitted.best_score_, model_g_fitted.best_params_), \"\\n\")\n",
    "\n",
    "# Evaluation of the model\n",
    "score_g = model_g.score(X_test, y_test)\n",
    "print(\"ACCURACY ON TEST SET\")\n",
    "print(score_g, \"\\n\")\n",
    "\n",
    "cm_g = confusion_matrix(y_test, y_pred_g, labels=[1, 0])\n",
    "print(\"CONFUSION MATRIX\")\n",
    "print(cm_g, \"\\n\")\n",
    "\n",
    "cr_g = classification_report(y_test, y_pred_g)\n",
    "print(\"CLASSIFICATION REPORT\")\n",
    "print(\"Recall:    How many of this class out of all in this class did I find?\")\n",
    "print(\"Precision: How many that I classified as this class actually belong to this class?\")\n",
    "print(cr_g, \"\\n\")"
   ]
  },
  {
   "cell_type": "code",
   "execution_count": 101,
   "id": "16b1fb19",
   "metadata": {},
   "outputs": [
    {
     "data": {
      "image/png": "[encoded data removed]",
      "text/plain": [
       "<Figure size 432x288 with 1 Axes>"
      ]
     },
     "metadata": {
      "needs_background": "light"
     },
     "output_type": "display_data"
    }
   ],
   "source": [
    "# Source for code snippet: [16]\n",
    "logit_roc_auc = roc_auc_score(y_test, model_g.predict(X_test))\n",
    "fpr, tpr, thresholds = roc_curve(y_test, model_g.predict_proba(X_test)[:, 1])\n",
    "plt.figure()\n",
    "plt.plot(fpr, tpr, label='Logistic Regression (area = %0.2f)' % logit_roc_auc)\n",
    "plt.plot([0, 1], [0, 1], 'g--')\n",
    "plt.xlim([0.0, 1.0])\n",
    "plt.ylim([0.0, 1.0])\n",
    "plt.xlabel('False Positive Rate')\n",
    "plt.ylabel('True Positive Rate')\n",
    "plt.title('ROC graph')\n",
    "plt.legend(loc=\"lower right\")\n",
    "plt.show()"
   ]
  }
 ],
 "metadata": {
  "kernelspec": {
   "display_name": "Python 3",
   "language": "python",
   "name": "python3"
  },
  "language_info": {
   "codemirror_mode": {
    "name": "ipython",
    "version": 3
   },
   "file_extension": ".py",
   "mimetype": "text/x-python",
   "name": "python",
   "nbconvert_exporter": "python",
   "pygments_lexer": "ipython3",
   "version": "3.7.10"
  }
 },
 "nbformat": 4,
 "nbformat_minor": 5
}
